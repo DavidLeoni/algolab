{
 "cells": [
  {
   "cell_type": "code",
   "execution_count": 1,
   "metadata": {
    "collapsed": false
   },
   "outputs": [
    {
     "data": {
      "text/html": [
       "<style>\n",
       "\n",
       "    #algolab-nav {\n",
       "        position: fixed;\n",
       "        top: 10px; \n",
       "        left: 5px; \n",
       "        background: white;\n",
       "        width: 200px; \n",
       "        padding: 10px; \n",
       "        z-index: 10;\n",
       "    }\n",
       "\n",
       "    /* style=\"background: rgba(255, 255, 255, 0);\" class=\"unstyled\" */\n",
       "  \n",
       "    #algolab-toc {\n",
       "        position: fixed;\n",
       "        top: 100px; \n",
       "        left: -55px; \n",
       "        background: rgba(255, 255, 255, 0);\n",
       "        \n",
       "        height: 80%;\n",
       "        width: 200px; \n",
       "        padding: 20px; \n",
       "        z-index: 10;\n",
       "        overflow-y: scroll;        \n",
       "            /* font-size: 50%; */\n",
       "    }\n",
       "\n",
       "    \n",
       "    \n",
       "    code {\n",
       "        background-color:rgb(245, 249, 249) !important;\n",
       "    }\n",
       "    \n",
       "    \n",
       "    .algolab-nav-item {\n",
       "        font-weight:bold;\n",
       "        font-size:120%  \n",
       "    }\n",
       "    \n",
       "    .algolab-chapter-link {\n",
       "        font-size:150%;\n",
       "        margin-right:15px;        \n",
       "    }\n",
       "    \n",
       "    .algolab-chapter-link a {\n",
       "        text-decoration: none;\n",
       "    }    \n",
       "    \n",
       "    .algolab-title {\n",
       "        font-size:250%; \n",
       "        font-weight:bold        \n",
       "    }    \n",
       "        \n",
       "    .algolab-warn {    \n",
       "        background-color: #fcf2f2;        \n",
       "        border-left: 5px solid #dfb5b4;\n",
       "        padding: 1.5em;\n",
       "        font-weight:bold;\n",
       "        margin-bottom:10px;\n",
       "    }\n",
       "\n",
       "    .algolab-question {    \n",
       "        background-color: rgb(251, 231, 250);\n",
       "        border-left: 5px solid rgb(189, 151, 184);\n",
       "        padding: 1.5em;\n",
       "        font-weight:bold;\n",
       "        margin-bottom:10px;\n",
       "    }\n",
       "        \n",
       "    \n",
       "    .algolab-important {\n",
       "        background-color: rgba(255, 238, 0, 0.31);\n",
       "        border-left: 5px solid rgba(205, 208, 0, 1.0);\n",
       "        color: #000;        \n",
       "        padding: 1.5em;\n",
       "        font-weight:bold;\n",
       "        margin-bottom:10px;\n",
       "    }\n",
       "    \n",
       "    \n",
       "    #algolab-toc ul {                                                                                                                                                                           \n",
       "        list-style-type: none;                                                                                                                                                                 \n",
       "        margin-left: 5px;\n",
       "    }\n",
       "    \n",
       "    #algolab-toc li {        \n",
       "         padding-left: 3px;\n",
       "    }    \n",
       "    \n",
       "    #algolab-toc .h1 {\n",
       "        font-size:110%; \n",
       "        \n",
       "    }\n",
       "    \n",
       "    #algolab-toc .h2 {\n",
       "        font-size:100%; \n",
       "        padding-left:15px;\n",
       "    }\n",
       "\n",
       "    #algolab-toc .h3 {\n",
       "        font-size:100%; \n",
       "        padding-left:25px;\n",
       "    }\n",
       "    \n",
       "    \n",
       "    \n",
       "    #notebook-container {\n",
       "        box-shadow : none;\n",
       "\t-web-kit-box-shadow: none;\n",
       "    }\n",
       "    \n",
       "\n",
       "    #algolab-toc .toc-active {\n",
       "        background: rgba(168, 254, 255, 0.32);\n",
       "    }\n",
       " </style>\n",
       "\n",
       "<script>\n",
       "\n",
       "/*!\n",
       " * toc - jQuery Table of Contents Plugin\n",
       " * v0.3.2\n",
       " * http://projects.jga.me/toc/\n",
       " * copyright Greg Allen 2014\n",
       " * MIT License\n",
       "*/\n",
       "!function(a){a.fn.smoothScroller=function(b){b=a.extend({},a.fn.smoothScroller.defaults,b);var c=a(this);return a(b.scrollEl).animate({scrollTop:c.offset().top-a(b.scrollEl).offset().top-b.offset},b.speed,b.ease,function(){var a=c.attr(\"id\");a.length&&(history.pushState?history.pushState(null,null,\"#\"+a):document.location.hash=a),c.trigger(\"smoothScrollerComplete\")}),this},a.fn.smoothScroller.defaults={speed:400,ease:\"swing\",scrollEl:\"body,html\",offset:0},a(\"body\").on(\"click\",\"[data-smoothscroller]\",function(b){b.preventDefault();var c=a(this).attr(\"href\");0===c.indexOf(\"#\")&&a(c).smoothScroller()})}(jQuery),function(a){var b={};a.fn.toc=function(b){var c,d=this,e=a.extend({},jQuery.fn.toc.defaults,b),f=a(e.container),g=a(e.selectors,f),h=[],i=e.activeClass,j=function(b,c){if(e.smoothScrolling&&\"function\"==typeof e.smoothScrolling){b.preventDefault();var f=a(b.target).attr(\"href\");e.smoothScrolling(f,e,c)}a(\"li\",d).removeClass(i),a(b.target).parent().addClass(i)},k=function(){c&&clearTimeout(c),c=setTimeout(function(){for(var b,c=a(window).scrollTop(),f=Number.MAX_VALUE,g=0,j=0,k=h.length;k>j;j++){var l=Math.abs(h[j]-c);f>l&&(g=j,f=l)}a(\"li\",d).removeClass(i),b=a(\"li:eq(\"+g+\")\",d).addClass(i),e.onHighlight(b)},50)};return e.highlightOnScroll&&(a(window).bind(\"scroll\",k),k()),this.each(function(){var b=a(this),c=a(e.listType);g.each(function(d,f){var g=a(f);h.push(g.offset().top-e.highlightOffset);var i=e.anchorName(d,f,e.prefix);if(f.id!==i){a(\"<span/>\").attr(\"id\",i).insertBefore(g)}var l=a(\"<a/>\").text(e.headerText(d,f,g)).attr(\"href\",\"#\"+i).bind(\"click\",function(c){a(window).unbind(\"scroll\",k),j(c,function(){a(window).bind(\"scroll\",k)}),b.trigger(\"selected\",a(this).attr(\"href\"))}),m=a(\"<li/>\").addClass(e.itemClass(d,f,g,e.prefix)).append(l);c.append(m)}),b.html(c)})},jQuery.fn.toc.defaults={container:\"body\",listType:\"<ul/>\",selectors:\"h1,h2,h3\",smoothScrolling:function(b,c,d){a(b).smoothScroller({offset:c.scrollToOffset}).on(\"smoothScrollerComplete\",function(){d()})},scrollToOffset:0,prefix:\"toc\",activeClass:\"toc-active\",onHighlight:function(){},highlightOnScroll:!0,highlightOffset:100,anchorName:function(c,d,e){if(d.id.length)return d.id;var f=a(d).text().replace(/[^a-z0-9]/gi,\" \").replace(/\\s+/g,\"-\").toLowerCase();if(b[f]){for(var g=2;b[f+g];)g++;f=f+\"-\"+g}return b[f]=!0,e+\"-\"+f},headerText:function(a,b,c){return c.text()},itemClass:function(a,b,c,d){return d+\"-\"+c[0].tagName.toLowerCase()}}}(jQuery);\n",
       "\n",
       "function showthis(url) {\n",
       "    window.open(url, \"pres\", \"toolbar=yes,scrollbars=yes,resizable=yes,top=10,left=400,width=500,height=500\");\n",
       "    return(false);\n",
       "}\n",
       "\n",
       "var algolab = {\n",
       "    \n",
       "    isReduced : function(){\n",
       "        return $(window).width() < 924;\n",
       "    },\n",
       "    hoverToc : function(){\n",
       "        return $('#algolab-toc:hover').length != 0;\n",
       "    },\n",
       "    resize : function(){\n",
       "        if (algolab.isReduced()){\n",
       "            $(\"#algolab-toc\").hide();\n",
       "        } else {\n",
       "            $(\"#algolab-toc\").show();\n",
       "            $(\"#algolab-toc\").css(\"background\",\"rgba(255, 255, 255, 0)\");\n",
       "            \n",
       "            tocParams = {\n",
       "                \n",
       "                'selectors': 'h1,h2,h3', //elements to use as headings\n",
       "                'container': 'body', //element to find all selectors in\n",
       "                'smoothScrolling': true, //enable or disable smooth scrolling on click\n",
       "                 //doesn't work  'prefix': 'algolab-toc', //prefix for anchor tags and class names\n",
       "                //'onHighlight': function(el) {}, //called when a new section is highlighted \n",
       "                'highlightOnScroll': true, //add class to heading that is currently in focus\n",
       "                'highlightOffset': 100, //offset to trigger the next headline\n",
       "                'anchorName': function(i, heading, prefix) { //custom function for anchor name\n",
       "                    return prefix+i;\n",
       "                },\n",
       "                'headerText': function(i, heading, $heading) { //custom function building the header-item text                  \n",
       "                    return $heading.text().replace(\"¶\",\"\");\n",
       "                },\n",
       "                'itemClass': function(i, heading, $heading, prefix) { // custom function for item class\n",
       "                    return $heading[0].tagName.toLowerCase();\n",
       "                }                \n",
       "            }\n",
       "            \n",
       "            $('#algolab-toc').toc(tocParams);\n",
       "        }\n",
       "    },\n",
       "    hideCellStartingWith : function(text){\n",
       "        $('.border-box-sizing .code_cell pre').filter(function() { \n",
       "                return $(this).text().indexOf(text) === 0; \n",
       "            }).parents('div .cell .input').hide();        \n",
       "    },\n",
       "    \n",
       "    init : function(){\n",
       "\n",
       "       var toc = $(\"<div>\").attr(\"id\", \"algolab-toc\");              \n",
       "       var indexLink = $(\"<a>\")\n",
       "                        .addClass(\"algolab-nav-item\")\n",
       "                        .attr(\"href\",\"index.html#Chapters\")\n",
       "                        .text(\"Algolab\");\n",
       "       \n",
       "       \n",
       "       \n",
       "       var candidateTitleText = $(\".algolab-title\").text();              \n",
       "                                  \n",
       "                    \n",
       "       \n",
       "       var nav = $(\"<div>\")\n",
       "                     .attr(\"id\", \"algolab-nav\")\n",
       "                    .append(indexLink);       \n",
       "       \n",
       "       if (candidateTitleText.length !== 0){\n",
       "\n",
       "           var title = $(\"<span>\")\n",
       "                    .addClass(\"algolab-nav-item\")\n",
       "                    .css(\"padding-left\",\"8px\")\n",
       "                    .text(candidateTitleText);\n",
       "            nav.append(\"<br>\")\n",
       "                .append(\"<br>\")\n",
       "                .append(title);                                \n",
       "        }\n",
       "                     \n",
       "       \n",
       "       algolab.hideCellStartingWith(\"%%HTML\");\n",
       "       algolab.hideCellStartingWith(\"import algolab\");      \n",
       "       \n",
       "       algolab.hideCellStartingWith(\"algolab.init()\"); \n",
       "              \n",
       "       if ($(\"#algolab-toc\").length === 0){\n",
       "           $(\"body\").append(toc);       \n",
       "       } else {\n",
       "           $(\"#algolab-toc\").replaceWith(toc);\n",
       "       }\n",
       "       \n",
       "       if ($(\"#algolab-nav\").length === 0){\n",
       "           $(\"body\").append(nav);       \n",
       "       } else {\n",
       "           $(\"#algolab-nav\").replaceWith(nav);\n",
       "       }              \n",
       "       \n",
       "       algolab.resize();\n",
       "    }\n",
       "}\n",
       "\n",
       "$( window ).resize(function() {\n",
       "    algolab.resize();\n",
       "});\n",
       "\n",
       "\n",
       "$(\"body\").on(\"mousemove\",function(event) {\n",
       "    if (algolab.isReduced()){\n",
       "        if (event.pageX < 50) {            \n",
       "             $(\"#algolab-toc\").show(); \n",
       "            $(\"#algolab-toc\").css(\"background\",\"rgba(255, 255, 255, 1.0)\");\n",
       "        } else {\n",
       "            \n",
       "            if (algolab.hoverToc()) {                    \n",
       "            } else {\n",
       "                $(\"#algolab-toc\").hide();                        \n",
       "            }\n",
       "                     \n",
       "/*            if ($(\"#algolab-toc\").is(\":visible\")){\n",
       "                if (algolab.hoverToc()) {                    \n",
       "                } else {\n",
       "                    $(\"#algolab-toc\").hide();                        \n",
       "                }\n",
       "            } else {\n",
       "                if (algolab.hoverToc())\n",
       "                  show\n",
       "              } else {\n",
       "                $(\"#algolab-toc\").hide();                        \n",
       "               }                 \n",
       "            }\n",
       "  */     \n",
       "        }\n",
       "    }\n",
       "});\n",
       "\n",
       "$(document).ready(algolab.init);\n",
       "\n",
       "</script>\n"
      ],
      "text/plain": [
       "<IPython.core.display.HTML object>"
      ]
     },
     "execution_count": 1,
     "metadata": {},
     "output_type": "execute_result"
    }
   ],
   "source": [
    "import algolab\n",
    "import sys\n",
    "sys.path.append('past-exams/2017-01-13-midterm/solutions')\n",
    "algolab.init()"
   ]
  },
  {
   "cell_type": "markdown",
   "metadata": {},
   "source": [
    "<center>\n",
    "<span class=\"algolab-title\"> Lab Midterm</span><br/> \n",
    "<br/>\n",
    "<span style=\"font-size:20px\"> Scientific Programming Algolab  </span> <br/><br/>\n",
    "<span> Friday 13th Jan 2017</span>\n",
    "</center>"
   ]
  },
  {
   "cell_type": "markdown",
   "metadata": {
    "collapsed": true
   },
   "source": [
    "# Introduction\n",
    "\n",
    "* This midterm makes sense only if you passed successfully the theory midterm by Alberto Montresor. If you didn't, you can still stay and do the midterm as exercise, but it won't be evaluated.\n",
    "* If you don't ship or you don't pass this midterm, you lose also the theory midterm.\n",
    "\n",
    "* Log into your computer in _exam mode_, it should start Ubuntu\n",
    "* To edit the files, you can use any editor of your choice. _Editra_ seems easy to use, you can find it under Applications->Programming->Editra. Other could be GEdit, or PyCharm (more complex).\n",
    "\n",
    "\n",
    "\n",
    "## Allowed material\n",
    "\n",
    "There won't be any internet access. You will only be able to access:\n",
    "\n",
    "* <a href=\"index.html\" target=\"_blank\">Sciprog Algolab worksheets</a>\n",
    "* <a href=\"../montresor/Montresor%20sciprog/cricca.disi.unitn.it/montresor/teaching/scientific-programming/slides/index.html\">Alberto Montresor slides</a>\n",
    "* <a href=\"../teso/disi.unitn.it/_teso/courses/sciprog/index.html\" target=\"_blank\">Stefano Teso docs</a>\n",
    "* Python 2.7 documentation :&nbsp;&nbsp; <a href=\"../python-docs/html/index.html\" target=\"_blank\">html</a>\n",
    "&nbsp;&nbsp;<a href=\"../python-docs/pdf\" target=\"_blank\">pdf</a>\n",
    "    * In particular, <a href=\"../python-docs/html/library/unittest.html\" target=\"_blank\">Unittest docs</a>)\n",
    "* The course book Problem Solving with Algorithms and Data Structures using Python &nbsp;&nbsp;<a href=\"../pythonds/index.html\" target=\"_blank\">html</a> &nbsp;&nbsp;&nbsp;<a href=\"../pythonds/ProblemSolvingwithAlgorithmsandDataStructures.pdf\" target=\"_blank\">pdf</a>\n",
    "\n",
    "\n",
    "## Grading\n",
    "\n",
    "\n",
    "* The grade of this midterm will range from 0 to 30. Total grade for the module will be given by the average with the theory midterm of Alberto Montresor.\n",
    "* Correct implementations with the required complexity grant you full grade.\n",
    "* If you just can't solve an exercise,  try to solve it at least for some subcase (i.e. array of fixed size 2) commenting why you did so. Doing so _might_ still grant you a few points. \n",
    "* One extra point can be earned by writing stylish code. You got style if you:\n",
    "\n",
    "    - do not infringe the [Commandments](../algolab/index.html#Commandments)\n",
    "    - write [pythonic code](http://docs.python-guide.org/en/latest/writing/style)\n",
    "    - avoid convoluted code like i.e.\n",
    "\n",
    "        ```\n",
    "        if x > 5:\n",
    "            return True\n",
    "        else:\n",
    "            return False\n",
    "        ```\n",
    "\n",
    "        when you could write just\n",
    "\n",
    "        ```\n",
    "        return x > 5\n",
    "        ```       \n"
   ]
  },
  {
   "cell_type": "code",
   "execution_count": 2,
   "metadata": {
    "collapsed": false
   },
   "outputs": [
    {
     "data": {
      "text/html": [
       "\n",
       "<p class=\"algolab-warn\">\n",
       "\n",
       "!!!!!!!!! WARNING !!!!!!!!!\n",
       "    \n",
       "    <br/>\n",
       "    <br/>\n",
       "!!!!!!!!!  **ONLY** IMPLEMENTATIONS OF THE PROVIDED FUNCTION SIGNATURES WILL BE EVALUATED !!!!!!!!! <br/>    \n",
       "\n",
       "</p>"
      ],
      "text/plain": [
       "<IPython.core.display.HTML object>"
      ]
     },
     "metadata": {},
     "output_type": "display_data"
    }
   ],
   "source": [
    "%%HTML\n",
    "\n",
    "<p class=\"algolab-warn\">\n",
    "\n",
    "!!!!!!!!! WARNING !!!!!!!!!\n",
    "    \n",
    "    <br/>\n",
    "    <br/>\n",
    "!!!!!!!!!  **ONLY** IMPLEMENTATIONS OF THE PROVIDED FUNCTION SIGNATURES WILL BE EVALUATED !!!!!!!!! <br/>    \n",
    "\n",
    "</p>"
   ]
  },
  {
   "cell_type": "markdown",
   "metadata": {},
   "source": [
    "\n",
    "For example, if you are given to implement: \n",
    "\n",
    "```python\n",
    "    def cool_fun(x):\n",
    "        raise Exception(\"TODO implement me\")\n",
    "```\n",
    "\n",
    "and you ship this code:\n",
    "\n",
    "``` python\n",
    "def cool_fun_non_working_trial(x):\n",
    "    # do some absurdity\n",
    "\n",
    "def cool_fun_a_perfectly_working_trial(x):\n",
    "    # a super fast, correct and stylish implementation\n",
    "\n",
    "def cool_fun(x):\n",
    "    raise Exception(\"TODO implement me\")\n",
    "```\n",
    "\n",
    "We will assess only the latter one `cool_fun(x)`, and conclude it doesn't work at all :P   !!!!!!!\n",
    "\n",
    "Still, you are allowed to define any extra helper function you might need. If your `cool_fun(x)` implementation calls some other function you defined like `my_helper` here, it is ok:\n",
    "\n",
    "```python\n",
    "\n",
    "def my_helper(y,z):\n",
    "    # do something useful\n",
    "\n",
    "def cool_fun(x):\n",
    "    my_helper(x,5)\n",
    "    \n",
    "# this will get ignored:\n",
    "def some_trial(x):\n",
    "    # do some absurdity\n",
    "    \n",
    "```\n"
   ]
  },
  {
   "cell_type": "markdown",
   "metadata": {},
   "source": [
    "## What to do\n",
    "\n",
    "\n",
    " In `/usr/local` you should find somewhere a file named `sciprog-midterm-17-01-13.zip`. Download it and extract it in a new folder on your desktop. The content should be like this:\n",
    "\n",
    "```\n",
    "|- docs\n",
    "|- algolab-17-01-13\n",
    "    |- exercise1.py\n",
    "    |- exercise2.py\n",
    "    |- exercise3.py\n",
    "    |- exercise4.py\n",
    "\n",
    "```\n",
    "\n",
    "Under `docs/` folder you will find the slides and Python documentation. \n",
    "\n",
    "2) Now, take the folder `algolab-17-01-13` and copy it to `/var/exam`. \n",
    "\n",
    "Rename it to `algolab-17-01-13-midterm-FIRSTNAME-LASTNAME-IDNUMBER` like algolab-17-01-13-john-doe-432432\n",
    "\n",
    "From now on, you will be editing the files in that folder. At the end of the exam, that is what will be evaluated.\n",
    "\n",
    "3) Edit the files following the instructions in this worksheet for each exercise.\n",
    "    \n"
   ]
  },
  {
   "cell_type": "code",
   "execution_count": 3,
   "metadata": {
    "collapsed": false
   },
   "outputs": [
    {
     "data": {
      "text/html": [
       "\n",
       "<p class=\"algolab-warn\">\n",
       "WARNING: <i>DON'T</i> modify function signatures! Just provide the implementation.\n",
       "</p>\n",
       "\n",
       "<p class=\"algolab-warn\">\n",
       "WARNING: <i>DON'T</i> change the existing test methods, just add new ones !!!  You can add as many as you want.\n",
       "</p>\n",
       "\n",
       "<p class=\"algolab-warn\">\n",
       "WARNING: <i>DON'T</i> create other files. If you still do it, they won't be evaluated.\n",
       "</p>\n",
       "\n",
       "<p class=\"algolab-important\">\n",
       "IMPORTANT: Pay close attention to the comments of the functions.\n",
       "</p>\n",
       "\n",
       "<p class=\"algolab-important\">\n",
       "IMPORTANT: if you need to print some debugging information, you <i>are allowed</i> to put extra <code>print</code>\n",
       "    statements in the function bodies.\n",
       "</p>\n",
       "\n",
       "<p class=\"algolab-warn\">\n",
       "WARNING: even if <code>print</code> statements are allowed, be careful with prints that might\n",
       "     break your function, i.e. avoid stuff like this: <code> print 1/0 </code> \n",
       "</p>\n",
       " "
      ],
      "text/plain": [
       "<IPython.core.display.HTML object>"
      ]
     },
     "metadata": {},
     "output_type": "display_data"
    }
   ],
   "source": [
    "%%HTML \n",
    "\n",
    "<p class=\"algolab-warn\">\n",
    "WARNING: <i>DON'T</i> modify function signatures! Just provide the implementation.\n",
    "</p>\n",
    "\n",
    "<p class=\"algolab-warn\">\n",
    "WARNING: <i>DON'T</i> change the existing test methods, just add new ones !!!  You can add as many as you want.\n",
    "</p>\n",
    "\n",
    "<p class=\"algolab-warn\">\n",
    "WARNING: <i>DON'T</i> create other files. If you still do it, they won't be evaluated.\n",
    "</p>\n",
    "\n",
    "<p class=\"algolab-important\">\n",
    "IMPORTANT: Pay close attention to the comments of the functions.\n",
    "</p>\n",
    "\n",
    "<p class=\"algolab-important\">\n",
    "IMPORTANT: if you need to print some debugging information, you <i>are allowed</i> to put extra <code>print</code>\n",
    "    statements in the function bodies.\n",
    "</p>\n",
    "\n",
    "<p class=\"algolab-warn\">\n",
    "WARNING: even if <code>print</code> statements are allowed, be careful with prints that might\n",
    "     break your function, i.e. avoid stuff like this: <code> print 1/0 </code> \n",
    "</p>\n",
    " \n"
   ]
  },
  {
   "cell_type": "markdown",
   "metadata": {},
   "source": [
    "3) Every exercise should take max 25 mins. If it takes longer, leave it and try another exercise.\n"
   ]
  },
  {
   "cell_type": "code",
   "execution_count": 4,
   "metadata": {
    "collapsed": false
   },
   "outputs": [
    {
     "data": {
      "text/html": [
       "\n",
       "<p class=\"algolab-warn\">\n",
       "WARNING: MAKE SURE ALL EXERCISE FILES AT LEAST COMPILE !!! <br/> 10 MINS BEFORE THE END OF THE EXAM I WILL ASK YOU TO MAKE \n",
       "    SURE OF THIS AND TO DO A FINAL CLEAN UP OF THE CODE: \n",
       "</p>"
      ],
      "text/plain": [
       "<IPython.core.display.HTML object>"
      ]
     },
     "metadata": {},
     "output_type": "display_data"
    }
   ],
   "source": [
    "%%HTML\n",
    "\n",
    "<p class=\"algolab-warn\">\n",
    "WARNING: MAKE SURE ALL EXERCISE FILES AT LEAST COMPILE !!! <br/> 10 MINS BEFORE THE END OF THE EXAM I WILL ASK YOU TO MAKE \n",
    "    SURE OF THIS AND TO DO A FINAL CLEAN UP OF THE CODE: \n",
    "</p>"
   ]
  },
  {
   "cell_type": "markdown",
   "metadata": {
    "collapsed": true
   },
   "source": [
    "# Exercises"
   ]
  },
  {
   "cell_type": "markdown",
   "metadata": {},
   "source": [
    "## 1) quick sort\n",
    "\n",
    "\n",
    "Quick sort is a widely used sorting algorithm and in this exercise you will implement it following the pseudo code."
   ]
  },
  {
   "cell_type": "markdown",
   "metadata": {},
   "source": [
    "<p class=\"algolab-important\">\n",
    "IMPORTANT: Array <code>A</code> in the pseudo code has indexes starting from zero <i>included</i>\n",
    "</p>\n",
    "\n",
    "<p class=\"algolab-important\">\n",
    "IMPORTANT: The functions <code>pivot</code> and <code>quicksort</code> operate an a subarray that goes from indeces <code>first</code> <i>included</i> and <code>last</code> <i>included</i>\n",
    "</p>"
   ]
  },
  {
   "cell_type": "markdown",
   "metadata": {},
   "source": [
    "Start editing the file `exercise1.py`:\n",
    "\n",
    "### 1.1) swap\n",
    "\n",
    "<img width=\"25%\" src=\"img/swap.png\">\n",
    "\n",
    "Implement `swap`:\n",
    "\n",
    "```python\n",
    "def swap(A, x, y):\n",
    "    \"\"\"\n",
    "        In the array A, swaps the elements at indeces x and y.\n",
    "    \"\"\"\n",
    "    raise Exception(\"TODO IMPLEMENT ME!\")\n",
    "```\n",
    "\n",
    "Once done, running this will run only the tests in `SwapTest` class and hopefully they will pass. \n",
    "\n",
    "**Notice that  _`exercise1`_** is followed by a dot and test class name: _`.SwapTest`_ \n",
    "\n",
    "```bash\n",
    "\n",
    " python -m unittest exercise1.SwapTest\n",
    "\n",
    "```\n",
    "\n",
    "\n",
    "### 1.2) pivot\n",
    "\n",
    "Implement `pivot` method:\n",
    "\n",
    "<img width=\"50%\" src=\"img/quicksort-pivot.png\">\n",
    "\n",
    "```python\n",
    "def pivot(A, first, last):\n",
    "    \"\"\" Modifies in-place the slice of the array A with indeces between first included \n",
    "        and last included. Returns the new pivot index.\n",
    "        \n",
    "    \"\"\"\n",
    "    raise Exception(\"TODO IMPLEMENT ME!\")\n",
    "\n",
    "```\n",
    "\n",
    "You can run tests only for `pivot` with this command:\n",
    "\n",
    "```bash\n",
    "    python -m unittest exercise1.PivotTest\n",
    "```\n",
    "\n",
    "### 1.3) implement quicksort and qs\n",
    "\n",
    "Implement `quicksort` and `qs` method:\n",
    "\n",
    "<img width=\"50%\" src=\"img/quicksort.png\">\n",
    "\n",
    "```python\n",
    "def quicksort(A, first, last):\n",
    "    \"\"\"\n",
    "        Sorts in-place the slice of the array A with indeces between first included\n",
    "        and last included.\n",
    "    \"\"\"\n",
    "    raise Exception(\"TODO IMPLEMENT ME !\")\n",
    "\n",
    "def qs(A):\n",
    "    \"\"\"\n",
    "        Sorts in-place the array A by calling quicksort function on the full array.\n",
    "    \"\"\"\n",
    "    raise Exception(\"TODO IMPLEMENT ME !\")\n",
    "```\n",
    "\n",
    "You can run tests only for both `quicksort` and `qs` with this command:\n",
    "\n",
    "```bash\n",
    "    python -m unittest exercise1.QuicksortTest\n",
    "```\n"
   ]
  },
  {
   "cell_type": "markdown",
   "metadata": {},
   "source": [
    "\n",
    "## 2) CappedStack\n",
    "\n",
    "In class you implemented a `CappedStack` that had a fixed `cap`. In this exercise, you will implement a way to change the `cap` _after_ that a stack instance has been created.\n",
    "\n",
    "NOTE: On some condition, you will be requested to raise `IndexError`. To do so, just write:\n",
    "\n",
    "```\n",
    "raise IndexError(\"Error!\")\n",
    "```\n",
    "\n",
    "Proceed with the following point and start editing the file `exercise2.py`\n",
    "\n",
    "\n",
    "<img src=\"img/capped-stack.svg\">\n",
    "\n",
    "\n",
    "\n",
    "### 2.1) peekn\n",
    "\n",
    "Implement the `peekn` method:\n",
    "\n",
    "```python\n",
    "    def peekn(self, n):\n",
    "        \"\"\"\n",
    "            Returns a list with the n top elements, in the order in which they\n",
    "            were pushed. For example, if the stack is the following: \n",
    "            \n",
    "                e\n",
    "                d\n",
    "                c\n",
    "                b\n",
    "                a\n",
    "                \n",
    "            peekn(3) will return the list ['c','d','e']\n",
    "\n",
    "            If there aren't enough element to peek, raises IndexError\n",
    "            If n is negative, raises an IndexError\n",
    "\n",
    "        \"\"\"\n",
    "        raise Exception(\"TODO IMPLEMENT ME!\")\n",
    "```\n",
    "\n",
    "### 2.2) popn\n",
    "\n",
    "Implement the `popn` method:\n",
    "\n",
    "```python\n",
    "    def popn(self, n):\n",
    "        \"\"\" Pops the top n elements, and return them as a list, in the order in \n",
    "            which they where pushed. For example, with the following stack:\n",
    "            \n",
    "                e\n",
    "                d\n",
    "                c\n",
    "                b\n",
    "                a\n",
    "            \n",
    "            popn(3)\n",
    "            \n",
    "            will give back ['c','d','e'], and stack will become:\n",
    "            \n",
    "                b\n",
    "                a\n",
    "            \n",
    "            If there aren't enough element to pop, raises an IndexError\n",
    "            If n is negative, raises an IndexError\n",
    "        \"\"\"\n",
    "\n",
    "```\n",
    "\n",
    "### 2.3) set_cap\n",
    "\n",
    "Implement the `set_cap` method:\n",
    "\n",
    "```python\n",
    "    def set_cap(self, cap):\n",
    "        \"\"\" Sets the cap value to the provided cap. \n",
    "        \n",
    "            If the cap is less then the stack size, all the elements above \n",
    "            the cap are removed from the stack.\n",
    "            \n",
    "            If cap < 1, raises an IndexError\n",
    "            Does *not* return anything!\n",
    "        \n",
    "            For example, with the following stack, and cap at position 7:\n",
    "            \n",
    "            cap ->  7\n",
    "                    6\n",
    "                    5  e\n",
    "                    4  d\n",
    "                    3  c\n",
    "                    2  b\n",
    "                    1  a\n",
    "                    \n",
    "            \n",
    "            calling method set_cap(3) will change the stack to this:\n",
    "            \n",
    "            cap ->  3  c\n",
    "                    2  b\n",
    "                    1  a                                \n",
    "            \n",
    "        \"\"\"\n",
    "    raise Exception(\"TODO IMPLEMENT ME\")\n",
    "```\n",
    "\n",
    "\n",
    "\n",
    "## 3) UnorderedList\n",
    "\n",
    "Let's work on `UnorderedList`, which is a monodirectional linked list. \n",
    "\n",
    "Start editing the file `exercise3.py`\n"
   ]
  },
  {
   "cell_type": "markdown",
   "metadata": {},
   "source": [
    "### 3.1) occurrences\n",
    "\n",
    "Implement this method:\n",
    "\n",
    "```python\n",
    "    def occurrences(self, item):\n",
    "        \"\"\" \n",
    "            Returns the number of occurrences of item in the list.\n",
    "        \"\"\"\n",
    "```        \n",
    "\n",
    "**Examples: **"
   ]
  },
  {
   "cell_type": "code",
   "execution_count": 5,
   "metadata": {
    "collapsed": false
   },
   "outputs": [
    {
     "name": "stdout",
     "output_type": "stream",
     "text": [
      "UnorderedList: a,b,c,a\n"
     ]
    }
   ],
   "source": [
    "from exercise3_solution import *\n",
    "\n",
    "ul = UnorderedList()\n",
    "ul.add('a')\n",
    "ul.add('c')\n",
    "ul.add('b')\n",
    "ul.add('a')\n",
    "print ul"
   ]
  },
  {
   "cell_type": "code",
   "execution_count": 6,
   "metadata": {
    "collapsed": false
   },
   "outputs": [
    {
     "name": "stdout",
     "output_type": "stream",
     "text": [
      "2\n"
     ]
    }
   ],
   "source": [
    "print ul.occurrences('a')"
   ]
  },
  {
   "cell_type": "code",
   "execution_count": 7,
   "metadata": {
    "collapsed": false
   },
   "outputs": [
    {
     "name": "stdout",
     "output_type": "stream",
     "text": [
      "1\n"
     ]
    }
   ],
   "source": [
    "print ul.occurrences('c')"
   ]
  },
  {
   "cell_type": "code",
   "execution_count": 8,
   "metadata": {
    "collapsed": false
   },
   "outputs": [
    {
     "name": "stdout",
     "output_type": "stream",
     "text": [
      "0\n"
     ]
    }
   ],
   "source": [
    "print ul.occurrences('z')"
   ]
  },
  {
   "cell_type": "markdown",
   "metadata": {
    "collapsed": true
   },
   "source": [
    "### 3.2) shrink"
   ]
  },
  {
   "cell_type": "markdown",
   "metadata": {},
   "source": [
    "\n",
    "Implement this method in `UnorderedList` class:\n",
    "\n",
    "```python\n",
    "\n",
    "    def shrink(self):\n",
    "        \"\"\" \n",
    "            Removes from this UnorderedList all nodes at odd indeces (1, 3, 5, ...), \n",
    "            supposing that the first node has index zero, the second node \n",
    "            has index one, and so on. \n",
    "            \n",
    "            So if the UnorderedList is \n",
    "                'a','b','c','d','e' \n",
    "            a call to shrink will transform the UnorderedList into \n",
    "                'a','c','e'\n",
    "            \n",
    "            Must execute in O(n) where 'n' is the length of the list.\n",
    "            Does *not* return anything.\n",
    "        \"\"\"\n",
    "        raise Exception(\"TODO IMPLEMENT ME!\")\n",
    "```"
   ]
  },
  {
   "cell_type": "code",
   "execution_count": 9,
   "metadata": {
    "collapsed": false
   },
   "outputs": [
    {
     "name": "stdout",
     "output_type": "stream",
     "text": [
      "UnorderedList: a,b,c,d,e\n"
     ]
    }
   ],
   "source": [
    "ul = UnorderedList()\n",
    "ul.add('e')\n",
    "ul.add('d')\n",
    "ul.add('c')\n",
    "ul.add('b')\n",
    "ul.add('a')\n",
    "print ul"
   ]
  },
  {
   "cell_type": "code",
   "execution_count": 10,
   "metadata": {
    "collapsed": false
   },
   "outputs": [
    {
     "name": "stdout",
     "output_type": "stream",
     "text": [
      "UnorderedList: a,c,e\n"
     ]
    }
   ],
   "source": [
    "ul.shrink()\n",
    "print ul"
   ]
  },
  {
   "cell_type": "markdown",
   "metadata": {},
   "source": [
    "\n",
    "## 4) GenericTree\n",
    "\n",
    "In these exercises with a tree, you will be visiting a generic tree in various ways. \n",
    "\n",
    "<img src=\"img/generic-tree-labeled.png\"/>\n",
    "\n"
   ]
  },
  {
   "cell_type": "markdown",
   "metadata": {},
   "source": [
    "### 4.1) zig\n",
    "\n",
    "The method `zig`  must return as output a list of `data` of the root and all the nodes in the chain of `child` attributes. Basically, you just have to follow the red lines and gather `data` in a list, until there are no more red lines to follow. For example, in the labeled tree in the image, these would be the results of calling `zig` on various nodes:\n",
    "\n",
    "* From `a`:  `['a','b', 'e']`\n",
    "* From `b`:  `['b', 'e']`\n",
    "* From `c`:  `['c', 'g']`\n",
    "* From `h`:  `['h']`\n",
    "* From `q`:  `['h']`\n",
    "\n",
    "### 4.2) zag\n",
    "\n",
    "This function is quite similar to `zig`, but this time it gathers data going right, along the `sibling` arrows. For example, in the labeled tree in the image, these would be the results of calling `zag` on various nodes:\n",
    "\n",
    "* From `a` : `['a']`\n",
    "* From `b` : `['b', 'c', 'd']`\n",
    "* From `o` : `['o', 'p']`\n",
    "\n",
    "### 4.3) zigzag\n",
    "\n",
    "If you arrived so far and some unit test for previous exercises (1,2,3,4) are still failing, it's probably more convenient to try to fix it. On the other hand, if everything is working fine, you should proceed with this slightly challanging exercise!\n",
    "\n",
    "As you are surely thinking, `zig` and `zag` alone are boring. So let's mix the concepts, and go zigzaging. This time you will write a function `zigzag`, that first zigs collecting `data` along the child vertical red chain as much as it can. Then, if the last node links to at least a sibling, the method continues to collect data along the siblings horizontal chain as much as it can. At this point, if it finds a child, it goes zigging again along the child vertical red chain as much as it can, and then horizontal zaging, and so on. It continues zig-zaging like this until it reaches a node that has no child nor sibling: when this happens returns the list of data found so far. For example,  these would be the results of calling `zigzag` on various nodes:  \n",
    "\n",
    "* From `a`: `['a', 'b', 'e', 'f', 'o']`\n",
    "* From `c`: `['c', 'g', 'h', 'i', 'q']`  NOTE: if node `h` had a child `z`, the process would still proceed to `i`\n",
    "* From `d`: `['d', 'm', 'n']`\n",
    "* From `o`: `['o', 'p']`\n",
    "* From `n`: `['n']`"
   ]
  },
  {
   "cell_type": "markdown",
   "metadata": {
    "collapsed": true
   },
   "source": [
    "\n"
   ]
  }
 ],
 "metadata": {
  "kernelspec": {
   "display_name": "Python 2",
   "language": "python",
   "name": "python2"
  },
  "language_info": {
   "codemirror_mode": {
    "name": "ipython",
    "version": 2
   },
   "file_extension": ".py",
   "mimetype": "text/x-python",
   "name": "python",
   "nbconvert_exporter": "python",
   "pygments_lexer": "ipython2",
   "version": "2.7.12"
  }
 },
 "nbformat": 4,
 "nbformat_minor": 1
}
