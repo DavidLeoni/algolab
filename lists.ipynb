{
 "cells": [
  {
   "cell_type": "markdown",
   "metadata": {
    "collapsed": false
   },
   "source": [
    "\n",
    "<!-- !!!!!!!!!!    NOTICE THE INDEX IN THE CELL BELOW HERE  WILL LOOK INVISIBLE IN JUPYTER  !!!!!!!!!!!!!!!!!   -->\n"
   ]
  },
  {
   "cell_type": "code",
   "execution_count": 1,
   "metadata": {
    "collapsed": false
   },
   "outputs": [],
   "source": [
    "import algolab"
   ]
  },
  {
   "cell_type": "code",
   "execution_count": 2,
   "metadata": {
    "collapsed": false
   },
   "outputs": [
    {
     "data": {
      "text/html": [
       "<style>\n",
       "\n",
       "    #algolab-nav {\n",
       "        position: fixed;\n",
       "        top: 10px; \n",
       "        left: 5px; \n",
       "        background: white;\n",
       "        width: 200px; \n",
       "        padding: 10px; \n",
       "        z-index: 10;\n",
       "    }\n",
       "\n",
       "    /* style=\"background: rgba(255, 255, 255, 0);\" class=\"unstyled\" */\n",
       "  \n",
       "    #algolab-toc {\n",
       "        position: fixed;\n",
       "        top: 100px; \n",
       "        left: -40px; \n",
       "        background: rgba(255, 255, 255, 0);\n",
       "        \n",
       "        height: 80%;\n",
       "        width: 200px; \n",
       "        padding: 20px; \n",
       "        z-index: 10;\n",
       "        overflow-y: scroll;\n",
       "        margin-left:10px;\n",
       "            /* font-size: 50%; */\n",
       "    }\n",
       "    \n",
       "    .algolab-title {\n",
       "        font-size:250%; \n",
       "        font-weight:bold        \n",
       "    }    \n",
       "        \n",
       "    .algolab-warn {    \n",
       "        background-color: #fcf2f2;        \n",
       "        border-left: 5px solid #dfb5b4;\n",
       "        padding: 1.5em;\n",
       "    }    \n",
       "        \n",
       "    \n",
       "    .algolab-important {\n",
       "        background-color: rgba(255, 238, 0, 0.31);\n",
       "        border-left: 5px solid rgba(205, 208, 0, 1.0);\n",
       "        color: #000;        \n",
       "        padding: 1.5em;        \n",
       "    }\n",
       "    \n",
       "    \n",
       "    #algolab-toc ul {                                                                                                                                                                           \n",
       "        list-style-type: none;                                                                                                                                                                 \n",
       "        margin-left: 5px;\n",
       "    }\n",
       "    \n",
       "    #algolab-toc li {        \n",
       "         padding-left: 3px;\n",
       "    }    \n",
       "    \n",
       "    #algolab-toc .h1 {\n",
       "        font-size:110%; \n",
       "        \n",
       "    }\n",
       "    \n",
       "    #algolab-toc .h2 {\n",
       "        font-size:100%; \n",
       "        padding-left:15px;\n",
       "    }\n",
       "\n",
       "    #algolab-toc .h3 {\n",
       "        font-size:100%; \n",
       "        padding-left:25px;\n",
       "    }\n",
       "    \n",
       "    \n",
       "    \n",
       "    #notebook-container {\n",
       "        box-shadow : none;\n",
       "\t-web-kit-box-shadow: none;\n",
       "    }\n",
       "    \n",
       "\n",
       "    #algolab-toc .toc-active {\n",
       "        background: rgba(168, 254, 255, 0.32);\n",
       "    }\n",
       " </style>\n",
       "\n",
       "<script>\n",
       "\n",
       "/*!\n",
       " * toc - jQuery Table of Contents Plugin\n",
       " * v0.3.2\n",
       " * http://projects.jga.me/toc/\n",
       " * copyright Greg Allen 2014\n",
       " * MIT License\n",
       "*/\n",
       "!function(a){a.fn.smoothScroller=function(b){b=a.extend({},a.fn.smoothScroller.defaults,b);var c=a(this);return a(b.scrollEl).animate({scrollTop:c.offset().top-a(b.scrollEl).offset().top-b.offset},b.speed,b.ease,function(){var a=c.attr(\"id\");a.length&&(history.pushState?history.pushState(null,null,\"#\"+a):document.location.hash=a),c.trigger(\"smoothScrollerComplete\")}),this},a.fn.smoothScroller.defaults={speed:400,ease:\"swing\",scrollEl:\"body,html\",offset:0},a(\"body\").on(\"click\",\"[data-smoothscroller]\",function(b){b.preventDefault();var c=a(this).attr(\"href\");0===c.indexOf(\"#\")&&a(c).smoothScroller()})}(jQuery),function(a){var b={};a.fn.toc=function(b){var c,d=this,e=a.extend({},jQuery.fn.toc.defaults,b),f=a(e.container),g=a(e.selectors,f),h=[],i=e.activeClass,j=function(b,c){if(e.smoothScrolling&&\"function\"==typeof e.smoothScrolling){b.preventDefault();var f=a(b.target).attr(\"href\");e.smoothScrolling(f,e,c)}a(\"li\",d).removeClass(i),a(b.target).parent().addClass(i)},k=function(){c&&clearTimeout(c),c=setTimeout(function(){for(var b,c=a(window).scrollTop(),f=Number.MAX_VALUE,g=0,j=0,k=h.length;k>j;j++){var l=Math.abs(h[j]-c);f>l&&(g=j,f=l)}a(\"li\",d).removeClass(i),b=a(\"li:eq(\"+g+\")\",d).addClass(i),e.onHighlight(b)},50)};return e.highlightOnScroll&&(a(window).bind(\"scroll\",k),k()),this.each(function(){var b=a(this),c=a(e.listType);g.each(function(d,f){var g=a(f);h.push(g.offset().top-e.highlightOffset);var i=e.anchorName(d,f,e.prefix);if(f.id!==i){a(\"<span/>\").attr(\"id\",i).insertBefore(g)}var l=a(\"<a/>\").text(e.headerText(d,f,g)).attr(\"href\",\"#\"+i).bind(\"click\",function(c){a(window).unbind(\"scroll\",k),j(c,function(){a(window).bind(\"scroll\",k)}),b.trigger(\"selected\",a(this).attr(\"href\"))}),m=a(\"<li/>\").addClass(e.itemClass(d,f,g,e.prefix)).append(l);c.append(m)}),b.html(c)})},jQuery.fn.toc.defaults={container:\"body\",listType:\"<ul/>\",selectors:\"h1,h2,h3\",smoothScrolling:function(b,c,d){a(b).smoothScroller({offset:c.scrollToOffset}).on(\"smoothScrollerComplete\",function(){d()})},scrollToOffset:0,prefix:\"toc\",activeClass:\"toc-active\",onHighlight:function(){},highlightOnScroll:!0,highlightOffset:100,anchorName:function(c,d,e){if(d.id.length)return d.id;var f=a(d).text().replace(/[^a-z0-9]/gi,\" \").replace(/\\s+/g,\"-\").toLowerCase();if(b[f]){for(var g=2;b[f+g];)g++;f=f+\"-\"+g}return b[f]=!0,e+\"-\"+f},headerText:function(a,b,c){return c.text()},itemClass:function(a,b,c,d){return d+\"-\"+c[0].tagName.toLowerCase()}}}(jQuery);\n",
       "\n",
       "function showthis(url) {\n",
       "    window.open(url, \"pres\", \"toolbar=yes,scrollbars=yes,resizable=yes,top=10,left=400,width=500,height=500\");\n",
       "    return(false);\n",
       "}\n",
       "\n",
       "var algolab = {\n",
       "    \n",
       "    isReduced : function(){\n",
       "        return $(window).width() < 924;\n",
       "    },\n",
       "    hoverToc : function(){\n",
       "        return $('#algolab-toc:hover').length != 0;\n",
       "    },\n",
       "    resize : function(){\n",
       "        if (algolab.isReduced()){\n",
       "            $(\"#algolab-toc\").hide();\n",
       "        } else {\n",
       "            $(\"#algolab-toc\").show();\n",
       "            $(\"#algolab-toc\").css(\"background\",\"rgba(255, 255, 255, 0)\");\n",
       "            \n",
       "            tocParams = {\n",
       "                \n",
       "                'selectors': 'h1,h2,h3', //elements to use as headings\n",
       "                'container': 'body', //element to find all selectors in\n",
       "                'smoothScrolling': true, //enable or disable smooth scrolling on click\n",
       "                 //doesn't work  'prefix': 'algolab-toc', //prefix for anchor tags and class names\n",
       "                //'onHighlight': function(el) {}, //called when a new section is highlighted \n",
       "                'highlightOnScroll': true, //add class to heading that is currently in focus\n",
       "                'highlightOffset': 100, //offset to trigger the next headline\n",
       "                'anchorName': function(i, heading, prefix) { //custom function for anchor name\n",
       "                    return prefix+i;\n",
       "                },\n",
       "                'headerText': function(i, heading, $heading) { //custom function building the header-item text                  \n",
       "                    return $heading.text().replace(\"¶\",\"\");\n",
       "                },\n",
       "                'itemClass': function(i, heading, $heading, prefix) { // custom function for item class\n",
       "                    return $heading[0].tagName.toLowerCase();\n",
       "                }                \n",
       "            }\n",
       "            \n",
       "            $('#algolab-toc').toc(tocParams);\n",
       "        }\n",
       "    },\n",
       "    init : function(){\n",
       "\n",
       "       var toc = $(\"<div>\").attr(\"id\", \"algolab-toc\");              \n",
       "       var back = $(\"<a>\").attr(\"href\",\"index.html\").text(\"Back to Algolab\");\n",
       "       var nav = $(\"<div>\").attr(\"id\", \"algolab-nav\").append(back);\n",
       "        \n",
       "       algolab.hideCellStartingWith(\"%%HTML\");\n",
       "       algolab.hideCellStartingWith(\"import algolab\");      \n",
       "       \n",
       "       algolab.hideCellStartingWith(\"algolab.init()\"); \n",
       "              \n",
       "       if ($(\"#algolab-toc\").length === 0){\n",
       "           $(\"body\").append(toc);       \n",
       "       } else {\n",
       "           $(\"#algolab-toc\").replaceWith(toc);\n",
       "       }\n",
       "       \n",
       "       if ($(\"#algolab-nav\").length === 0){\n",
       "           $(\"body\").append(nav);       \n",
       "       } else {\n",
       "           $(\"#algolab-nav\").replaceWith(nav);\n",
       "       }              \n",
       "       \n",
       "       algolab.resize();\n",
       "    }, \n",
       "    hideCellStartingWith : function(text){\n",
       "        $('.border-box-sizing .code_cell pre').filter(function() { \n",
       "                return $(this).text().indexOf(text) === 0; \n",
       "            }).parents('div .cell').hide();        \n",
       "    }\n",
       "}\n",
       "\n",
       "$( window ).resize(function() {\n",
       "    algolab.resize();\n",
       "});\n",
       "\n",
       "\n",
       "$(\"body\").on(\"mousemove\",function(event) {\n",
       "    if (algolab.isReduced()){\n",
       "        if (event.pageX < 50) {            \n",
       "             $(\"#algolab-toc\").show(); \n",
       "            $(\"#algolab-toc\").css(\"background\",\"rgba(255, 255, 255, 1.0)\");\n",
       "        } else {\n",
       "            \n",
       "            if (algolab.hoverToc()) {                    \n",
       "            } else {\n",
       "                $(\"#algolab-toc\").hide();                        \n",
       "            }\n",
       "                     \n",
       "/*            if ($(\"#algolab-toc\").is(\":visible\")){\n",
       "                if (algolab.hoverToc()) {                    \n",
       "                } else {\n",
       "                    $(\"#algolab-toc\").hide();                        \n",
       "                }\n",
       "            } else {\n",
       "                if (algolab.hoverToc())\n",
       "                  show\n",
       "              } else {\n",
       "                $(\"#algolab-toc\").hide();                        \n",
       "               }                 \n",
       "            }\n",
       "  */     \n",
       "        }\n",
       "    }\n",
       "});\n",
       "\n",
       "$(document).ready(algolab.init);\n",
       "\n",
       "</script>\n"
      ],
      "text/plain": [
       "<IPython.core.display.HTML object>"
      ]
     },
     "execution_count": 2,
     "metadata": {},
     "output_type": "execute_result"
    }
   ],
   "source": [
    "algolab.init()"
   ]
  },
  {
   "cell_type": "markdown",
   "metadata": {},
   "source": [
    "<center>\n",
    "<span class=\"algolab-title\"> Algolab Lists </span>\n",
    "</center>"
   ]
  },
  {
   "cell_type": "markdown",
   "metadata": {},
   "source": [
    "# From Theory to Python\n",
    "\n",
    "## List performance\n",
    "\n",
    "Table from <a href=\"http://interactivepython.org/runestone/static/pythonds/AlgorithmAnalysis/Lists.html\"\n",
    " target=\"_blank\">the book Chapter 2.6: Lists</a>\n",
    "\n",
    "\n",
    "|<img src=\"img/list-complexity-1.png\">|<img src=\"img/list-complexity-2.png\">|\n",
    "|---|---|\n",
    "\n",
    "## Fast or not?\n",
    " \n",
    "```python\n",
    "\n",
    "x = [\"a\", \"b\", \"c\"]\n",
    "\n",
    "x[2]        x[2] = \"d\"       x.append(\"d\")     x.insert(0, \"d\")        x[3:5]        x.sort()\n",
    "\n",
    "\n",
    "```\n",
    "What about `len(x)` ? If you don't know the answer, try googling it! "
   ]
  },
  {
   "cell_type": "markdown",
   "metadata": {},
   "source": [
    "Sublist iteration performance\n",
    "\n",
    "`get slice` time complexity is `O(k)`, but what about memory? It's the same!\n",
    "\n",
    "So if you want to iterate a part of a list, beware of slicing! For example, slicing a list like this can occupy much more memory than necessary:"
   ]
  },
  {
   "cell_type": "code",
   "execution_count": 3,
   "metadata": {
    "collapsed": false
   },
   "outputs": [
    {
     "name": "stdout",
     "output_type": "stream",
     "text": [
      "[200, 202, 204, 206, 208, 210, 212, 214, 216, 218, 220, 222, 224, 226, 228, 230, 232, 234, 236, 238, 240, 242, 244, 246, 248, 250, 252, 254, 256, 258, 260, 262, 264, 266, 268, 270, 272, 274, 276, 278, 280, 282, 284, 286, 288, 290, 292, 294, 296, 298, 300, 302, 304, 306, 308, 310, 312, 314, 316, 318, 320, 322, 324, 326, 328, 330, 332, 334, 336, 338, 340, 342, 344, 346, 348, 350, 352, 354, 356, 358, 360, 362, 364, 366, 368, 370, 372, 374, 376, 378, 380, 382, 384, 386, 388, 390, 392, 394, 396, 398]\n"
     ]
    }
   ],
   "source": [
    "x = range(1000)\n",
    "\n",
    "print [2*y for y in x[100:200]]"
   ]
  },
  {
   "cell_type": "markdown",
   "metadata": {},
   "source": [
    "The reason is that, depending on the Python interpreter you have, slicing like `x[100:200]`at loop start can create a _new_ list. If we want to explicitly tell Python we just want to iterate through the list, we can use the so called <a href=\"https://docs.python.org/2/library/itertools.html\" target=\"_blank\">itertools</a>. In particular, the <a href=\"https://docs.python.org/2/library/itertools.html#itertools.islice\" target=\"_blank\"> islice </a> method is handy, with it we can rewrite the list comprehension above like this:\n"
   ]
  },
  {
   "cell_type": "code",
   "execution_count": 4,
   "metadata": {
    "collapsed": false
   },
   "outputs": [
    {
     "name": "stdout",
     "output_type": "stream",
     "text": [
      "[200, 202, 204, 206, 208, 210, 212, 214, 216, 218, 220, 222, 224, 226, 228, 230, 232, 234, 236, 238, 240, 242, 244, 246, 248, 250, 252, 254, 256, 258, 260, 262, 264, 266, 268, 270, 272, 274, 276, 278, 280, 282, 284, 286, 288, 290, 292, 294, 296, 298, 300, 302, 304, 306, 308, 310, 312, 314, 316, 318, 320, 322, 324, 326, 328, 330, 332, 334, 336, 338, 340, 342, 344, 346, 348, 350, 352, 354, 356, 358, 360, 362, 364, 366, 368, 370, 372, 374, 376, 378, 380, 382, 384, 386, 388, 390, 392, 394, 396, 398]\n"
     ]
    }
   ],
   "source": [
    "import itertools\n",
    "\n",
    "print [2*y for y in itertools.islice(x, 100, 200)]"
   ]
  },
  {
   "cell_type": "markdown",
   "metadata": {},
   "source": [
    "# Implementation\n",
    "\n",
    "## Implement `swap`\n",
    "\n",
    "Try to code and test the `swap` function from <a href=\"http://disi.unitn.it/~montreso/sp/slides/03-analisi.pdf\" target=\"_blank\">selection sort (slide 29 theory)</a>:\n",
    "    \n",
    "<img src=\"img/swap.png\"/>\n",
    "\n",
    "* Use the following skeleton to code it\n",
    "* Check carefully all the test cases, in particular `test_swap_property` and `test_double_swap`. They show two important properties of the swap function. Make sure you understand why these tests should succeed. \n"
   ]
  },
  {
   "cell_type": "code",
   "execution_count": 5,
   "metadata": {
    "collapsed": true
   },
   "outputs": [],
   "source": [
    "import unittest\n",
    "\n",
    "def swap(A, x, y):\n",
    "    \"\"\"\n",
    "    In the array A, swaps the elements at position x and y.\n",
    "    \"\"\"\n",
    "    raise Exception(\"TODO implement me!\")\n",
    "    \n",
    "class SwapTest(unittest.TestCase):\n",
    "   \n",
    "    def test_one_element(self):\n",
    "        v = ['a'];\n",
    "        swap(v,0,0)\n",
    "        self.assertEqual(v, ['a'])\n",
    "\n",
    "    def test_two_elements(self):\n",
    "        v = ['a','b'];\n",
    "        swap(v,0,1)\n",
    "        self.assertEqual(v, ['b','a'])\n",
    "        \n",
    "    def test_return_none(self):\n",
    "        v = ['a','b', 'c', 'd'];\n",
    "        self.assertEquals(None, swap(v,1,3))\n",
    "        \n",
    "        \n",
    "    def test_long_list(self):\n",
    "        v = ['a','b', 'c', 'd'];\n",
    "        swap(v,1,3)\n",
    "        self.assertEqual(v, ['a', 'd','c', 'b'])\n",
    "        \n",
    "        \n",
    "    def test_swap_property(self):\n",
    "        v = ['a','b','c','d'];\n",
    "        w = ['a','b','c','d'];\n",
    "        swap(v,1,3)\n",
    "        swap(w,3,1)\n",
    "        self.assertEqual(v, w)\n",
    "\n",
    "    def test_double_swap(self):\n",
    "        v = ['a','b','c','d'];        \n",
    "        swap(v,1,3)\n",
    "        swap(v,1,3)\n",
    "        self.assertEqual(v, ['a','b','c','d'])   \n"
   ]
  },
  {
   "cell_type": "markdown",
   "metadata": {},
   "source": [
    "## Implement `partial_min_pos`\n",
    "\n",
    "Try to code and test the partial `min` pos function from <a href=\"http://disi.unitn.it/~montreso/sp/slides/03-analisi.pdf\" target=\"_blank\">selection sort (slide 29 theory)</a>:\n",
    "    \n",
    "<img src=\"img/partial-min.png\">\n",
    "\n",
    "* Use the following skeleton to code it\n",
    "* add some test to the provided testcase class\n",
    "\n",
    "Notice that\n",
    "\n",
    "* we renamed `min` to `partial_min_pos` to avoid name collision with Python standard library `min` function\n",
    "* it is not necessary to pass list length `n`, as it is already stored in Python implementation of lists, and we can retrieve it in `O(1)` time with `len(A)`\n"
   ]
  },
  {
   "cell_type": "code",
   "execution_count": 6,
   "metadata": {
    "collapsed": false
   },
   "outputs": [],
   "source": [
    "import unittest\n",
    "\n",
    "def partial_min_pos(A, i):\n",
    "    \"\"\"\n",
    "    Return the value from list A which is lesser or equal than all other values in A \n",
    "    that start from index i included\n",
    "    \"\"\"\n",
    "    raise Exception(\"TODO implement me!\")\n",
    "    \n",
    "class PartialMinPosTest(unittest.TestCase):\n",
    "   \n",
    "    def test_one_element(self):\n",
    "        self.assertEqual(partial_min_pos([1],0),0)     \n",
    "\n",
    "    def test_two_elements(self):\n",
    "        self.assertEqual(partial_min_pos([1,2],0),0)\n",
    "        self.assertEqual(partial_min_pos([2,1],0),1)\n",
    "        self.assertEqual(partial_min_pos([2,1],1),1)\n",
    "        \n",
    "    def test_long_list(self):\n",
    "        self.assertEqual(partial_min_pos([8,9,6,5,7],2),3)   \n",
    "    "
   ]
  },
  {
   "cell_type": "markdown",
   "metadata": {},
   "source": [
    "## Implement `selection_sort`\n",
    "\n",
    "Try to code and test the `selectionSort` from <a href=\"http://disi.unitn.it/~montreso/sp/slides/03-analisi.pdf\" target=\"_blank\">selection sort (slide 29 theory)</a>:\n",
    "    \n",
    "<img src=\"img/selection-sort.png\">\n",
    "\n",
    "Use the following skeleton to code it and add some test to the provided testcase class.\n",
    "\n",
    "Notice that\n",
    "\n",
    "* we renamed `selectionSort` to `selection_sort` because it is a <a href=\"https://www.python.org/dev/peps/pep-0008/#function-names\" target=\"_blank\">more pythonic name</a>\n",
    "* it is not necessary to pass list length `n`, as it is already stored in Python implementation of lists, and we can retrieve it in `O(1)` time with `len(A)`\n",
    "* On the book website, there is <a href=\"http://interactivepython.org/runestone/static/pythonds/SortSearch/TheSelectionSort.html\" target=\"_blank\">an implementation of the selection sort</a> with a nice animated histogram showing a sorting process. Differently from the slides, instead of selecting the minimal element the algorithm on the book selects the _maximal_ element and puts it to the right of the array.\n"
   ]
  },
  {
   "cell_type": "code",
   "execution_count": 7,
   "metadata": {
    "collapsed": true
   },
   "outputs": [],
   "source": [
    "import unittest\n",
    "\n",
    "def selection_sort(A):\n",
    "    \"\"\"\n",
    "    Sorts the list A in-place in O(n^2) time. \n",
    "    \"\"\"\n",
    "    raise Exception(\"TODO implement me!\")\n",
    "    \n",
    "class SelectionSortTest(unittest.TestCase):\n",
    "   \n",
    "    def test_zero_elements(self):\n",
    "        v = []\n",
    "        selection_sort(v)\n",
    "        self.assertEqual(v,[])     \n",
    "        \n",
    "    def test_return_none(self):    \n",
    "        self.assertEquals(None, selection_sort([2]))        \n",
    "        \n",
    "    def test_one_element(self):\n",
    "        v = [\"a\"]\n",
    "        selection_sort(v)\n",
    "        self.assertEqual(v,[\"a\"])     \n",
    "        \n",
    "\n",
    "    def test_two_elements(self):\n",
    "        v = [2,1]\n",
    "        selection_sort(v)\n",
    "        self.assertEqual(v,[1,2])  \n",
    "        \n",
    "    def test_three_elements(self):\n",
    "        v = [2,1,3]\n",
    "        selection_sort(v)\n",
    "        self.assertEqual(v,[1,2,3])\n",
    "    \n",
    "    def test_piccinno_list(self):        \n",
    "        v = [23, 34, 55, 32, 7777, 98, 3, 2, 1]        \n",
    "        selection_sort(v)\n",
    "        vcopy = v[:]\n",
    "        vcopy.sort()\n",
    "        self.assertEqual(v, vcopy)     "
   ]
  },
  {
   "cell_type": "markdown",
   "metadata": {},
   "source": [
    "## Implement gap_rec\n",
    "\n",
    "\n",
    "Try to code and test the `gap` function from <a href=\"http://disi.unitn.it/~montreso/sp/slides/02-recursion.pdf\" target=\"_blank\">recursion theory slides (slide 21)</a>:\n",
    "    \n",
    "<img src=\"img/recursive-gap.png\">\n",
    "\n",
    "Use the following skeleton to code it and add some test to the provided testcase class.\n",
    "\n",
    "Notice that\n",
    "\n",
    "* We created a function `gap_rec` to differentiate it from the iterative one\n",
    "* for convenience the new function `gap_rec(L)` only accepts a list, without indexes `i` and `j`. This function just calls the other function `gap_rec_helper` that will actually contain the recursive calls. So your task is to translate the pseudocode of `gap` into the Python code of `gap_rec_helper`, which takes as input the array and the indexes as `gap` does. Adding a helper function is a frequent pattern you can find when programming recursive functions.\n",
    "* To understand what's going on, try copy pasting your solution in <a href=\"http://pythontutor.com/visualize.html#mode=edit\" target=\"_blank\">Python tutor</a> and hit `Visualize execution` and then Forward to step through the process\n",
    "* What is the complexity of `gap_rec`? Is it faster or slower than the iterative gap here?\n",
    "\n",
    "<img src=\"img/iterative-gap.png\"/>\n",
    "\n",
    "\n",
    "```python\n",
    "def gap_iter(L):\n",
    "    for i in range(1,len(L)):\n",
    "        if L[i-1] < L[i]:\n",
    "            return i\n",
    "    return -1\n",
    "```\n",
    "\n",
    "* Assuming L contains n >= 2 integers such that L[0] < L[n-1], will the recursive gap always give the same result as the iterative one? If we just change function names, can we run the same test case against both implementations?  (Careful!)\n"
   ]
  },
  {
   "cell_type": "code",
   "execution_count": 8,
   "metadata": {
    "collapsed": true
   },
   "outputs": [],
   "source": [
    "import unittest\n",
    "\n",
    "def gap_rec(L):\n",
    "    \"\"\" Searches a gap in list L\n",
    "    \n",
    "    Given a list L containing n >= 2 integers such that L[0] < L[n-1], returns a gap in the list.\n",
    "    A gap is an index i, 0 < i < n such that L[i-1] < L[i]\n",
    "    \"\"\"    \n",
    "    return gap_helper(L, 0, len(L)-1)\n",
    "\n",
    "def gap_helper(L, i, j):\n",
    "    \"\"\" Searches a gap in sublist L[i:j]\n",
    "    \n",
    "    Given a list L containing n >= 2 integers such that L[i] < L[j], returns a gap in the sublist L[i:j]\n",
    "    A gap is an index z, i < z < j+1 such that L[z-1] < L[z]\n",
    "    \"\"\"    \n",
    "    raise Exception(\"TODO implement me!\")\n",
    "    \n",
    "class GapRecTest(unittest.TestCase):\n",
    "   \n",
    "    def test_two_elements(self):        \n",
    "        self.assertEqual(gap_rec([1,2]),1) \n",
    "\n",
    "    def test_three_elements_middle(self):                        \n",
    "        self.assertEquals(gap_rec([1,3,3]), 1)        \n",
    "        \n",
    "    def test_three_elements_right(self):        \n",
    "        self.assertEquals(gap_rec([1,1,3]), 2)        \n"
   ]
  },
  {
   "cell_type": "markdown",
   "metadata": {},
   "source": [
    "## Implement binary_search_rec\n",
    "\n",
    "Try to code and test the `binarySearch` recursive function from <a href=\"http://disi.unitn.it/~montreso/sp/slides/02-recursion.pdf\" target=\"_blank\">recursion theory slides (slide 21)</a>:\n",
    "    \n",
    "<img src=\"img/binary-search-recursive.png\">\n",
    "\n",
    "* Use the following skeleton to code it\n",
    "* add some test to the provided testcase class\n",
    "* Does the pseudocode algorithm work with the empty list? \n",
    "* What happens if we allow non-distinct numbers? Does it work anyway? \n",
    "\n",
    "Notice that\n",
    "\n",
    "* we renamed `binarySearch` to `binary_search_rec` to have more pythonic name and differentiate it from the iterative one\n",
    "* the renamed function `binary_search_rec(L)` only accepts a list, without indexes `i` and `j`, we will need a way to specify them when we translate the pseudocode. You can follow the same pattern used for `gap_rec_helper`\n",
    "    * SUGGESTION 1: write as a comment what the helper function is expected to receive. Can it receive an empty list? Can it receive indices out of bounds? You decide the assumptions, but once they are decided you should make sure that unacceptable values don't get into it!\n",
    "    * SUGGESTION 2: if you want to make sure no empty list enters the helper function, you can enforce preconditions and do active checking by writing this command at the beginning of the function:\n",
    "    \n",
    "    ```python\n",
    "        assert len(L) > 0\n",
    "    ```\n",
    "    This command will make python interrupt execution and throw an error as soon it detects list `L` is empty. You can put any condition you want after `assert`, but ideally they should be fast to execute.\n",
    "* To understand what's going on, try copy pasting your solution in <a href=\"http://pythontutor.com/visualize.html#mode=edit\" target=\"_blank\">Python tutor</a> and hit `Visualize execution` and then Forward to step through the process\n",
    "* Remember that even experienced programmers tend to fail implementing the binary search at first time, it's easy to get wrong indexes! So good tests here can really spot issues."
   ]
  },
  {
   "cell_type": "code",
   "execution_count": 9,
   "metadata": {
    "collapsed": true
   },
   "outputs": [],
   "source": [
    "import unittest\n",
    "\n",
    "def binary_search_rec(L,v ):\n",
    "    \"\"\" Searches value v in sorted list L\n",
    "    \n",
    "    Given a list L containing n distinct sorted integers, returns the index position\n",
    "    of element with value v, or -1 if not found\n",
    "    \"\"\"\n",
    "\n",
    "    raise Exception(\"TODO implement me!\")    \n",
    "    \n",
    "class BinarySearchRecTest(unittest.TestCase):       \n",
    "    \n",
    "    def test_empty(self):\n",
    "        self.assertEqual(binary_search_rec([], 7), -1)\n",
    "   \n",
    "    def test_one_element_found(self):        \n",
    "        self.assertEqual(binary_search_rec([7],7),0) \n",
    "\n",
    "    def test_one_element_not_found(self):\n",
    "        self.assertEqual(binary_search_rec([6],7),-1)         \n",
    "    \n",
    "    def test_one_negative_element_not_found(self):        \n",
    "        self.assertEqual(binary_search_rec([-7],7),-1)         \n",
    "\n",
    "    def test_two_elements_found_right(self):                        \n",
    "        self.assertEquals(binary_search_rec([6,7],7), 1)        \n",
    "        \n",
    "    def test_two_elements_not_found(self):                        \n",
    "        self.assertEquals(binary_search_rec([6,7],3), -1)\n",
    "        \n",
    "    def test_two_elements_found_left(self):                        \n",
    "        self.assertEquals(binary_search_rec([6,7],6), 0)    \n",
    "                \n",
    "    def test_long_list(self):                        \n",
    "        self.assertEquals(binary_search_rec([2,4,5,7,9],7), 3)           \n",
    "        "
   ]
  },
  {
   "cell_type": "markdown",
   "metadata": {},
   "source": [
    "## Implement binary_search_iter\n",
    "\n",
    "Try to code and test the `iterativeBinarySearch` function from <a href=\"http://disi.unitn.it/~montreso/sp/slides/01-introduzione.pdf\" target=\"_blank\">Introduction slides (slide 18)</a>:\n",
    "    \n",
    "<img src=\"img/binary-search-iterative.png\">\n",
    "\n",
    "* This time, there's no code skeleton and you're on your own! \n",
    "* Try to reuse test cases from the recursive version\n"
   ]
  },
  {
   "cell_type": "markdown",
   "metadata": {},
   "source": [
    "# Implementation solutions"
   ]
  },
  {
   "cell_type": "markdown",
   "metadata": {},
   "source": [
    "## Implement `swap` solution"
   ]
  },
  {
   "cell_type": "code",
   "execution_count": 10,
   "metadata": {
    "collapsed": true
   },
   "outputs": [],
   "source": [
    "import unittest\n",
    "\n",
    "def swap(A, x, y):\n",
    "    \"\"\"\n",
    "    In the array A, swaps the elements at position x and y.\n",
    "    \"\"\"\n",
    "    temp = A[x]\n",
    "    A[x] = A[y]\n",
    "    A[y] = temp\n",
    "    \n",
    "class SwapTest(unittest.TestCase):\n",
    "   \n",
    "    def test_one_element(self):\n",
    "        v = ['a'];\n",
    "        swap(v,0,0)\n",
    "        self.assertEqual(v, ['a'])\n",
    "\n",
    "    def test_two_elements(self):\n",
    "        v = ['a','b'];\n",
    "        swap(v,0,1)\n",
    "        self.assertEqual(v, ['b','a'])\n",
    "        \n",
    "    def test_return_none(self):\n",
    "        v = ['a','b', 'c', 'd'];\n",
    "        self.assertEquals(None, swap(v,1,3))        \n",
    "        \n",
    "    def test_long_list(self):\n",
    "        v = ['a','b', 'c', 'd'];\n",
    "        swap(v,1,3)\n",
    "        self.assertEqual(v, ['a', 'd','c', 'b'])\n",
    "        \n",
    "        \n",
    "    def test_swap_property(self):\n",
    "        v = ['a','b','c','d'];\n",
    "        w = ['a','b','c','d'];\n",
    "        swap(v,1,3)\n",
    "        swap(w,3,1)\n",
    "        self.assertEqual(v, w)\n",
    "\n",
    "    def test_double_swap(self):\n",
    "        v = ['a','b','c','d'];        \n",
    "        swap(v,1,3)\n",
    "        swap(v,1,3)\n",
    "        self.assertEqual(v, ['a','b','c','d'])"
   ]
  },
  {
   "cell_type": "code",
   "execution_count": 11,
   "metadata": {
    "collapsed": false
   },
   "outputs": [
    {
     "name": "stderr",
     "output_type": "stream",
     "text": [
      "......\n",
      "----------------------------------------------------------------------\n",
      "Ran 6 tests in 0.013s\n",
      "\n",
      "OK\n"
     ]
    }
   ],
   "source": [
    "algolab.run(SwapTest)"
   ]
  },
  {
   "cell_type": "markdown",
   "metadata": {},
   "source": [
    "## Implement `partial_min_pos` solution"
   ]
  },
  {
   "cell_type": "code",
   "execution_count": 12,
   "metadata": {
    "collapsed": false
   },
   "outputs": [],
   "source": [
    "import unittest\n",
    "\n",
    "def partial_min_pos(A, i):\n",
    "    \"\"\"\n",
    "    Return the index of the element in list A which is lesser or equal than all other values in A \n",
    "    that start from index i included\n",
    "    \"\"\"\n",
    "    pm = i\n",
    "    \n",
    "    for j in range(i+1, len(A)):\n",
    "        if (A[j] < A[pm]):\n",
    "            pm = j \n",
    "    return pm\n",
    "    \n",
    "class PartialMinPosTest(unittest.TestCase):\n",
    "   \n",
    "    def test_one_element(self):\n",
    "        self.assertEqual(partial_min_pos([1],0),0)     \n",
    "\n",
    "    def test_two_elements(self):\n",
    "        self.assertEqual(partial_min_pos([1,2],0),0)\n",
    "        self.assertEqual(partial_min_pos([2,1],0),1)\n",
    "        self.assertEqual(partial_min_pos([2,1],1),1)\n",
    "        \n",
    "    def test_long_list(self):\n",
    "        self.assertEqual(partial_min_pos([8,9,6,5,7],2),3)\n",
    "\n",
    "        "
   ]
  },
  {
   "cell_type": "code",
   "execution_count": 13,
   "metadata": {
    "collapsed": false
   },
   "outputs": [
    {
     "name": "stderr",
     "output_type": "stream",
     "text": [
      "...\n",
      "----------------------------------------------------------------------\n",
      "Ran 3 tests in 0.003s\n",
      "\n",
      "OK\n"
     ]
    }
   ],
   "source": [
    "algolab.run(PartialMinPosTest)"
   ]
  },
  {
   "cell_type": "markdown",
   "metadata": {},
   "source": [
    "## implement `selection_sort` solution"
   ]
  },
  {
   "cell_type": "code",
   "execution_count": 14,
   "metadata": {
    "collapsed": true
   },
   "outputs": [],
   "source": [
    "import unittest\n",
    "\n",
    "def selection_sort(A):\n",
    "    \"\"\"\n",
    "    Sorts the list A in-place in O(n^2) time. \n",
    "    \"\"\"\n",
    "    for i in range(0, len(A)-1):\n",
    "        m = partial_min_pos(A, i)\n",
    "        swap(A, i, m)\n",
    "    \n",
    "class SelectionSortTest(unittest.TestCase):\n",
    "   \n",
    "    def test_zero_elements(self):\n",
    "        v = []\n",
    "        selection_sort(v)\n",
    "        self.assertEqual(v,[])     \n",
    "        \n",
    "    def test_return_none(self):    \n",
    "        self.assertEquals(None, selection_sort([2]))        \n",
    "        \n",
    "    def test_one_element(self):\n",
    "        v = [\"a\"]\n",
    "        selection_sort(v)\n",
    "        self.assertEqual(v,[\"a\"])     \n",
    "        \n",
    "\n",
    "    def test_two_elements(self):\n",
    "        v = [2,1]\n",
    "        selection_sort(v)\n",
    "        self.assertEqual(v,[1,2])  \n",
    "        \n",
    "    def test_three_elements(self):\n",
    "        v = [2,1,3]\n",
    "        selection_sort(v)\n",
    "        self.assertEqual(v,[1,2,3])\n",
    "    \n",
    "    def test_piccinno_list(self):        \n",
    "        v = [23, 34, 55, 32, 7777, 98, 3, 2, 1]        \n",
    "        selection_sort(v)\n",
    "        vcopy = v[:]\n",
    "        vcopy.sort()\n",
    "        self.assertEqual(v, vcopy)    \n"
   ]
  },
  {
   "cell_type": "code",
   "execution_count": 15,
   "metadata": {
    "collapsed": false
   },
   "outputs": [
    {
     "name": "stderr",
     "output_type": "stream",
     "text": [
      "......\n",
      "----------------------------------------------------------------------\n",
      "Ran 6 tests in 0.007s\n",
      "\n",
      "OK\n"
     ]
    }
   ],
   "source": [
    "algolab.run(SelectionSortTest)"
   ]
  },
  {
   "cell_type": "markdown",
   "metadata": {},
   "source": [
    "## Implement gap_rec solution"
   ]
  },
  {
   "cell_type": "code",
   "execution_count": 16,
   "metadata": {
    "collapsed": true
   },
   "outputs": [],
   "source": [
    "import unittest\n",
    "\n",
    "def gap_rec(L):\n",
    "    \"\"\"\n",
    "    Given a list L containing n >= 2 integers such that L[0] < L[n-1], returns a gap in the list.\n",
    "    A gap is an index i, 0 < i < n such that L[i-1] < L[i]\n",
    "    \"\"\"    \n",
    "    return gap_helper(L, 0, len(L)-1)\n",
    "\n",
    "def gap_helper(L, i, j):\n",
    "    \"\"\"\n",
    "    Given a list L containing n >= 2 integers such that L[i] < L[j], returns a gap in the sublist L[i:j]\n",
    "    A gap is an index z, i < z < j+1 such that L[z-1] < L[z]\n",
    "    \"\"\"\n",
    "    if j == i + 1:\n",
    "        return j\n",
    "    m = (i+j) // 2   # remember in every python version // operator behaves the same and floors the result\n",
    "    \n",
    "    if (L[m] <= L[i]):\n",
    "        return gap_helper(L, m, j)\n",
    "    else:\n",
    "        return gap_helper(L, i, m)\n",
    "    \n",
    "class GapRecTest(unittest.TestCase):\n",
    "   \n",
    "    def test_two_elements(self):        \n",
    "        self.assertEqual(gap_rec([1,2]),1) \n",
    "\n",
    "    def test_three_elements_middle(self):                        \n",
    "        self.assertEquals(gap_rec([1,3,3]), 1)        \n",
    "        \n",
    "    def test_three_elements_right(self):        \n",
    "        self.assertEquals(gap_rec([1,1,3]), 2)        \n"
   ]
  },
  {
   "cell_type": "code",
   "execution_count": 17,
   "metadata": {
    "collapsed": false
   },
   "outputs": [
    {
     "name": "stderr",
     "output_type": "stream",
     "text": [
      "...\n",
      "----------------------------------------------------------------------\n",
      "Ran 3 tests in 0.003s\n",
      "\n",
      "OK\n"
     ]
    }
   ],
   "source": [
    "algolab.run(GapRecTest)"
   ]
  },
  {
   "cell_type": "markdown",
   "metadata": {},
   "source": [
    "## Implement binary_search_rec solution"
   ]
  },
  {
   "cell_type": "code",
   "execution_count": 18,
   "metadata": {
    "collapsed": true
   },
   "outputs": [],
   "source": [
    "import unittest\n",
    "\n",
    "def binary_search_rec(L,v ):\n",
    "    \"\"\" Searches value v in sorted list L\n",
    "    \n",
    "    Given a list L containing n distinct sorted integers, returns the index position\n",
    "    of element with value v, or -1 if not found\n",
    "    \"\"\"\n",
    "\n",
    "    return binary_search_helper(L,v, 0, len(L)-1)\n",
    "\n",
    "def binary_search_helper(L, v, i, j):\n",
    "    \"\"\" Helper for the recursive binary search\n",
    "    \n",
    "    Given a list L containing n distinct sorted integers, returns the index position\n",
    "    of element with value v if it is present in sublist L[i:j], or -1 if not found\n",
    "    \"\"\"\n",
    "    if i > j:\n",
    "        return -1\n",
    "    \n",
    "    m = (i+j) // 2   # remember in every python version // operator behaves the same and floors the result\n",
    "        \n",
    "    # print \"L = \", L\n",
    "    # print \"v = \", v\n",
    "    # print \"m = \", m\n",
    "    # print \"i = \", i\n",
    "    # print \"j = \", j\n",
    "    \n",
    "    if L[m] == v:\n",
    "        return m\n",
    "    elif L[m] < v:\n",
    "        return binary_search_helper(L, v, m + 1, j)\n",
    "    else:\n",
    "        return binary_search_helper(L, v, i, m - 1)\n",
    "    \n",
    "class BinarySearchRecTest(unittest.TestCase):       \n",
    "    \n",
    "    def test_empty(self):\n",
    "        self.assertEqual(binary_search_rec([], 7), -1)\n",
    "   \n",
    "    def test_one_element_found(self):        \n",
    "        self.assertEqual(binary_search_rec([7],7),0) \n",
    "\n",
    "    def test_one_element_not_found(self):\n",
    "        self.assertEqual(binary_search_rec([6],7),-1)         \n",
    "    \n",
    "    def test_one_negative_element_not_found(self):        \n",
    "        self.assertEqual(binary_search_rec([-7],7),-1)         \n",
    "\n",
    "    def test_two_elements_found_right(self):                        \n",
    "        self.assertEquals(binary_search_rec([6,7],7), 1)        \n",
    "        \n",
    "    def test_two_elements_not_found(self):                        \n",
    "        self.assertEquals(binary_search_rec([6,7],3), -1)\n",
    "        \n",
    "    def test_two_elements_found_left(self):                        \n",
    "        self.assertEquals(binary_search_rec([6,7],6), 0)        \n",
    "        \n",
    "    def test_long_list(self):                        \n",
    "        self.assertEquals(binary_search_rec([2,4,5,7,9],7), 3)       \n",
    "        \n",
    "    def test_not_distinct_found(self):                        \n",
    "        self.assertEquals(binary_search_rec([7,7],7), 0)        \n",
    "\n",
    "    def test_not_distinct_not_found(self):                        \n",
    "        self.assertEquals(binary_search_rec([7,7],5), -1)\n",
    "        \n",
    "        \n",
    "        "
   ]
  },
  {
   "cell_type": "code",
   "execution_count": 19,
   "metadata": {
    "collapsed": false
   },
   "outputs": [
    {
     "name": "stderr",
     "output_type": "stream",
     "text": [
      "..........\n",
      "----------------------------------------------------------------------\n",
      "Ran 10 tests in 0.009s\n",
      "\n",
      "OK\n"
     ]
    }
   ],
   "source": [
    "algolab.run(BinarySearchRecTest)"
   ]
  }
 ],
 "metadata": {
  "kernelspec": {
   "display_name": "Python 2",
   "language": "python",
   "name": "python2"
  },
  "language_info": {
   "codemirror_mode": {
    "name": "ipython",
    "version": 2
   },
   "file_extension": ".py",
   "mimetype": "text/x-python",
   "name": "python",
   "nbconvert_exporter": "python",
   "pygments_lexer": "ipython2",
   "version": "2.7.11+"
  }
 },
 "nbformat": 4,
 "nbformat_minor": 1
}
