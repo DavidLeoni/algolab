{
 "cells": [
  {
   "cell_type": "markdown",
   "metadata": {
    "collapsed": false
   },
   "source": [
    "import algolab\n",
    "import sys\n",
    "sys.path.append('../exams/2017-01-26-lab/solutions')\n",
    "#sys.path.append('past-exams/2017-01-13-midterm/solutions')\n",
    "algolab.init()"
   ]
  },
  {
   "cell_type": "markdown",
   "metadata": {
    "collapsed": true
   },
   "source": [
    "from exercise1_solution import *"
   ]
  },
  {
   "cell_type": "markdown",
   "metadata": {},
   "source": [
    "### 1.3) swapsort\n",
    "\n",
    "When you know how to push a maximum element to the rightmost position of an array, you almost have a sorting algorithm. So now you can try to implement `swapsort` function, taking inspiration from `max_to_right`.\n",
    "Note `swapsort` is a function *external* to the class `SwapArray`: \n",
    "\n",
    "\n",
    "```python\n",
    "def swapsort(sarr):\n",
    "    \"\"\" Sorts in-place provided SwapArray.\n",
    "\n",
    "        NOTE: Here you are a user of SwapArray, so you *MUST NOT* access\n",
    "              directly the field _arr. To do changes, you can only use \n",
    "              the method swap(self, i).      \n",
    "        NOTE: does *not* return anything! \n",
    "    \"\"\"\n",
    "\n",
    "    raise Exception(\"TODO IMPLEMENT ME !\")\n",
    "```\n",
    "\n",
    "You can run tests only for `swapsort` with this command:\n",
    "\n",
    "```bash\n",
    "    python -m unittest exercise1.SwapSortTest\n",
    "```\n",
    "\n",
    "**Example usage:**"
   ]
  },
  {
   "cell_type": "markdown",
   "metadata": {
    "collapsed": false
   },
   "source": [
    "sarr = SwapArray([7,8,6, 6])\n",
    "print sarr "
   ]
  },
  {
   "cell_type": "markdown",
   "metadata": {
    "collapsed": false
   },
   "source": [
    "swapsort(sarr)\n",
    "print sarr"
   ]
  },
  {
   "cell_type": "code",
   "execution_count": null,
   "metadata": {
    "collapsed": true
   },
   "outputs": [],
   "source": []
  }
 ],
 "metadata": {
  "kernelspec": {
   "display_name": "Python 2",
   "language": "python",
   "name": "python2"
  },
  "language_info": {
   "codemirror_mode": {
    "name": "ipython",
    "version": 2
   },
   "file_extension": ".py",
   "mimetype": "text/x-python",
   "name": "python",
   "nbconvert_exporter": "python",
   "pygments_lexer": "ipython2",
   "version": "2.7.12"
  }
 },
 "nbformat": 4,
 "nbformat_minor": 1
}
