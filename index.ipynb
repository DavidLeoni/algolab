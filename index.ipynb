{
 "cells": [
  {
   "cell_type": "markdown",
   "metadata": {
    "collapsed": false
   },
   "source": [
    "\n",
    "<!-- !!!!!!!!!!    NOTICE THE INDEX IN THE CELL BELOW HERE  WILL LOOK INVISIBLE IN JUPYTER  !!!!!!!!!!!!!!!!!   -->\n"
   ]
  },
  {
   "cell_type": "code",
   "execution_count": 1,
   "metadata": {
    "collapsed": false
   },
   "outputs": [
    {
     "data": {
      "text/html": [
       "<style>\n",
       "\n",
       "    #algolab-nav {\n",
       "        position: fixed;\n",
       "        top: 10px; \n",
       "        left: 5px; \n",
       "        background: white;\n",
       "        width: 200px; \n",
       "        padding: 10px; \n",
       "        z-index: 10;\n",
       "    }\n",
       "\n",
       "    /* style=\"background: rgba(255, 255, 255, 0);\" class=\"unstyled\" */\n",
       "  \n",
       "    #algolab-toc {\n",
       "        position: fixed;\n",
       "        top: 100px; \n",
       "        left: -55px; \n",
       "        background: rgba(255, 255, 255, 0);\n",
       "        \n",
       "        height: 80%;\n",
       "        width: 200px; \n",
       "        padding: 20px; \n",
       "        z-index: 10;\n",
       "        overflow-y: scroll;        \n",
       "            /* font-size: 50%; */\n",
       "    }\n",
       "\n",
       "    \n",
       "    \n",
       "    code {\n",
       "        background-color:rgb(245, 249, 249) !important;\n",
       "    }\n",
       "    \n",
       "    \n",
       "    .algolab-nav-item {\n",
       "        font-weight:bold;\n",
       "        font-size:120%  \n",
       "    }\n",
       "    \n",
       "    .algolab-chapter-link {\n",
       "        font-size:150%;\n",
       "        margin-right:15px;        \n",
       "    }\n",
       "    \n",
       "    .algolab-chapter-link a {\n",
       "        text-decoration: none;\n",
       "    }    \n",
       "    \n",
       "    .algolab-title {\n",
       "        font-size:250%; \n",
       "        font-weight:bold        \n",
       "    }    \n",
       "        \n",
       "    .algolab-warn {    \n",
       "        background-color: #fcf2f2;        \n",
       "        border-left: 5px solid #dfb5b4;\n",
       "        padding: 1.5em;\n",
       "        font-weight:bold;\n",
       "        margin-bottom:10px;\n",
       "    }\n",
       "\n",
       "    .algolab-question {    \n",
       "        background-color: rgb(251, 231, 250);\n",
       "        border-left: 5px solid rgb(189, 151, 184);\n",
       "        padding: 1.5em;\n",
       "        font-weight:bold;\n",
       "        margin-bottom:10px;\n",
       "    }\n",
       "        \n",
       "    \n",
       "    .algolab-important {\n",
       "        background-color: rgba(255, 238, 0, 0.31);\n",
       "        border-left: 5px solid rgba(205, 208, 0, 1.0);\n",
       "        color: #000;        \n",
       "        padding: 1.5em;\n",
       "        font-weight:bold;\n",
       "        margin-bottom:10px;\n",
       "    }\n",
       "    \n",
       "    \n",
       "    #algolab-toc ul {                                                                                                                                                                           \n",
       "        list-style-type: none;                                                                                                                                                                 \n",
       "        margin-left: 5px;\n",
       "    }\n",
       "    \n",
       "    #algolab-toc li {        \n",
       "         padding-left: 3px;\n",
       "    }    \n",
       "    \n",
       "    #algolab-toc .h1 {\n",
       "        font-size:110%; \n",
       "        \n",
       "    }\n",
       "    \n",
       "    #algolab-toc .h2 {\n",
       "        font-size:100%; \n",
       "        padding-left:15px;\n",
       "    }\n",
       "\n",
       "    #algolab-toc .h3 {\n",
       "        font-size:100%; \n",
       "        padding-left:25px;\n",
       "    }\n",
       "    \n",
       "    \n",
       "    \n",
       "    #notebook-container {\n",
       "        box-shadow : none;\n",
       "\t-web-kit-box-shadow: none;\n",
       "    }\n",
       "    \n",
       "\n",
       "    #algolab-toc .toc-active {\n",
       "        background: rgba(168, 254, 255, 0.32);\n",
       "    }\n",
       " </style>\n",
       "\n",
       "<script>\n",
       "\n",
       "/*!\n",
       " * toc - jQuery Table of Contents Plugin\n",
       " * v0.3.2\n",
       " * http://projects.jga.me/toc/\n",
       " * copyright Greg Allen 2014\n",
       " * MIT License\n",
       "*/\n",
       "!function(a){a.fn.smoothScroller=function(b){b=a.extend({},a.fn.smoothScroller.defaults,b);var c=a(this);return a(b.scrollEl).animate({scrollTop:c.offset().top-a(b.scrollEl).offset().top-b.offset},b.speed,b.ease,function(){var a=c.attr(\"id\");a.length&&(history.pushState?history.pushState(null,null,\"#\"+a):document.location.hash=a),c.trigger(\"smoothScrollerComplete\")}),this},a.fn.smoothScroller.defaults={speed:400,ease:\"swing\",scrollEl:\"body,html\",offset:0},a(\"body\").on(\"click\",\"[data-smoothscroller]\",function(b){b.preventDefault();var c=a(this).attr(\"href\");0===c.indexOf(\"#\")&&a(c).smoothScroller()})}(jQuery),function(a){var b={};a.fn.toc=function(b){var c,d=this,e=a.extend({},jQuery.fn.toc.defaults,b),f=a(e.container),g=a(e.selectors,f),h=[],i=e.activeClass,j=function(b,c){if(e.smoothScrolling&&\"function\"==typeof e.smoothScrolling){b.preventDefault();var f=a(b.target).attr(\"href\");e.smoothScrolling(f,e,c)}a(\"li\",d).removeClass(i),a(b.target).parent().addClass(i)},k=function(){c&&clearTimeout(c),c=setTimeout(function(){for(var b,c=a(window).scrollTop(),f=Number.MAX_VALUE,g=0,j=0,k=h.length;k>j;j++){var l=Math.abs(h[j]-c);f>l&&(g=j,f=l)}a(\"li\",d).removeClass(i),b=a(\"li:eq(\"+g+\")\",d).addClass(i),e.onHighlight(b)},50)};return e.highlightOnScroll&&(a(window).bind(\"scroll\",k),k()),this.each(function(){var b=a(this),c=a(e.listType);g.each(function(d,f){var g=a(f);h.push(g.offset().top-e.highlightOffset);var i=e.anchorName(d,f,e.prefix);if(f.id!==i){a(\"<span/>\").attr(\"id\",i).insertBefore(g)}var l=a(\"<a/>\").text(e.headerText(d,f,g)).attr(\"href\",\"#\"+i).bind(\"click\",function(c){a(window).unbind(\"scroll\",k),j(c,function(){a(window).bind(\"scroll\",k)}),b.trigger(\"selected\",a(this).attr(\"href\"))}),m=a(\"<li/>\").addClass(e.itemClass(d,f,g,e.prefix)).append(l);c.append(m)}),b.html(c)})},jQuery.fn.toc.defaults={container:\"body\",listType:\"<ul/>\",selectors:\"h1,h2,h3\",smoothScrolling:function(b,c,d){a(b).smoothScroller({offset:c.scrollToOffset}).on(\"smoothScrollerComplete\",function(){d()})},scrollToOffset:0,prefix:\"toc\",activeClass:\"toc-active\",onHighlight:function(){},highlightOnScroll:!0,highlightOffset:100,anchorName:function(c,d,e){if(d.id.length)return d.id;var f=a(d).text().replace(/[^a-z0-9]/gi,\" \").replace(/\\s+/g,\"-\").toLowerCase();if(b[f]){for(var g=2;b[f+g];)g++;f=f+\"-\"+g}return b[f]=!0,e+\"-\"+f},headerText:function(a,b,c){return c.text()},itemClass:function(a,b,c,d){return d+\"-\"+c[0].tagName.toLowerCase()}}}(jQuery);\n",
       "\n",
       "function showthis(url) {\n",
       "    window.open(url, \"pres\", \"toolbar=yes,scrollbars=yes,resizable=yes,top=10,left=400,width=500,height=500\");\n",
       "    return(false);\n",
       "}\n",
       "\n",
       "var algolab = {\n",
       "    \n",
       "    isReduced : function(){\n",
       "        return $(window).width() < 924;\n",
       "    },\n",
       "    hoverToc : function(){\n",
       "        return $('#algolab-toc:hover').length != 0;\n",
       "    },\n",
       "    resize : function(){\n",
       "        if (algolab.isReduced()){\n",
       "            $(\"#algolab-toc\").hide();\n",
       "        } else {\n",
       "            $(\"#algolab-toc\").show();\n",
       "            $(\"#algolab-toc\").css(\"background\",\"rgba(255, 255, 255, 0)\");\n",
       "            \n",
       "            tocParams = {\n",
       "                \n",
       "                'selectors': 'h1,h2,h3', //elements to use as headings\n",
       "                'container': 'body', //element to find all selectors in\n",
       "                'smoothScrolling': true, //enable or disable smooth scrolling on click\n",
       "                 //doesn't work  'prefix': 'algolab-toc', //prefix for anchor tags and class names\n",
       "                //'onHighlight': function(el) {}, //called when a new section is highlighted \n",
       "                'highlightOnScroll': true, //add class to heading that is currently in focus\n",
       "                'highlightOffset': 100, //offset to trigger the next headline\n",
       "                'anchorName': function(i, heading, prefix) { //custom function for anchor name\n",
       "                    return prefix+i;\n",
       "                },\n",
       "                'headerText': function(i, heading, $heading) { //custom function building the header-item text                  \n",
       "                    return $heading.text().replace(\"¶\",\"\");\n",
       "                },\n",
       "                'itemClass': function(i, heading, $heading, prefix) { // custom function for item class\n",
       "                    return $heading[0].tagName.toLowerCase();\n",
       "                }                \n",
       "            }\n",
       "            \n",
       "            $('#algolab-toc').toc(tocParams);\n",
       "        }\n",
       "    },\n",
       "    hideCellStartingWith : function(text){\n",
       "        $('.border-box-sizing .code_cell pre').filter(function() { \n",
       "                return $(this).text().indexOf(text) === 0; \n",
       "            }).parents('div .cell .input').hide();        \n",
       "    },\n",
       "    \n",
       "    init : function(){\n",
       "\n",
       "       var toc = $(\"<div>\").attr(\"id\", \"algolab-toc\");              \n",
       "       var indexLink = $(\"<a>\")\n",
       "                        .addClass(\"algolab-nav-item\")\n",
       "                        .attr(\"href\",\"index.html#Chapters\")\n",
       "                        .text(\"Algolab\");\n",
       "       \n",
       "       \n",
       "       \n",
       "       var candidateTitleText = $(\".algolab-title\").text();              \n",
       "                                  \n",
       "                    \n",
       "       \n",
       "       var nav = $(\"<div>\")\n",
       "                     .attr(\"id\", \"algolab-nav\")\n",
       "                    .append(indexLink);       \n",
       "       \n",
       "       if (candidateTitleText.length !== 0){\n",
       "\n",
       "           var title = $(\"<span>\")\n",
       "                    .addClass(\"algolab-nav-item\")\n",
       "                    .css(\"padding-left\",\"8px\")\n",
       "                    .text(candidateTitleText);\n",
       "            nav.append(\"<br>\")\n",
       "                .append(\"<br>\")\n",
       "                .append(title);                                \n",
       "        }\n",
       "                     \n",
       "       \n",
       "       algolab.hideCellStartingWith(\"%%HTML\");\n",
       "       algolab.hideCellStartingWith(\"import algolab\");      \n",
       "       \n",
       "       algolab.hideCellStartingWith(\"algolab.init()\"); \n",
       "              \n",
       "       if ($(\"#algolab-toc\").length === 0){\n",
       "           $(\"body\").append(toc);       \n",
       "       } else {\n",
       "           $(\"#algolab-toc\").replaceWith(toc);\n",
       "       }\n",
       "       \n",
       "       if ($(\"#algolab-nav\").length === 0){\n",
       "           $(\"body\").append(nav);       \n",
       "       } else {\n",
       "           $(\"#algolab-nav\").replaceWith(nav);\n",
       "       }              \n",
       "       \n",
       "       algolab.resize();\n",
       "    }\n",
       "}\n",
       "\n",
       "$( window ).resize(function() {\n",
       "    algolab.resize();\n",
       "});\n",
       "\n",
       "\n",
       "$(\"body\").on(\"mousemove\",function(event) {\n",
       "    if (algolab.isReduced()){\n",
       "        if (event.pageX < 50) {            \n",
       "             $(\"#algolab-toc\").show(); \n",
       "            $(\"#algolab-toc\").css(\"background\",\"rgba(255, 255, 255, 1.0)\");\n",
       "        } else {\n",
       "            \n",
       "            if (algolab.hoverToc()) {                    \n",
       "            } else {\n",
       "                $(\"#algolab-toc\").hide();                        \n",
       "            }\n",
       "                     \n",
       "/*            if ($(\"#algolab-toc\").is(\":visible\")){\n",
       "                if (algolab.hoverToc()) {                    \n",
       "                } else {\n",
       "                    $(\"#algolab-toc\").hide();                        \n",
       "                }\n",
       "            } else {\n",
       "                if (algolab.hoverToc())\n",
       "                  show\n",
       "              } else {\n",
       "                $(\"#algolab-toc\").hide();                        \n",
       "               }                 \n",
       "            }\n",
       "  */     \n",
       "        }\n",
       "    }\n",
       "});\n",
       "\n",
       "$(document).ready(algolab.init);\n",
       "\n",
       "</script>\n"
      ],
      "text/plain": [
       "<IPython.core.display.HTML object>"
      ]
     },
     "execution_count": 1,
     "metadata": {},
     "output_type": "execute_result"
    }
   ],
   "source": [
    "import algolab\n",
    "algolab.init()"
   ]
  },
  {
   "cell_type": "markdown",
   "metadata": {},
   "source": [
    "<center>\n",
    "<span style=\"font-size:250%; font-weight:bold \"> Module 2: Algorithm and Data Structures Lab </span>\n",
    "</center>\n",
    "\n",
    "<p>\n",
    "<br/>\n",
    "<center>\n",
    "\n",
    " David Leoni <br/>\n",
    " teaching assistant <br/>\n",
    " david.leoni [AT] unitn.it\n",
    "\n",
    "</center>\n",
    "<br/>\n",
    "<center>\n",
    "University of Trento\n",
    "</center>\n",
    "\n",
    "<center>\n",
    "<br/>\n",
    "26 Jan 2017\n",
    "<br/>\n",
    "v0.17\n",
    "</center>\n",
    "\n",
    "<br/>\n",
    "<br/>\n",
    "<center>\n",
    "<span>This work is licensed under a Creative Commons Attribution 4.0 License  \n",
    "<a href=\"https://creativecommons.org/licenses/by/4.0/\">creativecommons.org/licenses/by/4.0/</a>\n",
    "<a href=\"https://creativecommons.org/licenses/by/4.0/\"><img width=\"10%\" src=\"img/cc-by.svg\"></a></span>\n",
    "</center>\n",
    "</p>"
   ]
  },
  {
   "cell_type": "code",
   "execution_count": 1,
   "metadata": {
    "collapsed": false
   },
   "outputs": [
    {
     "data": {
      "text/html": [
       "\n",
       "\n",
       "<h1> News </h1>\n",
       "\n",
       "<h4> 26/01/2017 </h4>\n",
       "- published solutions of <a href=\"past-exams.html#2016-01-26\" target=\"_blank\"> 26/01/17 exam</a> <br/>\n",
       "- v0.17<br/>\n",
       "\n",
       "<h4> 23/01/2017 </h4>\n",
       "- Fixed many bugs in <a href=\"graphs.html\" target=\"_blank\">graph</a> reports of differences during testing  <br/>\n",
       "- v0.16<br/>\n",
       "\n",
       "<h4> 13/01/2017 </h4>\n",
       "- published solutions of <a href=\"past-exams.html#2017-01-13-midterm\" target=\"_blank\"> 13/01/17 Midterm</a> <br/>\n",
       "- v0.15<br/>\n",
       "\n",
       "<h4> 10/01/2017 </h4>\n",
       "- Added a lot of material <a href=\"graphs.html\" target=\"_blank\">on graphs </a> <br/>\n",
       "- v0.14<br/>\n",
       "\n",
       "<h4> 9/01/2017 </h4>\n",
       "- fixed broken link in Chapters to <a href=\"data-structures-2.html\" target=\"_blank\">Data Structures 2.2 for stacks and linked lists </a><br/>\n",
       "- 0.13.1<br/>\n",
       "\n",
       "<h4> 8/01/2017 </h4>\n",
       "- added looong intro to classes in <a href=\"data-structures-1.html\" target=\"_blank\" >Data Structures 2.1:  ComplexNumber</a><br/>\n",
       "- split Chapter 2: Data Structures into 2 parts, <a href=\"data-structures-1.html\" target=\"_blank\">2.1 for ComplexNumber</a> and <a href=\"data-structures-2.html\" target=\"_blank\">2.2 for stacks and linked lists.</a> <br/>\n",
       "- v0.13<br/>\n",
       "\n",
       "<h4>22/12/2016 </h4>\n",
       "- added graph exercises"
      ],
      "text/plain": [
       "<IPython.core.display.HTML object>"
      ]
     },
     "metadata": {},
     "output_type": "display_data"
    }
   ],
   "source": [
    "%%HTML\n",
    "\n",
    "\n",
    "<h1> News </h1>\n",
    "\n",
    "<h4> 26/01/2017 </h4>\n",
    "- published solutions of <a href=\"past-exams.html#2016-01-26\" target=\"_blank\"> 26/01/17 exam</a> <br/>\n",
    "- v0.17<br/>\n",
    "\n",
    "<h4> 23/01/2017 </h4>\n",
    "- Fixed many bugs in <a href=\"graphs.html\" target=\"_blank\">graph</a> reports of differences during testing  <br/>\n",
    "- v0.16<br/>\n",
    "\n",
    "<h4> 13/01/2017 </h4>\n",
    "- published solutions of <a href=\"past-exams.html#2017-01-13-midterm\" target=\"_blank\"> 13/01/17 Midterm</a> <br/>\n",
    "- v0.15<br/>\n",
    "\n",
    "<h4> 10/01/2017 </h4>\n",
    "- Added a lot of material <a href=\"graphs.html\" target=\"_blank\">on graphs </a> <br/>\n",
    "- v0.14<br/>\n",
    "\n",
    "<h4> 9/01/2017 </h4>\n",
    "- fixed broken link in Chapters to <a href=\"data-structures-2.html\" target=\"_blank\">Data Structures 2.2 for stacks and linked lists </a><br/>\n",
    "- 0.13.1<br/>\n",
    "\n",
    "<h4> 8/01/2017 </h4>\n",
    "- added looong intro to classes in <a href=\"data-structures-1.html\" target=\"_blank\" >Data Structures 2.1:  ComplexNumber</a><br/>\n",
    "- split Chapter 2: Data Structures into 2 parts, <a href=\"data-structures-1.html\" target=\"_blank\">2.1 for ComplexNumber</a> and <a href=\"data-structures-2.html\" target=\"_blank\">2.2 for stacks and linked lists.</a> <br/>\n",
    "- v0.13<br/>\n",
    "\n",
    "<h4>22/12/2016 </h4>\n",
    "- added graph exercises\n"
   ]
  },
  {
   "cell_type": "markdown",
   "metadata": {},
   "source": [
    "\n",
    " \n",
    "\n",
    "# Exams\n",
    "\n",
    "See exams schedule on  <a href=\"http://cricca.disi.unitn.it/montresor/teaching/scientific-programming/exams/\" target=\"_blank\"> Alberto Montresor's site</a>\n",
    "\n",
    "\n",
    "## Exam modalities\n",
    "\n",
    "Algolab exams are open book. You can bring a printed version of the material listed below.\n",
    "\n",
    "Exam will take place in the lab with no internet access. You will only be able to access a folder with this documentation:\n",
    "\n",
    "* [Sciprog Algolab website](http://davidleoni.github.io/algolab)\n",
    "* [Alberto Montresor slides](http://cricca.disi.unitn.it/montresor/teaching/scientific-programming/)\n",
    "* [Stefano Teso slides](http://disi.unitn.it/~teso/courses/sciprog/index.html)\n",
    "* [Python 2.7 documentation](https://docs.python.org/2/)\n",
    "    * In particular, [Unittest docs](https://docs.python.org/2/library/unittest.html)\n",
    "* [The course book 'Problem Solving with Algorithms and Data Structures using Python'](http://interactivepython.org/runestone/static/pythonds/index.html)\n",
    "\n",
    "So if you need to look up some Python function, please start today learning how to search documentation using the search functionality on Python website.\n",
    "\n"
   ]
  },
  {
   "cell_type": "markdown",
   "metadata": {
    "collapsed": false
   },
   "source": [
    "## Past exams\n",
    "\n",
    "See page <a href=\"past-exams.html\" target=\"_blank\"  >here</a>."
   ]
  },
  {
   "cell_type": "markdown",
   "metadata": {},
   "source": [
    "# Course website \n",
    "\n",
    "\n",
    "<span style=\"font-size:130%; font-weight:bold\"> Theory </span> \n",
    "\n",
    "See Alberto Montresor website:\n",
    "\n",
    "<a href=\"http://cricca.disi.unitn.it/montresor/teaching/scientific-programming\" target=\"_blank\" style=\"font-size:200%\">http://cricca.disi.unitn.it/montresor/teaching/scientific-programming</a>\n",
    "\n",
    "<span style=\"font-size:130%; font-weight:bold\"> Lab </span> \n",
    "\n",
    "\n",
    "<a href=\"https://davidleoni.github.io/algolab\" target=\"_blank\" style=\"font-size:200%\">davidleoni.github.io/algolab</a>\n",
    "\n"
   ]
  },
  {
   "cell_type": "markdown",
   "metadata": {},
   "source": [
    "\n",
    "# Chapters\n",
    "\n",
    "Worksheets are meant to be used online - pdf quality is not very good, if they result unreadable please tell me\n",
    "\n",
    "<span class=\"algolab-chapter-link\"> 0. <a href=\"testing.html\" target=\"_blank\" >Testing</a></span>  ([pdf](pdf/testing.pdf))\n",
    "\n",
    "<span class=\"algolab-chapter-link\"> 1. <a href=\"lists.html\" target=\"_blank\" >Lists</a></span> ([pdf](pdf/lists.pdf))\n",
    "\n",
    "<span class=\"algolab-chapter-link\"> 2 Data Structures <span>\n",
    "\n",
    "<span class=\"algolab-chapter-link\"> 2.1 <a href=\"data-structures-1.html\" target=\"_blank\" >ComplexNumber</a></span> ([pdf](pdf/data-structures-1.pdf))\n",
    "\n",
    "<span class=\"algolab-chapter-link\"> 2.2 <a href=\"data-structures-2.html\" target=\"_blank\" >Stacks and linked lists</a></span> ([pdf](pdf/data-structures-2.pdf))\n",
    "\n",
    "<span class=\"algolab-chapter-link\"> 3. <a href=\"trees.html\" target=\"_blank\" >Trees</a></span> ([pdf](pdf/trees.pdf))\n",
    "\n",
    "<span class=\"algolab-chapter-link\"> 4. <a href=\"graphs.html\" target=\"_blank\" >Graphs</a></span> ([pdf](pdf/graphs.pdf))\n",
    "\n",
    "<span class=\"algolab-chapter-link\"> A. <a href=\"past-exams.html\" target=\"_blank\" >Past exams</a></span> \n",
    "\n"
   ]
  },
  {
   "cell_type": "markdown",
   "metadata": {},
   "source": [
    "# Commandments"
   ]
  },
  {
   "cell_type": "code",
   "execution_count": 5,
   "metadata": {
    "collapsed": false
   },
   "outputs": [
    {
     "data": {
      "text/html": [
       "\n",
       "<p class=\"algolab-warn\">\n",
       "WARNING: If you don't follow the Commandments, bad things happen! \n",
       "</p>\n",
       "\n",
       "<p class=\"algolab-important\" >\n",
       "1) You shall test!\n",
       "</p>\n",
       "\n",
       "To run tests, enter the following command in the terminal:"
      ],
      "text/plain": [
       "<IPython.core.display.HTML object>"
      ]
     },
     "metadata": {},
     "output_type": "display_data"
    }
   ],
   "source": [
    "%%HTML\n",
    "\n",
    "<p class=\"algolab-warn\">\n",
    "WARNING: If you don't follow the Commandments, bad things happen! \n",
    "</p>\n",
    "\n",
    "<p class=\"algolab-important\" >\n",
    "1) You shall test!\n",
    "</p>\n",
    "\n",
    "To run tests, enter the following command in the terminal:\n"
   ]
  },
  {
   "cell_type": "markdown",
   "metadata": {},
   "source": [
    "\n",
    "```bash\n",
    "    python -m unittest my-file\n",
    "```"
   ]
  },
  {
   "cell_type": "code",
   "execution_count": 5,
   "metadata": {
    "collapsed": false
   },
   "outputs": [
    {
     "data": {
      "text/html": [
       "\n",
       "<p class=\"algolab-warn\">\n",
       "WARNING: In the call above, DON'T append the extension <i>.py</i> to <i>my-file</i>\n",
       "<br/>\n",
       "WARNING: Still, on the hard-disk the file MUST be named with a <i>.py</i> at the end, like <i>my-file.py</i>\n",
       "</p>\n",
       "\n",
       "<p class=\"algolab-important\" >\n",
       "2. You shall also write on paper!\n",
       "</p>\n",
       "\n",
       "<p>\n",
       "If staring at the monitor doesn't work, help yourself and draw a representation of the state sof the program. \n",
       "Tables, nodes, arrows, all can help figuring out a solution for the problem. \n",
       "</p>\n",
       "\n",
       "<p class=\"algolab-important\" >\n",
       "3. You shall copy *exactly the same* function definitions as in the exercises!\n",
       "</p>\n",
       "\n",
       "For example don't write :"
      ],
      "text/plain": [
       "<IPython.core.display.HTML object>"
      ]
     },
     "metadata": {},
     "output_type": "display_data"
    }
   ],
   "source": [
    "%%HTML\n",
    "\n",
    "<p class=\"algolab-warn\">\n",
    "WARNING: In the call above, DON'T append the extension <i>.py</i> to <i>my-file</i>\n",
    "<br/>\n",
    "WARNING: Still, on the hard-disk the file MUST be named with a <i>.py</i> at the end, like <i>my-file.py</i>\n",
    "</p>\n",
    "\n",
    "<p class=\"algolab-important\" >\n",
    "2. You shall also write on paper!\n",
    "</p>\n",
    "\n",
    "<p>\n",
    "If staring at the monitor doesn't work, help yourself and draw a representation of the state sof the program. \n",
    "Tables, nodes, arrows, all can help figuring out a solution for the problem. \n",
    "</p>\n",
    "\n",
    "<p class=\"algolab-important\" >\n",
    "3. You shall copy *exactly the same* function definitions as in the exercises!\n",
    "</p>\n",
    "\n",
    "For example don't write :\n"
   ]
  },
  {
   "cell_type": "markdown",
   "metadata": {},
   "source": [
    "```python\n",
    "    def MY_selection_sort(A):  \n",
    "```"
   ]
  },
  {
   "cell_type": "code",
   "execution_count": 6,
   "metadata": {
    "collapsed": false
   },
   "outputs": [
    {
     "data": {
      "text/html": [
       "\n",
       "<p class=\"algolab-important\" >\n",
       "4. You shall never ever reassign function parameters:\n",
       "</p>"
      ],
      "text/plain": [
       "<IPython.core.display.HTML object>"
      ]
     },
     "metadata": {},
     "output_type": "display_data"
    }
   ],
   "source": [
    "%%HTML\n",
    "\n",
    "<p class=\"algolab-important\" >\n",
    "4. You shall never ever reassign function parameters:\n",
    "</p>"
   ]
  },
  {
   "cell_type": "markdown",
   "metadata": {},
   "source": [
    "```python\n",
    "\n",
    "    def myfun(i, s, L, D):\n",
    "\n",
    "        # You shall not do any of such evil, no matter what the type of the parameter is:\n",
    "        i = 666            # basic types (int, float, ...)\n",
    "        s = \"666\"          # strings\n",
    "        L = [666]          # containers \n",
    "        D = {\"evil\":666}   # dictionaries\n",
    "\n",
    "        # For the sole case of composite parameters like lists or dictionaries, \n",
    "        # you can write stuff like this IF AND ONLY IF the function specification \n",
    "        # requires you to modify the parameter internal elements (i.e. sorting a list\n",
    "        # or changing a dictionary field):\n",
    "\n",
    "        L[4] = 2          # list\n",
    "        D.my_field = 5    # dictionary\n",
    "```\n",
    "\n",
    "This also applies to class methods. Never ever write horrors such as:\n",
    "\n",
    "```python\n",
    "\n",
    "class MyClass\n",
    "    def my_method(self, x, y):\n",
    "        self = {a:666}  # since self is a kind of dictionary, you might be tempted to do like this\n",
    "                        # but to the outside world this will bring no effect.\n",
    "                        # For example, let's say somebody from outside makes a call like this:\n",
    "                        #    mc = MyClass()\n",
    "                        #    mc.my_method()\n",
    "                        # after the call mc will not point to {a:666}\n",
    "        self = ['666']  # self is only supposed to be a sort of dictionary and passed from outside\n",
    "        self = 6        # self is only supposed to be a sort of dictionary and passed from outside\n",
    "```"
   ]
  },
  {
   "cell_type": "code",
   "execution_count": 7,
   "metadata": {
    "collapsed": false
   },
   "outputs": [
    {
     "data": {
      "text/html": [
       "\n",
       "<p class=\"algolab-important\" >\n",
       "5. You shall never ever assign values to method calls:\n",
       "</p>"
      ],
      "text/plain": [
       "<IPython.core.display.HTML object>"
      ]
     },
     "metadata": {},
     "output_type": "display_data"
    }
   ],
   "source": [
    "%%HTML\n",
    "\n",
    "<p class=\"algolab-important\" >\n",
    "5. You shall never ever assign values to method calls:\n",
    "</p>\n"
   ]
  },
  {
   "cell_type": "markdown",
   "metadata": {},
   "source": [
    "WRONG WRONG STUFF\n",
    "\n",
    "```python\n",
    "\n",
    "my_fun() = 666\n",
    "my_fun() = '666'\n",
    "my_fun() = [666]\n",
    "\n",
    "```\n",
    "\n",
    "CORRECT STUFF \n",
    "\n",
    "With the assignment operator we want to store in the left side a value from the right side, so all of these are valid operations:\n",
    "\n",
    "```python\n",
    "x = 5\n",
    "y = my_fun()\n",
    "z = []\n",
    "z[0] = 7\n",
    "d = {}\n",
    "d[\"a\"] = 6\n",
    "```\n",
    "\n",
    "Function calls such as `my_fun()` return instead results of calculations in a box that is created just for the purpose of the call and Python will just not allow us to reuse it as a variable. So whenever you see 'name()' at the left side, it _can't_ be possibly follewed by one equality `=` sign (but it can be followed by two equality signs `==` if you are performing a comparison).  "
   ]
  },
  {
   "cell_type": "code",
   "execution_count": 8,
   "metadata": {
    "collapsed": false
   },
   "outputs": [
    {
     "data": {
      "text/html": [
       "\n",
       "<p class=\"algolab-important\" >\n",
       "6. You shall use <i>return</i> command only if you see written <i>return</i> in the pseudocode!\n",
       "</p>"
      ],
      "text/plain": [
       "<IPython.core.display.HTML object>"
      ]
     },
     "metadata": {},
     "output_type": "display_data"
    }
   ],
   "source": [
    "%%HTML\n",
    "\n",
    "<p class=\"algolab-important\" >\n",
    "6. You shall use <i>return</i> command only if you see written <i>return</i> in the pseudocode!\n",
    "</p>"
   ]
  },
  {
   "cell_type": "markdown",
   "metadata": {},
   "source": [
    "If there is no `return` in the pseudocode, the function is intended to return `None`. In this case you don't even need to write `return None`, as Python will do it implicitly for you."
   ]
  },
  {
   "cell_type": "markdown",
   "metadata": {
    "collapsed": true
   },
   "source": [
    "# Slides\n",
    "\n",
    "**Lab 1 Slides**\n",
    "\n",
    "3 Nov 2016\n",
    "\n",
    "**Lab Goals**\n",
    "\n",
    "* Going from theory taught by Prof. Alberto Montresor to implementation\n",
    "* Pseudo code  -->   Python\n",
    "\n",
    "**How**\n",
    "\n",
    "* Hands-on approach\n",
    "* Performance considerations\n",
    "* Focus on correct code\n",
    "* Few Python functions\n",
    "\n",
    "**Lab Midterm?**\n",
    "\n",
    "Probably not. Still, will provide exam example.\n"
   ]
  },
  {
   "cell_type": "markdown",
   "metadata": {},
   "source": [
    "**Lab 2 Slides**\n",
    "\n",
    "Date: Nov 11th, 2016\n",
    "\n",
    "* More practical than last time!\n",
    "* Finish selection_sort and gap implementation\n",
    "* midlab pause ;-)\n",
    "* implement a Python class"
   ]
  },
  {
   "cell_type": "markdown",
   "metadata": {
    "collapsed": true
   },
   "source": [
    "**Lab 3 Slides**\n",
    "\n",
    "Nov 17th, 2016\n",
    "\n",
    "* Recursion\n",
    "    * `gap_rec`, `binary_search_rec`\n",
    "* `binary_search_iter`\n",
    "* Will give you more tests \n",
    "* Write also on paper!\n",
    "* Copy *exactly the same* function definitions!\n",
    "    * For example don't write `def MY_selection_sort(A):`  \n",
    "* use `return` command _only_ if you see written `return` in the pseudocode!\n",
    "    * If there is no `return` in the pseudocode, the function is intended to return `None`. In this case you don't even need to write `return None`, as Python will do it implicitly for you."
   ]
  },
  {
   "cell_type": "markdown",
   "metadata": {},
   "source": [
    "**Lab 4 Slides**\n",
    "\n",
    "Nov 18th, 2016\n",
    "\n",
    "* Divide et Impera\n",
    "    * binary_search_iter\n",
    "* Implement ComplexNumber ( see <a href=\"data-structures-1.html\" target=\"_blank\">Chapter 2.1</a> )\n",
    "\n",
    "New Commandment:\n",
    "\n",
    "You shall never ever reassign function parameters:\n",
    "\n",
    "```python\n",
    "def myfun(L, i, s):\n",
    "\n",
    "    # You shall not do any of this evil:\n",
    "    L = [666]\n",
    "    i = 666\n",
    "    s = \"666\"\n",
    "    \n",
    "```\n",
    "\n",
    "Previous commandments:\n",
    "\n",
    "* You shall also write on paper!\n",
    "* You shall copy exactly the same function definitions as in the exercises!\n",
    "* For example don't write def MY_selection_sort(A):\n",
    "* You shall use return command only if you see Written return in the pseudocode!\n",
    "* If there is no return in the pseudocode, the function is intended to return None. In this case you don't even need to write return None, as Python will do it implicitly for you."
   ]
  },
  {
   "cell_type": "markdown",
   "metadata": {},
   "source": [
    "**Lab 5 slides**\n",
    "\n",
    "24 Nov 2016\n",
    "\n",
    "* Implement ComplexNumber ( see <a href=\"data-structures-1.html\" target=\"_blank\">Chapter 2.1</a> )\n",
    "* Implement Stack\n"
   ]
  },
  {
   "cell_type": "markdown",
   "metadata": {},
   "source": [
    "**Lab 6 slides**\n",
    "\n",
    "1 Dic 2016\n",
    "\n",
    "* Implement `CappedStack` ( see <a href=\"data-structures-2.html\" target=\"_blank\">Chapter 2.2</a> )\n",
    "* Implement `UnorderedList`"
   ]
  },
  {
   "cell_type": "markdown",
   "metadata": {},
   "source": [
    "**Lab 7 slides**\n",
    "\n",
    "* UnorderedList"
   ]
  },
  {
   "cell_type": "markdown",
   "metadata": {},
   "source": [
    "**Lab 8 slides**\n",
    "\n",
    "* will start writing tests (will be required during exams)\n",
    "* invariants in particular\n",
    "* `UnorderedList` ( see <a href=\"data-structures-2.html\" target=\"_blank\">Chapter 2.2</a> ) until fast `size()` and `append()` included\n"
   ]
  },
  {
   "cell_type": "markdown",
   "metadata": {},
   "source": [
    "**Lab 9 slides**\n",
    "\n",
    "15 Dic 2016\n",
    "\n",
    "* Implement `GenericTree`, see <a href=\"trees.html\" target=\"_blank\">Trees chapter</a>\n",
    "\n"
   ]
  },
  {
   "cell_type": "markdown",
   "metadata": {},
   "source": [
    "**Lab 10 slides**\n",
    "\n",
    "19 Dic 2016\n",
    "\n",
    "* `GenericTree` see <a href=\"graphs.html\" target=\"_blank\">Graphs chapter</a>\n",
    "\n",
    "**Lab 11 slides**\n",
    "\n",
    "21 Dic 2016\n",
    "\n",
    "[Exam simulation](exam-sim-2016-12-21.html) !\n",
    "\n",
    "For exam solution, see Appendix A in [Chapters](#Chapters)\n"
   ]
  },
  {
   "cell_type": "markdown",
   "metadata": {},
   "source": [
    "# Office hours\n",
    "\n",
    "You can schedule a meeting by emailing me at david.leoni [AT] unitn.it , more or less I'm available every day until 19.00\n",
    "\n",
    "Then you will find me in Povo 1 building at DISI, in room 226 DKM :\n",
    "\n",
    "<img src=\"img/office.png\" width=\"40%\">"
   ]
  },
  {
   "cell_type": "markdown",
   "metadata": {},
   "source": [
    "# Resources\n",
    "\n",
    "* Online book: <a href=\"http://interactivepython.org/runestone/static/pythonds/index.html\" target=\"_blank\">\n",
    "    Problem Solving with Algorithms and Data Structures using Python </a>\n",
    "    by Brad Miller and David Ranum\n",
    "* <a href=\"http://cricca.disi.unitn.it/montresor/teaching/scientific-programming/slides/\" target=\"_blank\">  Theory slides </a> by Alberto Montresor\n",
    "* Will try to be consistent with <a href=\"http://disi.unitn.it/~teso/courses/sciprog/index.html\" target=\"_blank\"> other lab module notes </a> of Stefano Teso and Toma Tebaldi  \n",
    "* <a href=\"http://www.pythontutor.com/visualize.html#mode=edit\" target=\"_blank\">PythonTutor </a>, a visual virtual machine (_very useful_! can also be found in examples inside the book!)\n",
    "* [Source code](https://github.com/DavidLeoni/algolab) of these worksheets ([download zip](https://github.com/DavidLeoni/algolab/archive/master.zip)), in [Jupyter Notebook](http://jupyter.org) format. \n",
    "* The internet ....\n",
    "\n",
    "### Editors\n",
    "\n",
    "* [Spyder](https://pythonhosted.org/spyder/): Seems like a fine and simple editor\n",
    "* [Jupyter Notebook](http://jupyter.org): Nice environment to execute Python commands and display results like graphs. Allows to include documentation in Markdown format\n",
    "\n"
   ]
  }
 ],
 "metadata": {
  "kernelspec": {
   "display_name": "Python 2",
   "language": "python",
   "name": "python2"
  },
  "language_info": {
   "codemirror_mode": {
    "name": "ipython",
    "version": 2
   },
   "file_extension": ".py",
   "mimetype": "text/x-python",
   "name": "python",
   "nbconvert_exporter": "python",
   "pygments_lexer": "ipython2",
   "version": "2.7.12"
  }
 },
 "nbformat": 4,
 "nbformat_minor": 1
}
