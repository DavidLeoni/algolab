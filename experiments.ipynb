{
 "cells": [
  {
   "cell_type": "markdown",
   "metadata": {},
   "source": [
    "# Just some rubbish, ignore it"
   ]
  },
  {
   "cell_type": "code",
   "execution_count": 2,
   "metadata": {
    "collapsed": false
   },
   "outputs": [],
   "source": [
    "['a'].remove('a')"
   ]
  },
  {
   "cell_type": "code",
   "execution_count": 11,
   "metadata": {
    "collapsed": false
   },
   "outputs": [
    {
     "data": {
      "text/plain": [
       "['a', 'b']"
      ]
     },
     "execution_count": 11,
     "metadata": {},
     "output_type": "execute_result"
    }
   ],
   "source": [
    "x = ['a']\n",
    "x.insert(3, 'b')\n",
    "x"
   ]
  },
  {
   "cell_type": "code",
   "execution_count": 7,
   "metadata": {
    "collapsed": false
   },
   "outputs": [
    {
     "data": {
      "text/plain": [
       "['a', 'b']"
      ]
     },
     "execution_count": 7,
     "metadata": {},
     "output_type": "execute_result"
    }
   ],
   "source": [
    "x"
   ]
  },
  {
   "cell_type": "code",
   "execution_count": 9,
   "metadata": {
    "collapsed": false
   },
   "outputs": [
    {
     "data": {
      "text/plain": [
       "['a']"
      ]
     },
     "execution_count": 9,
     "metadata": {},
     "output_type": "execute_result"
    }
   ],
   "source": [
    "y = []\n",
    "y.insert(0, 'a')\n",
    "y"
   ]
  },
  {
   "cell_type": "code",
   "execution_count": 10,
   "metadata": {
    "collapsed": false
   },
   "outputs": [
    {
     "data": {
      "text/plain": [
       "['a', 'b', 'c']"
      ]
     },
     "execution_count": 10,
     "metadata": {},
     "output_type": "execute_result"
    }
   ],
   "source": [
    "z = ['a','c']\n",
    "z.insert(1,'b')\n",
    "z"
   ]
  },
  {
   "cell_type": "code",
   "execution_count": 12,
   "metadata": {
    "collapsed": true
   },
   "outputs": [],
   "source": [
    "z = ['a','c'].reverse()"
   ]
  },
  {
   "cell_type": "code",
   "execution_count": 4,
   "metadata": {
    "collapsed": false
   },
   "outputs": [
    {
     "data": {
      "text/plain": [
       "'b'"
      ]
     },
     "execution_count": 4,
     "metadata": {},
     "output_type": "execute_result"
    }
   ],
   "source": [
    "p = ['a', 'b']\n",
    "p.pop()\n"
   ]
  },
  {
   "cell_type": "code",
   "execution_count": null,
   "metadata": {
    "collapsed": true
   },
   "outputs": [],
   "source": []
  },
  {
   "cell_type": "code",
   "execution_count": null,
   "metadata": {
    "collapsed": true
   },
   "outputs": [],
   "source": [
    "%%HTML\n",
    "\n",
    "<p class=\"algolab-warn\">\n",
    "WARNING: <code>delete <i>t</i></code> is a command that asks the environment to physically deallocate\n",
    "    the memory occupied by object <i>t</i>, and it is different from the method <code>delete(TREE t)</code> \n",
    "    (notice the parenthesis) which is something defined by the user to perform more sophisticated cleaning\n",
    "    procedures (in this case, going through connected useless nodes and deallocate them one by one)!\n",
    "</p>\n",
    "\n",
    "\n",
    "<p class=\"algolab-important\">\n",
    "IMPORTANT: While coding to Python, you can often ignore the pseudo code command <code>delete</code>\n",
    "        like in <code>delete <i>t</i></code> ! \n",
    "        The reason is commands like <code>delete</code> are mostly thought for languages where you \n",
    "        have to manually deallocate memory once you don't need it anymore (like in <i>C</i>). Luckily for us, Python\n",
    "        manages memory for us  - that is, now and then Python garbage collector runs and \n",
    "        whenever an object is not referenced by any pointer, it gets automatically removed.        \n",
    "</p>\n",
    "\n",
    "\n",
    "<p class=\"algolab-question\">\n",
    "QUESTION: Given the above, do you really need to implement the <code>delete(TREE t)</code> method ?</p>\n",
    "</p>"
   ]
  }
 ],
 "metadata": {
  "kernelspec": {
   "display_name": "Python 2",
   "language": "python",
   "name": "python2"
  },
  "language_info": {
   "codemirror_mode": {
    "name": "ipython",
    "version": 2
   },
   "file_extension": ".py",
   "mimetype": "text/x-python",
   "name": "python",
   "nbconvert_exporter": "python",
   "pygments_lexer": "ipython2",
   "version": "2.7.12"
  }
 },
 "nbformat": 4,
 "nbformat_minor": 1
}
