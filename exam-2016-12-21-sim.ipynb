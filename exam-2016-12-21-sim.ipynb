{
 "cells": [
  {
   "cell_type": "code",
   "execution_count": 1,
   "metadata": {
    "collapsed": false
   },
   "outputs": [
    {
     "data": {
      "text/html": [
       "<style>\n",
       "\n",
       "    #algolab-nav {\n",
       "        position: fixed;\n",
       "        top: 10px; \n",
       "        left: 5px; \n",
       "        background: white;\n",
       "        width: 200px; \n",
       "        padding: 10px; \n",
       "        z-index: 10;\n",
       "    }\n",
       "\n",
       "    /* style=\"background: rgba(255, 255, 255, 0);\" class=\"unstyled\" */\n",
       "  \n",
       "    #algolab-toc {\n",
       "        position: fixed;\n",
       "        top: 100px; \n",
       "        left: -55px; \n",
       "        background: rgba(255, 255, 255, 0);\n",
       "        \n",
       "        height: 80%;\n",
       "        width: 200px; \n",
       "        padding: 20px; \n",
       "        z-index: 10;\n",
       "        overflow-y: scroll;        \n",
       "            /* font-size: 50%; */\n",
       "    }\n",
       "\n",
       "    \n",
       "    \n",
       "    code {\n",
       "        background-color:rgb(245, 249, 249) !important;\n",
       "    }\n",
       "    \n",
       "    \n",
       "    .algolab-nav-item {\n",
       "        font-weight:bold;\n",
       "        font-size:120%  \n",
       "    }\n",
       "    \n",
       "    .algolab-chapter-link {\n",
       "        font-size:150%;\n",
       "        margin-right:15px;        \n",
       "    }\n",
       "    \n",
       "    .algolab-chapter-link a {\n",
       "        text-decoration: none;\n",
       "    }    \n",
       "    \n",
       "    .algolab-title {\n",
       "        font-size:250%; \n",
       "        font-weight:bold        \n",
       "    }    \n",
       "        \n",
       "    .algolab-warn {    \n",
       "        background-color: #fcf2f2;        \n",
       "        border-left: 5px solid #dfb5b4;\n",
       "        padding: 1.5em;\n",
       "        font-weight:bold;\n",
       "        margin-bottom:10px;\n",
       "    }\n",
       "\n",
       "    .algolab-question {    \n",
       "        background-color: rgb(251, 231, 250);\n",
       "        border-left: 5px solid rgb(189, 151, 184);\n",
       "        padding: 1.5em;\n",
       "        font-weight:bold;\n",
       "        margin-bottom:10px;\n",
       "    }\n",
       "        \n",
       "    \n",
       "    .algolab-important {\n",
       "        background-color: rgba(255, 238, 0, 0.31);\n",
       "        border-left: 5px solid rgba(205, 208, 0, 1.0);\n",
       "        color: #000;        \n",
       "        padding: 1.5em;\n",
       "        font-weight:bold;\n",
       "        margin-bottom:10px;\n",
       "    }\n",
       "    \n",
       "    \n",
       "    #algolab-toc ul {                                                                                                                                                                           \n",
       "        list-style-type: none;                                                                                                                                                                 \n",
       "        margin-left: 5px;\n",
       "    }\n",
       "    \n",
       "    #algolab-toc li {        \n",
       "         padding-left: 3px;\n",
       "    }    \n",
       "    \n",
       "    #algolab-toc .h1 {\n",
       "        font-size:110%; \n",
       "        \n",
       "    }\n",
       "    \n",
       "    #algolab-toc .h2 {\n",
       "        font-size:100%; \n",
       "        padding-left:15px;\n",
       "    }\n",
       "\n",
       "    #algolab-toc .h3 {\n",
       "        font-size:100%; \n",
       "        padding-left:25px;\n",
       "    }\n",
       "    \n",
       "    \n",
       "    \n",
       "    #notebook-container {\n",
       "        box-shadow : none;\n",
       "\t-web-kit-box-shadow: none;\n",
       "    }\n",
       "    \n",
       "\n",
       "    #algolab-toc .toc-active {\n",
       "        background: rgba(168, 254, 255, 0.32);\n",
       "    }\n",
       " </style>\n",
       "\n",
       "<script>\n",
       "\n",
       "/*!\n",
       " * toc - jQuery Table of Contents Plugin\n",
       " * v0.3.2\n",
       " * http://projects.jga.me/toc/\n",
       " * copyright Greg Allen 2014\n",
       " * MIT License\n",
       "*/\n",
       "!function(a){a.fn.smoothScroller=function(b){b=a.extend({},a.fn.smoothScroller.defaults,b);var c=a(this);return a(b.scrollEl).animate({scrollTop:c.offset().top-a(b.scrollEl).offset().top-b.offset},b.speed,b.ease,function(){var a=c.attr(\"id\");a.length&&(history.pushState?history.pushState(null,null,\"#\"+a):document.location.hash=a),c.trigger(\"smoothScrollerComplete\")}),this},a.fn.smoothScroller.defaults={speed:400,ease:\"swing\",scrollEl:\"body,html\",offset:0},a(\"body\").on(\"click\",\"[data-smoothscroller]\",function(b){b.preventDefault();var c=a(this).attr(\"href\");0===c.indexOf(\"#\")&&a(c).smoothScroller()})}(jQuery),function(a){var b={};a.fn.toc=function(b){var c,d=this,e=a.extend({},jQuery.fn.toc.defaults,b),f=a(e.container),g=a(e.selectors,f),h=[],i=e.activeClass,j=function(b,c){if(e.smoothScrolling&&\"function\"==typeof e.smoothScrolling){b.preventDefault();var f=a(b.target).attr(\"href\");e.smoothScrolling(f,e,c)}a(\"li\",d).removeClass(i),a(b.target).parent().addClass(i)},k=function(){c&&clearTimeout(c),c=setTimeout(function(){for(var b,c=a(window).scrollTop(),f=Number.MAX_VALUE,g=0,j=0,k=h.length;k>j;j++){var l=Math.abs(h[j]-c);f>l&&(g=j,f=l)}a(\"li\",d).removeClass(i),b=a(\"li:eq(\"+g+\")\",d).addClass(i),e.onHighlight(b)},50)};return e.highlightOnScroll&&(a(window).bind(\"scroll\",k),k()),this.each(function(){var b=a(this),c=a(e.listType);g.each(function(d,f){var g=a(f);h.push(g.offset().top-e.highlightOffset);var i=e.anchorName(d,f,e.prefix);if(f.id!==i){a(\"<span/>\").attr(\"id\",i).insertBefore(g)}var l=a(\"<a/>\").text(e.headerText(d,f,g)).attr(\"href\",\"#\"+i).bind(\"click\",function(c){a(window).unbind(\"scroll\",k),j(c,function(){a(window).bind(\"scroll\",k)}),b.trigger(\"selected\",a(this).attr(\"href\"))}),m=a(\"<li/>\").addClass(e.itemClass(d,f,g,e.prefix)).append(l);c.append(m)}),b.html(c)})},jQuery.fn.toc.defaults={container:\"body\",listType:\"<ul/>\",selectors:\"h1,h2,h3\",smoothScrolling:function(b,c,d){a(b).smoothScroller({offset:c.scrollToOffset}).on(\"smoothScrollerComplete\",function(){d()})},scrollToOffset:0,prefix:\"toc\",activeClass:\"toc-active\",onHighlight:function(){},highlightOnScroll:!0,highlightOffset:100,anchorName:function(c,d,e){if(d.id.length)return d.id;var f=a(d).text().replace(/[^a-z0-9]/gi,\" \").replace(/\\s+/g,\"-\").toLowerCase();if(b[f]){for(var g=2;b[f+g];)g++;f=f+\"-\"+g}return b[f]=!0,e+\"-\"+f},headerText:function(a,b,c){return c.text()},itemClass:function(a,b,c,d){return d+\"-\"+c[0].tagName.toLowerCase()}}}(jQuery);\n",
       "\n",
       "function showthis(url) {\n",
       "    window.open(url, \"pres\", \"toolbar=yes,scrollbars=yes,resizable=yes,top=10,left=400,width=500,height=500\");\n",
       "    return(false);\n",
       "}\n",
       "\n",
       "var algolab = {\n",
       "    \n",
       "    isReduced : function(){\n",
       "        return $(window).width() < 924;\n",
       "    },\n",
       "    hoverToc : function(){\n",
       "        return $('#algolab-toc:hover').length != 0;\n",
       "    },\n",
       "    resize : function(){\n",
       "        if (algolab.isReduced()){\n",
       "            $(\"#algolab-toc\").hide();\n",
       "        } else {\n",
       "            $(\"#algolab-toc\").show();\n",
       "            $(\"#algolab-toc\").css(\"background\",\"rgba(255, 255, 255, 0)\");\n",
       "            \n",
       "            tocParams = {\n",
       "                \n",
       "                'selectors': 'h1,h2,h3', //elements to use as headings\n",
       "                'container': 'body', //element to find all selectors in\n",
       "                'smoothScrolling': true, //enable or disable smooth scrolling on click\n",
       "                 //doesn't work  'prefix': 'algolab-toc', //prefix for anchor tags and class names\n",
       "                //'onHighlight': function(el) {}, //called when a new section is highlighted \n",
       "                'highlightOnScroll': true, //add class to heading that is currently in focus\n",
       "                'highlightOffset': 100, //offset to trigger the next headline\n",
       "                'anchorName': function(i, heading, prefix) { //custom function for anchor name\n",
       "                    return prefix+i;\n",
       "                },\n",
       "                'headerText': function(i, heading, $heading) { //custom function building the header-item text                  \n",
       "                    return $heading.text().replace(\"¶\",\"\");\n",
       "                },\n",
       "                'itemClass': function(i, heading, $heading, prefix) { // custom function for item class\n",
       "                    return $heading[0].tagName.toLowerCase();\n",
       "                }                \n",
       "            }\n",
       "            \n",
       "            $('#algolab-toc').toc(tocParams);\n",
       "        }\n",
       "    },\n",
       "    hideCellStartingWith : function(text){\n",
       "        $('.border-box-sizing .code_cell pre').filter(function() { \n",
       "                return $(this).text().indexOf(text) === 0; \n",
       "            }).parents('div .cell .input').hide();        \n",
       "    },\n",
       "    \n",
       "    init : function(){\n",
       "\n",
       "       var toc = $(\"<div>\").attr(\"id\", \"algolab-toc\");              \n",
       "       var indexLink = $(\"<a>\")\n",
       "                        .addClass(\"algolab-nav-item\")\n",
       "                        .attr(\"href\",\"index.html#Chapters\")\n",
       "                        .text(\"Algolab\");\n",
       "       \n",
       "       \n",
       "       \n",
       "       var candidateTitleText = $(\".algolab-title\").text();              \n",
       "                                  \n",
       "                    \n",
       "       \n",
       "       var nav = $(\"<div>\")\n",
       "                     .attr(\"id\", \"algolab-nav\")\n",
       "                    .append(indexLink);       \n",
       "       \n",
       "       if (candidateTitleText.length !== 0){\n",
       "\n",
       "           var title = $(\"<span>\")\n",
       "                    .addClass(\"algolab-nav-item\")\n",
       "                    .css(\"padding-left\",\"8px\")\n",
       "                    .text(candidateTitleText);\n",
       "            nav.append(\"<br>\")\n",
       "                .append(\"<br>\")\n",
       "                .append(title);                                \n",
       "        }\n",
       "                     \n",
       "       \n",
       "       algolab.hideCellStartingWith(\"%%HTML\");\n",
       "       algolab.hideCellStartingWith(\"import algolab\");      \n",
       "       \n",
       "       algolab.hideCellStartingWith(\"algolab.init()\"); \n",
       "              \n",
       "       if ($(\"#algolab-toc\").length === 0){\n",
       "           $(\"body\").append(toc);       \n",
       "       } else {\n",
       "           $(\"#algolab-toc\").replaceWith(toc);\n",
       "       }\n",
       "       \n",
       "       if ($(\"#algolab-nav\").length === 0){\n",
       "           $(\"body\").append(nav);       \n",
       "       } else {\n",
       "           $(\"#algolab-nav\").replaceWith(nav);\n",
       "       }              \n",
       "       \n",
       "       algolab.resize();\n",
       "    }\n",
       "}\n",
       "\n",
       "$( window ).resize(function() {\n",
       "    algolab.resize();\n",
       "});\n",
       "\n",
       "\n",
       "$(\"body\").on(\"mousemove\",function(event) {\n",
       "    if (algolab.isReduced()){\n",
       "        if (event.pageX < 50) {            \n",
       "             $(\"#algolab-toc\").show(); \n",
       "            $(\"#algolab-toc\").css(\"background\",\"rgba(255, 255, 255, 1.0)\");\n",
       "        } else {\n",
       "            \n",
       "            if (algolab.hoverToc()) {                    \n",
       "            } else {\n",
       "                $(\"#algolab-toc\").hide();                        \n",
       "            }\n",
       "                     \n",
       "/*            if ($(\"#algolab-toc\").is(\":visible\")){\n",
       "                if (algolab.hoverToc()) {                    \n",
       "                } else {\n",
       "                    $(\"#algolab-toc\").hide();                        \n",
       "                }\n",
       "            } else {\n",
       "                if (algolab.hoverToc())\n",
       "                  show\n",
       "              } else {\n",
       "                $(\"#algolab-toc\").hide();                        \n",
       "               }                 \n",
       "            }\n",
       "  */     \n",
       "        }\n",
       "    }\n",
       "});\n",
       "\n",
       "$(document).ready(algolab.init);\n",
       "\n",
       "</script>\n"
      ],
      "text/plain": [
       "<IPython.core.display.HTML object>"
      ]
     },
     "execution_count": 1,
     "metadata": {},
     "output_type": "execute_result"
    }
   ],
   "source": [
    "import algolab\n",
    "algolab.init()"
   ]
  },
  {
   "cell_type": "markdown",
   "metadata": {},
   "source": [
    "<center>\n",
    "<span class=\"algolab-title\"> Exam Simulation</span><br/> \n",
    "<br/>\n",
    "<span style=\"font-size:20px\"> Scientific Programming Algolab  </span> <br/><br/>\n",
    "<span> Wednesday 21 Dec 2016</span>\n",
    "</center>"
   ]
  },
  {
   "cell_type": "markdown",
   "metadata": {
    "collapsed": true
   },
   "source": [
    "# Introduction\n",
    "\n",
    "* This is just an exam simulation. If you don't ship it or do a poor work, you lose nothing. If you make a good work, you earn nothing.\n",
    "* To make you feel more comfortable, all what you produce and submission process will be completely anonymous \n",
    "* Anonymous doesn't imply private. In fact, in this simulation, the work will be made public and corrections will be public as well. The anonimity means your work and corrections won't be associated to your name or student id. \n",
    "* So don't put your name or id number around in the files ;-) \n",
    "\n",
    "\n",
    "## Allowed material\n",
    "\n",
    "Real exam will be in the lab with restricted internet access. You will only be able to access:\n",
    "\n",
    "* [Sciprog Algolab website](http://davidleoni.github.io/algolab)\n",
    "* [Alberto Montresor slides](http://cricca.disi.unitn.it/montresor/teaching/scientific-programming/)\n",
    "* [Stefano Teso slides](http://disi.unitn.it/~teso/courses/sciprog/index.html)\n",
    "* [Python 2.7 documentation](https://docs.python.org/2/)\n",
    "    * In particular, [Unittest docs](https://docs.python.org/2/library/unittest.html)\n",
    "* [The course book 'Problem Solving with Algorithms and Data Structures using Python'](http://interactivepython.org/runestone/static/pythonds/index.html)\n",
    "\n",
    "You won't be able to use anything else, in particular:\n",
    "\n",
    "* no Google\n",
    "* no StackOverflow\n",
    "\n",
    "So if you need to look up some Python function, please start today learning how to search documentation using the search functionality on Python website.\n",
    "\n",
    "\n",
    "## Grading\n",
    "\n",
    "* We need still need to define a grading system for the exam. Here we just put provisional rules.\n",
    "* Correct implementations with the required complexity grant you full grade.\n",
    "* One extra point can be earned by writing stylish code. You got style if you:\n",
    "\n",
    "    - do not infringe the [Commandments](index.html#Commandments)\n",
    "    - write [pythonic code](http://docs.python-guide.org/en/latest/writing/style)\n",
    "    - avoid convoluted code like i.e.\n",
    "\n",
    "        ```\n",
    "        if x > 5:\n",
    "            return True\n",
    "        else:\n",
    "            return False\n",
    "        ```\n",
    "\n",
    "        when you could write just\n",
    "\n",
    "        ```\n",
    "        return x > 5\n",
    "        ```       \n"
   ]
  },
  {
   "cell_type": "code",
   "execution_count": 2,
   "metadata": {
    "collapsed": false
   },
   "outputs": [
    {
     "data": {
      "text/html": [
       "\n",
       "<p class=\"algolab-warn\">\n",
       "\n",
       "!!!!!!!!! WARNING !!!!!!!!!\n",
       "    \n",
       "    <br/>\n",
       "    <br/>\n",
       "!!!!!!!!!  **ONLY** IMPLEMENTATIONS OF THE PROVIDED FUNCTION SIGNATURES WILL BE EVALUATED !!!!!!!!! <br/>    \n",
       "\n",
       "</p>"
      ],
      "text/plain": [
       "<IPython.core.display.HTML object>"
      ]
     },
     "metadata": {},
     "output_type": "display_data"
    }
   ],
   "source": [
    "%%HTML\n",
    "\n",
    "<p class=\"algolab-warn\">\n",
    "\n",
    "!!!!!!!!! WARNING !!!!!!!!!\n",
    "    \n",
    "    <br/>\n",
    "    <br/>\n",
    "!!!!!!!!!  **ONLY** IMPLEMENTATIONS OF THE PROVIDED FUNCTION SIGNATURES WILL BE EVALUATED !!!!!!!!! <br/>    \n",
    "\n",
    "</p>"
   ]
  },
  {
   "cell_type": "markdown",
   "metadata": {},
   "source": [
    "\n",
    "For example, if you are given to implement: \n",
    "\n",
    "```python\n",
    "    def cool_fun(x):\n",
    "        raise Exception(\"TODO implement me\")\n",
    "```\n",
    "\n",
    "and you ship this code:\n",
    "\n",
    "``` python\n",
    "def cool_fun_non_working_trial(x):\n",
    "    # do some absurdity\n",
    "\n",
    "def cool_fun_a_perfectly_working_trial(x):\n",
    "    # a super fast, correct and stylish implementation\n",
    "\n",
    "def cool_fun(x):\n",
    "    raise Exception(\"TODO implement me\")\n",
    "```\n",
    "\n",
    "We will assess only the latter one `cool_fun(x)`, and conclude it doesn't work at all :P   !!!!!!!\n",
    "\n",
    "Still, you are allowed to define any extra helper function you might need. If your `cool_fun(x)` implementation calls some other function you defined like `my_helper` here, it is ok:\n",
    "\n",
    "```python\n",
    "\n",
    "def my_helper(y,z):\n",
    "    # do something useful\n",
    "\n",
    "def cool_fun(x):\n",
    "    my_helper(x,5)\n",
    "    \n",
    "# this will get ignored:\n",
    "def some_trial(x):\n",
    "    # do some absurdity\n",
    "    \n",
    "```\n"
   ]
  },
  {
   "cell_type": "markdown",
   "metadata": {},
   "source": [
    "## What to do\n",
    "\n",
    "1) Download [this zip](exam-simulation/exam.zip) and extracts its contents on your disk. You will see a folder like this:\n",
    "\n",
    "```\n",
    "exam\n",
    "|- exercise1.py\n",
    "|- exercise2.py\n",
    "\n",
    "```\n",
    "2) Edit the files following the instructions in this worksheet for each exercise.\n",
    "    \n"
   ]
  },
  {
   "cell_type": "code",
   "execution_count": 3,
   "metadata": {
    "collapsed": false
   },
   "outputs": [
    {
     "data": {
      "text/html": [
       "\n",
       "<p class=\"algolab-warn\">\n",
       "WARNING: <i>DON'T</i> modify function signatures! Just provide the implementation.\n",
       "</p>\n",
       "\n",
       "<p class=\"algolab-warn\">\n",
       "WARNING: <i>DON'T</i> change the existing test methods, just add new ones !!!  You can add as many as you want.\n",
       "</p>\n",
       "\n",
       "<p class=\"algolab-warn\">\n",
       "WARNING: <i>DON'T</i> create other files. If you still do it, they won't be evaluated.\n",
       "</p>\n",
       "\n",
       "<p class=\"algolab-important\">\n",
       "IMPORTANT: Pay close attention to the comments of the functions.\n",
       "</p>"
      ],
      "text/plain": [
       "<IPython.core.display.HTML object>"
      ]
     },
     "metadata": {},
     "output_type": "display_data"
    }
   ],
   "source": [
    "%%HTML \n",
    "\n",
    "<p class=\"algolab-warn\">\n",
    "WARNING: <i>DON'T</i> modify function signatures! Just provide the implementation.\n",
    "</p>\n",
    "\n",
    "<p class=\"algolab-warn\">\n",
    "WARNING: <i>DON'T</i> change the existing test methods, just add new ones !!!  You can add as many as you want.\n",
    "</p>\n",
    "\n",
    "<p class=\"algolab-warn\">\n",
    "WARNING: <i>DON'T</i> create other files. If you still do it, they won't be evaluated.\n",
    "</p>\n",
    "\n",
    "<p class=\"algolab-important\">\n",
    "IMPORTANT: Pay close attention to the comments of the functions.\n",
    "</p>\n"
   ]
  },
  {
   "cell_type": "markdown",
   "metadata": {},
   "source": [
    "3) Every exercise should take max 25 mins. If it takes longer, leave it and try another exercise.\n",
    "\n",
    "4) When you're done, proceed with [the submission](#Submission)\n",
    "\n",
    "\n",
    "\n",
    "# Submission\n",
    "\n",
    "1) Zip your files into a file named `exam.zip`\n",
    "\n",
    "2) Upload the zip to <a href=\"http://file.io\" target=\"_blank\">file.io</a> \n",
    "\n",
    "<a href=\"http://file.io\" target=\"_blank\"><img src=\"img/file-io-1.png\" width=\"30%\"/> </a>\n",
    "\n",
    "\n",
    "2) After the upload you should see a download link (something like `https://file.io/C40YFy`)\n",
    "\n",
    "<img src=\"img/file-io-2.png\" width=\"50%\"/>\n",
    "\n",
    "\n",
    "3) Copy paste the link into the common ethercalc here:\n",
    "    \n",
    "https://ethercalc.org/2sp752kuzqqy"
   ]
  },
  {
   "cell_type": "code",
   "execution_count": 4,
   "metadata": {
    "collapsed": false
   },
   "outputs": [
    {
     "data": {
      "text/html": [
       "\n",
       "<p class=\"algolab-warn\">\n",
       "WARNING: REMEMBER TO WRITE SOMEWHERE (IN YOUR COMPUTER OR ON PAPER) YOUR DOWNLOAD LINK, OTHERWISE IT \n",
       "    WILL BE HARD FOR YOU TO UNDERSTAND WHICH ZIP WAS CORRECTED.\n",
       "</p>"
      ],
      "text/plain": [
       "<IPython.core.display.HTML object>"
      ]
     },
     "metadata": {},
     "output_type": "display_data"
    }
   ],
   "source": [
    "%%HTML\n",
    "\n",
    "<p class=\"algolab-warn\">\n",
    "WARNING: REMEMBER TO WRITE SOMEWHERE (IN YOUR COMPUTER OR ON PAPER) YOUR DOWNLOAD LINK, OTHERWISE IT \n",
    "    WILL BE HARD FOR YOU TO UNDERSTAND WHICH ZIP WAS CORRECTED.\n",
    "</p>"
   ]
  },
  {
   "cell_type": "markdown",
   "metadata": {
    "collapsed": true
   },
   "source": [
    "# Exercises"
   ]
  },
  {
   "cell_type": "markdown",
   "metadata": {},
   "source": [
    "## 1) insertion sort\n",
    "\n",
    "\n",
    "Insertion sort is a basic sorting algorithm. This animation gives you an idea of how it works:\n",
    "\n",
    "<img src=\"img/insertion-sort-example.gif\">\n",
    "\n",
    "\n",
    "Here is the pseudo code:"
   ]
  },
  {
   "cell_type": "code",
   "execution_count": 5,
   "metadata": {
    "collapsed": false
   },
   "outputs": [
    {
     "data": {
      "text/html": [
       "\n",
       "<p class=\"algolab-warn\">\n",
       "WARNING: The following pseudo code contains a bug (just one!).\n",
       "</p>\n",
       "\n",
       "<p class=\"algolab-important\">\n",
       "IMPORTANT: <br/>\n",
       "    Array <i>A</i> in the pseudo code has indexes starting from zero included. <br/>\n",
       "    <i>n</i> is the length of the input array.\n",
       "</p>"
      ],
      "text/plain": [
       "<IPython.core.display.HTML object>"
      ]
     },
     "metadata": {},
     "output_type": "display_data"
    }
   ],
   "source": [
    "%%HTML\n",
    "\n",
    "<p class=\"algolab-warn\">\n",
    "WARNING: The following pseudo code contains a bug (just one!).\n",
    "</p>\n",
    "\n",
    "<p class=\"algolab-important\">\n",
    "IMPORTANT: <br/>\n",
    "    Array <i>A</i> in the pseudo code has indexes starting from zero included. <br/>\n",
    "    <i>n</i> is the length of the input array.\n",
    "</p>"
   ]
  },
  {
   "cell_type": "markdown",
   "metadata": {},
   "source": [
    "<img src=\"img/insertion-sort.png\">"
   ]
  },
  {
   "cell_type": "markdown",
   "metadata": {},
   "source": [
    "Start editing the file `exercise1.py`:\n",
    "\n",
    "### 1.1) insertion_sort\n",
    "\n",
    "Implement in Python the pseudocode for `insertion_sort`. Make sure at least the provided tests pass (they won't check for the bug).\n",
    "\n",
    "### 1.2) Fixing insertion_sort\n",
    "\n",
    "We said the given pseudo code has a bug. Write additional test cases that show where the bug is, and then fix the code accordingly.\n"
   ]
  },
  {
   "cell_type": "code",
   "execution_count": 6,
   "metadata": {
    "collapsed": false
   },
   "outputs": [
    {
     "data": {
      "text/html": [
       "\n",
       "<p class=\"algolab-warn\">\n",
       "WARNING: <i>DON'T</i> modify function signatures! Just provide the implementation.\n",
       "</p>\n",
       "\n",
       "<p class=\"algolab-warn\">\n",
       "WARNING: <i>DON'T</i> change the existing test methods, just add new ones !!!  You can add as many as you want.\n",
       "</p>\n",
       "\n",
       "<p class=\"algolab-important\">\n",
       "IMPORTANT: Pay close attention to the comments of the functions.\n",
       "</p>"
      ],
      "text/plain": [
       "<IPython.core.display.HTML object>"
      ]
     },
     "metadata": {},
     "output_type": "display_data"
    }
   ],
   "source": [
    "%%HTML\n",
    "\n",
    "<p class=\"algolab-warn\">\n",
    "WARNING: <i>DON'T</i> modify function signatures! Just provide the implementation.\n",
    "</p>\n",
    "\n",
    "<p class=\"algolab-warn\">\n",
    "WARNING: <i>DON'T</i> change the existing test methods, just add new ones !!!  You can add as many as you want.\n",
    "</p>\n",
    "\n",
    "<p class=\"algolab-important\">\n",
    "IMPORTANT: Pay close attention to the comments of the functions.\n",
    "</p>"
   ]
  },
  {
   "cell_type": "markdown",
   "metadata": {},
   "source": [
    "## 2) UnorderedList\n",
    "\n",
    "We are going to have some more fun with good old `UnorderedList`, which is a monodirectional linked list. \n",
    "\n",
    "Start editing the file `exercise2.py`:\n",
    "\n",
    "### 2.1) rev(self)\n",
    "Implement the method `rev(self)` that you find in the skeleton and check provided tests pass.\n",
    "\n",
    "### 2.2) copy(self)\n",
    "\n",
    "Implement the method `copy(self)` that you find in the skeleton and check provided tests pass.\n",
    "\n",
    "\n"
   ]
  }
 ],
 "metadata": {
  "kernelspec": {
   "display_name": "Python 2",
   "language": "python",
   "name": "python2"
  },
  "language_info": {
   "codemirror_mode": {
    "name": "ipython",
    "version": 2
   },
   "file_extension": ".py",
   "mimetype": "text/x-python",
   "name": "python",
   "nbconvert_exporter": "python",
   "pygments_lexer": "ipython2",
   "version": "2.7.12"
  }
 },
 "nbformat": 4,
 "nbformat_minor": 1
}
