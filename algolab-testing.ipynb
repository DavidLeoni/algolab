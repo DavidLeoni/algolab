{
 "cells": [
  {
   "cell_type": "markdown",
   "metadata": {},
   "source": [
    "<a href=\"index.html\"> back to Algolab</a>"
   ]
  },
  {
   "cell_type": "markdown",
   "metadata": {},
   "source": [
    "# Testing\n",
    "\n",
    "* [Introduction](#Introduction)\n",
    "* [Assertions](#Assertions)\n",
    "* [Unittest](#Unittest)\n",
    "* [Exercises](#Exercises)\n"
   ]
  },
  {
   "cell_type": "markdown",
   "metadata": {},
   "source": [
    "## Introduction\n",
    "\n",
    "In a typical scenario, somebody can ask you to write a function to perform some task, giving only an informal description:"
   ]
  },
  {
   "cell_type": "code",
   "execution_count": 1,
   "metadata": {
    "collapsed": false
   },
   "outputs": [],
   "source": [
    "def even_numbers(n):\n",
    "    \"\"\"\n",
    "    Return a list of the first n even numbers \n",
    "    \n",
    "    Zero is considered to be the first even number.\n",
    "\n",
    "    >>> even_numbers(5)\n",
    "    [0,2,4,6,8]\n",
    "    \"\"\"    \n",
    "    raise Exception(\"TODO IMPLEMENT ME!\")"
   ]
  },
  {
   "cell_type": "markdown",
   "metadata": {},
   "source": [
    "In this case, if you run the function as it is, you are reminded to implement it! So let's put some code. \n",
    "As it often happens, first version may be buggy..."
   ]
  },
  {
   "cell_type": "code",
   "execution_count": 2,
   "metadata": {
    "collapsed": false
   },
   "outputs": [],
   "source": [
    "def even_numbers(n):\n",
    "    \"\"\"\n",
    "    Return a list of the first n even numbers \n",
    "    \n",
    "    Zero is considered to be the first even number.\n",
    "\n",
    "    >>> even_numbers(5)\n",
    "    [0,2,4,6,8]\n",
    "    \"\"\"    \n",
    "    r = [2 * x for x in range(n)]\n",
    "    r[n // 2] = 3   # <-- evil bug, puts number '3' in the middle\n",
    "    return r"
   ]
  },
  {
   "cell_type": "markdown",
   "metadata": {},
   "source": [
    "Typically the first test we do is printing the output and do some 'visual inspection' of the result, in this case we find many numbers are correct but we might miss errors such as the wrong `3` in the middle:"
   ]
  },
  {
   "cell_type": "code",
   "execution_count": 3,
   "metadata": {
    "collapsed": false
   },
   "outputs": [
    {
     "name": "stdout",
     "output_type": "stream",
     "text": [
      "[0, 2, 3, 6, 8]\n"
     ]
    }
   ],
   "source": [
    "print even_numbers(5)"
   ]
  },
  {
   "cell_type": "markdown",
   "metadata": {},
   "source": [
    "Furthermore, if we enter commands a the prompt, each time we fix something in the code we need to enter them again. "
   ]
  },
  {
   "cell_type": "markdown",
   "metadata": {},
   "source": [
    "**WARNING: Please ignore the following piece of code, and in general all calls to functions that start with `'algolab'`. They are utility functions which will disappear once I figure out how to hide them **"
   ]
  },
  {
   "cell_type": "code",
   "execution_count": 4,
   "metadata": {
    "collapsed": false
   },
   "outputs": [],
   "source": [
    "import algolab"
   ]
  },
  {
   "cell_type": "markdown",
   "metadata": {},
   "source": [
    "## Assertions\n",
    "\n",
    "To go beyond the 'visual inspection' testing, it's better to write some extra code to allow python to check for us if the function actually returns what we expect, and throws an error otherwise. We can do so with `assert` command:"
   ]
  },
  {
   "cell_type": "markdown",
   "metadata": {},
   "source": [
    "```python\n",
    "assert even_numbers(5) == [0,2,4,6,8]\n",
    "```"
   ]
  },
  {
   "cell_type": "markdown",
   "metadata": {},
   "source": [
    "```\n",
    "---------------------------------------------------------------------------\n",
    "AssertionError                            Traceback (most recent call last)\n",
    "<ipython-input-5-2363c9dca74d> in <module>()\n",
    "----> 1 assert even_numbers(5) == [0,2,4,6,8]\n",
    "\n",
    "AssertionError: \n",
    "```"
   ]
  },
  {
   "cell_type": "markdown",
   "metadata": {},
   "source": [
    "This way after we modify code to fix bugs we can just launch the assert commands and have a quick feedback about possible errors. \n",
    "\n",
    "## Unittest\n",
    "\n",
    "`assert` can help for quick testing, but doesn't tell us exactly which is the wrong number in the list returned by `even_number(5)`. Luckily, Python offers us a better option, which is a complete testing framework called <a href=\"https://docs.python.org/2/library/unittest.html\" target=\"_blank\">unittest</a>. \n",
    "\n",
    "Let's give it a try. Suppose you have a file called `my-file.py` like this:"
   ]
  },
  {
   "cell_type": "code",
   "execution_count": 5,
   "metadata": {
    "collapsed": true,
    "raw_mimetype": "text/x-python"
   },
   "outputs": [],
   "source": [
    "import unittest\n",
    "\n",
    "def even_numbers(n):\n",
    "    \"\"\"\n",
    "    Return a list of the first n even numbers \n",
    "    \n",
    "    Zero is considered to be the first even number.\n",
    "\n",
    "    >>> even_numbers(5)\n",
    "    [0,2,4,6,8]\n",
    "    \"\"\"    \n",
    "    r = [2 * x for x in range(n)]\n",
    "    r[n // 2] = 3   # <-- evil bug, puts number '3' in the middle\n",
    "    return r\n",
    "\n",
    "class MyTest(unittest.TestCase):\n",
    "\n",
    "    def test_long_list(self):\n",
    "        self.assertEqual(even_numbers(5),[0,2,4,6,8]) \n",
    "\n"
   ]
  },
  {
   "cell_type": "markdown",
   "metadata": {},
   "source": [
    "\n",
    "We won't explain what `class` mean, the important thing to notice is the method definition:\n",
    "\n",
    "\n",
    "```python\n",
    "    def test_long_list(self):\n",
    "        self.assertEqual(even_numbers(5),[0,2,4,6,8]) \n",
    "\n",
    "```\n",
    "\n",
    "In particular:\n",
    "\n",
    "* method is declared like a function, and begins with `'test_'` word\n",
    "* method takes `self` as parameter\n",
    "* `self.assertEqual(even_numbers(5),[0,2,4,6,8]) ` executes the assertion. Other assertions could be `self.assertTrue(some_condition) or self.assertFalse(some_condition) `\n",
    "\n",
    "<p style=\"background-color:yellow; font-weight:bold\">\n",
    "To run the tests, enter the following command in the terminal: \n",
    "<br/>\n",
    "<br/>\n",
    "    python -m unittest my-file\n",
    "<br/>\n",
    "<br/>\n",
    "</p>\n",
    "\n",
    "**WARNING**: DON'T add the extension `.py` to `my-file`\n",
    "\n",
    "You should see an output like the following: \n",
    "\n",
    "**WARNING**: please ignore the `algolab.run(MyTest)` at the beginning of the following output"
   ]
  },
  {
   "cell_type": "code",
   "execution_count": 6,
   "metadata": {
    "collapsed": false,
    "scrolled": true
   },
   "outputs": [
    {
     "name": "stderr",
     "output_type": "stream",
     "text": [
      "F\n",
      "======================================================================\n",
      "FAIL: test_long_list (__main__.MyTest)\n",
      "----------------------------------------------------------------------\n",
      "Traceback (most recent call last):\n",
      "  File \"<ipython-input-5-cf0baeef2e72>\", line 19, in test_long_list\n",
      "    self.assertEqual(even_numbers(5),[0,2,4,6,8])\n",
      "AssertionError: Lists differ: [0, 2, 3, 6, 8] != [0, 2, 4, 6, 8]\n",
      "\n",
      "First differing element 2:\n",
      "3\n",
      "4\n",
      "\n",
      "- [0, 2, 3, 6, 8]\n",
      "?        ^\n",
      "\n",
      "+ [0, 2, 4, 6, 8]\n",
      "?        ^\n",
      "\n",
      "\n",
      "----------------------------------------------------------------------\n",
      "Ran 1 test in 0.004s\n",
      "\n",
      "FAILED (failures=1)\n"
     ]
    }
   ],
   "source": [
    "algolab.run(MyTest)"
   ]
  },
  {
   "cell_type": "markdown",
   "metadata": {},
   "source": [
    "Now you can see a nice display of where the error is, exactly in the middle of the list. \n",
    "\n",
    "### Adding tests\n",
    "\n",
    "How can we add (good) tests? Since best ones are usually short, it would be better starting small boundary cases. For example like `n=1` according to function documentation should produce a list containing zero:"
   ]
  },
  {
   "cell_type": "code",
   "execution_count": 7,
   "metadata": {
    "collapsed": false
   },
   "outputs": [],
   "source": [
    "class MyTest(unittest.TestCase):\n",
    "\n",
    "    def test_one_element(self):\n",
    "        self.assertEqual(even_numbers(1),[0])\n",
    "        \n",
    "    def test_long_list(self):\n",
    "        self.assertEqual(even_numbers(5),[0,2,4,6,8]) \n",
    "        \n",
    "        "
   ]
  },
  {
   "cell_type": "markdown",
   "metadata": {},
   "source": [
    "Let's call again the command: "
   ]
  },
  {
   "cell_type": "code",
   "execution_count": 8,
   "metadata": {
    "collapsed": false
   },
   "outputs": [
    {
     "name": "stderr",
     "output_type": "stream",
     "text": [
      "FF\n",
      "======================================================================\n",
      "FAIL: test_long_list (__main__.MyTest)\n",
      "----------------------------------------------------------------------\n",
      "Traceback (most recent call last):\n",
      "  File \"<ipython-input-7-ee61bb2dd25a>\", line 7, in test_long_list\n",
      "    self.assertEqual(even_numbers(5),[0,2,4,6,8])\n",
      "AssertionError: Lists differ: [0, 2, 3, 6, 8] != [0, 2, 4, 6, 8]\n",
      "\n",
      "First differing element 2:\n",
      "3\n",
      "4\n",
      "\n",
      "- [0, 2, 3, 6, 8]\n",
      "?        ^\n",
      "\n",
      "+ [0, 2, 4, 6, 8]\n",
      "?        ^\n",
      "\n",
      "\n",
      "======================================================================\n",
      "FAIL: test_one_element (__main__.MyTest)\n",
      "----------------------------------------------------------------------\n",
      "Traceback (most recent call last):\n",
      "  File \"<ipython-input-7-ee61bb2dd25a>\", line 4, in test_one_element\n",
      "    self.assertEqual(even_numbers(1),[0])\n",
      "AssertionError: Lists differ: [3] != [0]\n",
      "\n",
      "First differing element 0:\n",
      "3\n",
      "0\n",
      "\n",
      "- [3]\n",
      "+ [0]\n",
      "\n",
      "----------------------------------------------------------------------\n",
      "Ran 2 tests in 0.007s\n",
      "\n",
      "FAILED (failures=2)\n"
     ]
    }
   ],
   "source": [
    "algolab.run(MyTest)"
   ]
  },
  {
   "cell_type": "markdown",
   "metadata": {},
   "source": [
    "From the tests we can now see there is clearly something wrong with the number 3 that keeps popping up, making both tests fail. You can immediately which tests have failed by looking at the first two `FF` at the top of the output. Let's fix the code by removing the buggy line:"
   ]
  },
  {
   "cell_type": "code",
   "execution_count": 9,
   "metadata": {
    "collapsed": false
   },
   "outputs": [],
   "source": [
    "def even_numbers(n):\n",
    "    \"\"\"\n",
    "    Return a list of the first n even numbers \n",
    "    \n",
    "    Zero is considered to be the first even number.\n",
    "\n",
    "    >>> even_numbers(5)\n",
    "    [0,2,4,6,8]\n",
    "    \"\"\"    \n",
    "    r = [2 * x for x in range(n)]\n",
    "    # NOW WE COMMENTED THE BUGGY LINE  r[n // 2] = 3   # <-- evil bug, puts number '3' in the middle\n",
    "    return r\n"
   ]
  },
  {
   "cell_type": "code",
   "execution_count": 10,
   "metadata": {
    "collapsed": false
   },
   "outputs": [
    {
     "name": "stderr",
     "output_type": "stream",
     "text": [
      "..\n",
      "----------------------------------------------------------------------\n",
      "Ran 2 tests in 0.003s\n",
      "\n",
      "OK\n"
     ]
    }
   ],
   "source": [
    "algolab.run(MyTest)"
   ]
  },
  {
   "cell_type": "markdown",
   "metadata": {},
   "source": [
    "Wonderful, all the two tests have passed and we got rid of the bug. \n",
    "\n",
    "### Exercises\n",
    "\n",
    "1. Think about other boundary cases, and try to add corresponding tests. _Hint: Can we ever have an empty list_? Which values can assume `n`?\n",
    "2. What difference there is between the following two test classes? Which one is better for testing?\n",
    "\n",
    "```python\n",
    "class MyTest(unittest.TestCase):\n",
    "\n",
    "    def test_one_element(self):\n",
    "        self.assertEqual(even_numbers(1),[0])\n",
    "        \n",
    "    def test_long_list(self):\n",
    "        self.assertEqual(even_numbers(5),[0,2,4,6,8]) \n",
    "        \n",
    "```\n",
    "\n",
    "and\n",
    " \n",
    "```python\n",
    "class MyTest(unittest.TestCase):\n",
    "\n",
    "    def test_stuff(self):\n",
    "        self.assertEqual(even_numbers(1),[0])\n",
    "        self.assertEqual(even_numbers(5),[0,2,4,6,8])               \n",
    "        \n",
    "```\n",
    "\n"
   ]
  },
  {
   "cell_type": "code",
   "execution_count": null,
   "metadata": {
    "collapsed": true
   },
   "outputs": [],
   "source": []
  }
 ],
 "metadata": {
  "celltoolbar": "Raw Cell Format",
  "kernelspec": {
   "display_name": "Python 2",
   "language": "python",
   "name": "python2"
  },
  "language_info": {
   "codemirror_mode": {
    "name": "ipython",
    "version": 2
   },
   "file_extension": ".py",
   "mimetype": "text/x-python",
   "name": "python",
   "nbconvert_exporter": "python",
   "pygments_lexer": "ipython2",
   "version": "2.7.11+"
  }
 },
 "nbformat": 4,
 "nbformat_minor": 1
}
