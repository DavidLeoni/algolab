{
 "cells": [
  {
   "cell_type": "code",
   "execution_count": 1,
   "metadata": {
    "collapsed": false
   },
   "outputs": [
    {
     "data": {
      "text/html": [
       "<!--\n",
       "HTML code to create the sidebar, menu and independent popup window.\n",
       "-->\n",
       "<style>\n",
       "    #algolab-toc {\n",
       "        position: fixed;\n",
       "        top: 100px; \n",
       "        left: -40px; \n",
       "        background: white;\n",
       "        height: 80%;\n",
       "        width: 200px; \n",
       "        padding: 20px; \n",
       "        z-index: 10;\n",
       "        overflow-y: scroll;\n",
       "    }\n",
       "    #algolab-toc ul {\n",
       "         list-style-type: none;    \n",
       "        margin-left: 15px;\n",
       "    }\n",
       "    #notebook-container {\n",
       "                            box-shadow : none;\n",
       "                            -web-kit-box-shadow: none;\n",
       "                        }\n",
       "    \n",
       "</style>\n",
       "<script>\n",
       "function showthis(url) {\n",
       "\twindow.open(url, \"pres\", \"toolbar=yes,scrollbars=yes,resizable=yes,top=10,left=400,width=500,height=500\");\n",
       "\treturn(false);\n",
       "}\n",
       "</script>\n",
       "\n",
       "<!-- !!!!!!!!!!    NOTICE THE INDEX IN THE CELL BELOW HERE  WILL LOOK INVISIBLE IN JUPYTER  !!!!!!!!!!!!!!!!!   -->"
      ],
      "text/plain": [
       "<IPython.core.display.HTML object>"
      ]
     },
     "metadata": {},
     "output_type": "display_data"
    }
   ],
   "source": [
    "%%HTML\n",
    "<!--\n",
    "HTML code to create the sidebar, menu and independent popup window.\n",
    "-->\n",
    "<style>\n",
    "    #algolab-toc {\n",
    "        position: fixed;\n",
    "        top: 100px; \n",
    "        left: -40px; \n",
    "        background: white;\n",
    "        height: 80%;\n",
    "        width: 200px; \n",
    "        padding: 20px; \n",
    "        z-index: 10;\n",
    "        overflow-y: scroll;\n",
    "    }\n",
    "    #algolab-toc ul {\n",
    "         list-style-type: none;    \n",
    "        margin-left: 15px;\n",
    "    }\n",
    "    #notebook-container {\n",
    "                            box-shadow : none;\n",
    "                            -web-kit-box-shadow: none;\n",
    "                        }\n",
    "    \n",
    "</style>\n",
    "<script>\n",
    "function showthis(url) {\n",
    "\twindow.open(url, \"pres\", \"toolbar=yes,scrollbars=yes,resizable=yes,top=10,left=400,width=500,height=500\");\n",
    "\treturn(false);\n",
    "}\n",
    "</script>\n",
    "\n",
    "<!-- !!!!!!!!!!    NOTICE THE INDEX IN THE CELL BELOW HERE  WILL LOOK INVISIBLE IN JUPYTER  !!!!!!!!!!!!!!!!!   -->\n"
   ]
  },
  {
   "cell_type": "markdown",
   "metadata": {},
   "source": [
    "<ul id=\"algolab-toc\" style=\"background: rgba(255, 255, 255, 0);\" class=\"unstyled\">\n",
    "    <li><a href=\"#Today\"> Today </a></li>\n",
    "    <li> <a href=\"#Introductions\"> Previous</a>\n",
    "        <ul>\n",
    "            <li> <a href=\"#Lab-1-Intro\"> 1 </a></li>\n",
    "            <li> <a href=\"#Lab-2-Intro\"> 2 </a></li>\n",
    "            <li> <a href=\"#Lab-3-Intro\"> 3 </a></li>\n",
    "        </ul>        \n",
    "    </li>        \n",
    "    <li> <a href=\"#Resources\">Resources</a></li>\n",
    "    <li> <a href=\"#From-Theory-to-Python\">From Theory to Python</a>\n",
    "        <ul>\n",
    "            <li> <a href=\"#List-performance\">List performance</a></li>\n",
    "        </ul>\n",
    "    </li>\n",
    "    <li> <a href=\"#Testing\"> Testing</a></li>\n",
    "    <li> <a href=\"#Basic-algorithms\">Basic Algorithms</a> \n",
    "        <ul>\n",
    "             <li> <a href=\"#Implement-swap\">swap</a></li>\n",
    "             <li> <a href=\"#Implement-partial_min_pos\">partial_min_pos</a></li>\n",
    "             <li> <a href=\"#Implement-selection_sort\">selection_sort</a></li>\n",
    "             <li> <a href=\"#Implement-gap_rec\">recursion (gap_rec)</a></li>\n",
    "             <li> <a href=\"#Implement-binary_search_rec\">recursion (binary_search_rec)</a></li>\n",
    "             <li> <a href=\"#Implement-binary_search_iter\">binary_search_iter</a></li>\n",
    "        </ul>\n",
    "    </li>\n",
    "    <li> <a href=\"#Basic-algorithms-solutions\">Basic Algoritms Solutions</a> \n",
    "        <ul>\n",
    "            <li> <a href=\"#Implement-swap-solution\">swap</a></li>\n",
    "            <li> <a href=\"#Implement-partial_min_pos-solution\">partial_min_pos</a></li>\n",
    "            <li> <a href=\"#implement-selection_sort-solution\">selection_sort</a></li>\n",
    "            <li> <a href=\"#Implement-gap_rec-solution\">gap_rec</a></li>\n",
    "            <li> <a href=\"#Implement-binary_search_rec-solution\">binary_search_rec</a></li>            \n",
    "        </ul>\n",
    "    </li>\n",
    "    \n",
    "    <li> <a href=\"#Data-structures\"> Data structures</a>\n",
    "        <ul>\n",
    "            <li> <a href=\"#class-ComplexNumber\">class ComplexNumber </a> </li>\n",
    "        </ul>\n",
    "    </li>\n",
    "    <li> <a href=\"#Data-Structures-Solutions\"> Data struct. Solutions</a>\n",
    "        <ul>\n",
    "            <li> <a href=\"#ComplexNumber-Solution\">ComplexNumber Solution</a> </li>\n",
    "        </ul>\n",
    "    </li>\n",
    "    \n",
    "</ul>"
   ]
  },
  {
   "cell_type": "code",
   "execution_count": 2,
   "metadata": {
    "collapsed": true
   },
   "outputs": [],
   "source": [
    "import algolab"
   ]
  },
  {
   "cell_type": "markdown",
   "metadata": {},
   "source": [
    "<center>\n",
    "<h1> Module 2: Algorithm and Data Structures Lab </h1>\n",
    "</center>\n",
    "\n",
    "<p>\n",
    "<br/>\n",
    "<center>\n",
    "\n",
    " David Leoni <br/>\n",
    " teaching assistant <br/>\n",
    " david.leoni [AT] unitn.it\n",
    "\n",
    "</center>\n",
    "<br/>\n",
    "<center>\n",
    "University of Trento\n",
    "</center>\n",
    "\n",
    "<center>\n",
    "<br/>\n",
    "18 Nov 2016\n",
    "<br/>\n",
    "v4.0\n",
    "</center>\n",
    "\n",
    "<br/>\n",
    "<br/>\n",
    "<center>\n",
    "This work is licensed under a Creative Commons Attribution 4.0 License\n",
    "</center>\n",
    "</p>"
   ]
  },
  {
   "cell_type": "markdown",
   "metadata": {},
   "source": [
    "# Today\n",
    "\n",
    "* Divide et Impera    \n",
    "    * `binary_search_iter`\n",
    "* Implement ComplexNumber\n",
    "\n",
    "New Commandment:\n",
    "\n",
    "* You shall _never ever_ reassign function parameters:\n",
    "\n",
    "\n",
    "```python\n",
    "def myfun(L, i, s):\n",
    "\n",
    "    # You shall not do any of this evil:\n",
    "    L = [666]\n",
    "    i = 666\n",
    "    s = \"666\"\n",
    "```\n",
    "    \n",
    "\n",
    "Previous commandments: \n",
    "\n",
    "* You shall also write on paper!\n",
    "* You shall copy *exactly the same* function definitions as in the exercises!\n",
    "    * For example don't write `def MY_selection_sort(A):`  \n",
    "* You shall use `return` command _only_ if you see Written `return` in the pseudocode!\n",
    "    * If there is no `return` in the pseudocode, the function is intended to return `None`. In this case you don't even need to write `return None`, as Python will do it implicitly for you.\n"
   ]
  },
  {
   "cell_type": "markdown",
   "metadata": {},
   "source": [
    "# Course website \n",
    "\n",
    "Same as theory (in progress): <a href=\"http://cricca.disi.unitn.it/montresor/teaching/scientific-programming\" target=\"_blank\">http://cricca.disi.unitn.it/montresor/teaching/scientific-programming</a>\n",
    "\n",
    "Again, just for today, please go here: <a href=\"https://davidleoni.github.io/algolab\" target=\"_blank\">https://davidleoni.github.io/algolab</a>\n"
   ]
  },
  {
   "cell_type": "markdown",
   "metadata": {
    "collapsed": true
   },
   "source": [
    "# Introductions\n",
    "\n",
    "## Lab 1 Intro\n",
    "\n",
    "3 Nov 2016\n",
    "\n",
    "### Lab Goals\n",
    "\n",
    "* Going from theory taught by Prof. Alberto Montresor to implementation\n",
    "* Pseudo code  -->   Python\n",
    "\n",
    "### How\n",
    "\n",
    "* Hands-on approach\n",
    "* Performance considerations\n",
    "* Focus on correct code\n",
    "* Few Python functions\n",
    "\n",
    "### Lab Midterm?\n",
    "\n",
    "Probably not. Still, will provide exam example.\n",
    "\n",
    "## Lab 2 Intro\n",
    "\n",
    "Date: Nov 11th, 2016\n",
    "\n",
    "* More practical than last time!\n",
    "* Finish selection_sort and gap implementation\n",
    "* midlab pause ;-)\n",
    "* implement a Python class"
   ]
  },
  {
   "cell_type": "markdown",
   "metadata": {
    "collapsed": true
   },
   "source": [
    "## Lab 3 Intro\n",
    "\n",
    "Nov 17th, 2016\n",
    "\n",
    "* Recursion\n",
    "    * `gap_rec`, `binary_search_rec`\n",
    "* `binary_search_iter`\n",
    "* Will give you more tests \n",
    "* Write also on paper!\n",
    "* Copy *exactly the same* function definitions!\n",
    "    * For example don't write `def MY_selection_sort(A):`  \n",
    "* use `return` command _only_ if you see written `return` in the pseudocode!\n",
    "    * If there is no `return` in the pseudocode, the function is intended to return `None`. In this case you don't even need to write `return None`, as Python will do it implicitly for you."
   ]
  },
  {
   "cell_type": "markdown",
   "metadata": {},
   "source": [
    "# Resources\n",
    "\n",
    "* Online book: <a href=\"http://interactivepython.org/runestone/static/pythonds/index.html\" target=\"_blank\">\n",
    "    Problem Solving with Algorithms and Data Structures using Python </a>\n",
    "    by Brad Miller and David Ranum\n",
    "* <a href=\"http://cricca.disi.unitn.it/montresor/teaching/scientific-programming/slides/\" target=\"_blank\">  Theory slides </a> by Alberto Montresor\n",
    "* Will try to be consistent with <a href=\"http://disi.unitn.it/~teso/courses/sciprog/index.html\" target=\"_blank\"> other lab module notes </a> of Stefano Teso and Toma Tebaldi  \n",
    "* <a href=\"http://www.pythontutor.com/visualize.html#mode=edit\" target=\"_blank\">PythonTutor </a>, a visual virtual machine (_very useful_! can also be found in examples inside the book!)\n",
    "* The internet ...."
   ]
  },
  {
   "cell_type": "markdown",
   "metadata": {},
   "source": [
    "# From Theory to Python\n",
    "\n",
    "## List performance\n",
    "\n",
    "Table from <a href=\"http://interactivepython.org/runestone/static/pythonds/AlgorithmAnalysis/Lists.html\"\n",
    " target=\"_blank\">the book Chapter 2.6: Lists</a>\n",
    "\n",
    "\n",
    "|<img src=\"img/list-complexity-1.png\">|<img src=\"img/list-complexity-2.png\">|\n",
    "|---|---|\n",
    "\n",
    "## Fast or not?\n",
    " \n",
    "```python\n",
    "\n",
    "x = [\"a\", \"b\", \"c\"]\n",
    "\n",
    "x[2]        x[2] = \"d\"       x.append(\"d\")     x.insert(0, \"d\")        x[3:5]        x.sort()\n",
    "\n",
    "\n",
    "```\n",
    "What about `len(x)` ? If you don't know the answer, try googling it! "
   ]
  },
  {
   "cell_type": "markdown",
   "metadata": {},
   "source": [
    "# From Theory to Python - Sublist iteration performance\n",
    "\n",
    "`get slice` time complexity is `O(k)`, but what about memory? It's the same!\n",
    "\n",
    "So if you want to iterate a part of a list, beware of slicing! For example, slicing a list like this can occupy much more memory than necessary:"
   ]
  },
  {
   "cell_type": "code",
   "execution_count": 3,
   "metadata": {
    "collapsed": false
   },
   "outputs": [
    {
     "name": "stdout",
     "output_type": "stream",
     "text": [
      "[200, 202, 204, 206, 208, 210, 212, 214, 216, 218, 220, 222, 224, 226, 228, 230, 232, 234, 236, 238, 240, 242, 244, 246, 248, 250, 252, 254, 256, 258, 260, 262, 264, 266, 268, 270, 272, 274, 276, 278, 280, 282, 284, 286, 288, 290, 292, 294, 296, 298, 300, 302, 304, 306, 308, 310, 312, 314, 316, 318, 320, 322, 324, 326, 328, 330, 332, 334, 336, 338, 340, 342, 344, 346, 348, 350, 352, 354, 356, 358, 360, 362, 364, 366, 368, 370, 372, 374, 376, 378, 380, 382, 384, 386, 388, 390, 392, 394, 396, 398]\n"
     ]
    }
   ],
   "source": [
    "x = range(1000)\n",
    "\n",
    "print [2*y for y in x[100:200]]"
   ]
  },
  {
   "cell_type": "markdown",
   "metadata": {},
   "source": [
    "The reason is that, depending on the Python interpreter you have, slicing like `x[100:200]`at loop start can create a _new_ list. If we want to explicitly tell Python we just want to iterate through the list, we can use the so called <a href=\"https://docs.python.org/2/library/itertools.html\" target=\"_blank\">itertools</a>. In particular, the <a href=\"https://docs.python.org/2/library/itertools.html#itertools.islice\" target=\"_blank\"> islice </a> method is handy, with it we can rewrite the list comprehension above like this:\n"
   ]
  },
  {
   "cell_type": "code",
   "execution_count": 4,
   "metadata": {
    "collapsed": false
   },
   "outputs": [
    {
     "name": "stdout",
     "output_type": "stream",
     "text": [
      "[200, 202, 204, 206, 208, 210, 212, 214, 216, 218, 220, 222, 224, 226, 228, 230, 232, 234, 236, 238, 240, 242, 244, 246, 248, 250, 252, 254, 256, 258, 260, 262, 264, 266, 268, 270, 272, 274, 276, 278, 280, 282, 284, 286, 288, 290, 292, 294, 296, 298, 300, 302, 304, 306, 308, 310, 312, 314, 316, 318, 320, 322, 324, 326, 328, 330, 332, 334, 336, 338, 340, 342, 344, 346, 348, 350, 352, 354, 356, 358, 360, 362, 364, 366, 368, 370, 372, 374, 376, 378, 380, 382, 384, 386, 388, 390, 392, 394, 396, 398]\n"
     ]
    }
   ],
   "source": [
    "import itertools\n",
    "\n",
    "print [2*y for y in itertools.islice(x, 100, 200)]"
   ]
  },
  {
   "cell_type": "markdown",
   "metadata": {},
   "source": [
    "# Testing\n",
    "\n",
    "* If it seems to work, then it works! \n",
    "* But the devil is in the details, especially for complex algorithms.\n",
    "* To learn how to do testing in Python, see <a href=\"algolab-testing.html\" target=\"_blank\">Algolab testing</a> (required for exam!)\n"
   ]
  },
  {
   "cell_type": "markdown",
   "metadata": {},
   "source": [
    "# Implementation\n",
    "\n",
    "## Implement `swap`\n",
    "\n",
    "Try to code and test the `swap` function from <a href=\"http://disi.unitn.it/~montreso/sp/slides/03-analisi.pdf\" target=\"_blank\">selection sort (slide 29 theory)</a>:\n",
    "    \n",
    "<img src=\"img/swap.png\"/>\n",
    "\n",
    "* Use the following skeleton to code it\n",
    "* Check carefully all the test cases, in particular `test_swap_property` and `test_double_swap`. They show two important properties of the swap function. Make sure you understand why these tests should succeed. \n"
   ]
  },
  {
   "cell_type": "code",
   "execution_count": 5,
   "metadata": {
    "collapsed": true
   },
   "outputs": [],
   "source": [
    "import unittest\n",
    "\n",
    "def swap(A, x, y):\n",
    "    \"\"\"\n",
    "    In the array A, swaps the elements at position x and y.\n",
    "    \"\"\"\n",
    "    raise Exception(\"TODO implement me!\")\n",
    "    \n",
    "class SwapTest(unittest.TestCase):\n",
    "   \n",
    "    def test_one_element(self):\n",
    "        v = ['a'];\n",
    "        swap(v,0,0)\n",
    "        self.assertEqual(v, ['a'])\n",
    "\n",
    "    def test_two_elements(self):\n",
    "        v = ['a','b'];\n",
    "        swap(v,0,1)\n",
    "        self.assertEqual(v, ['b','a'])\n",
    "        \n",
    "    def test_return_none(self):\n",
    "        v = ['a','b', 'c', 'd'];\n",
    "        self.assertEquals(None, swap(v,1,3))\n",
    "        \n",
    "        \n",
    "    def test_long_list(self):\n",
    "        v = ['a','b', 'c', 'd'];\n",
    "        swap(v,1,3)\n",
    "        self.assertEqual(v, ['a', 'd','c', 'b'])\n",
    "        \n",
    "        \n",
    "    def test_swap_property(self):\n",
    "        v = ['a','b','c','d'];\n",
    "        w = ['a','b','c','d'];\n",
    "        swap(v,1,3)\n",
    "        swap(w,3,1)\n",
    "        self.assertEqual(v, w)\n",
    "\n",
    "    def test_double_swap(self):\n",
    "        v = ['a','b','c','d'];        \n",
    "        swap(v,1,3)\n",
    "        swap(v,1,3)\n",
    "        self.assertEqual(v, ['a','b','c','d'])   \n"
   ]
  },
  {
   "cell_type": "markdown",
   "metadata": {},
   "source": [
    "## Implement `partial_min_pos`\n",
    "\n",
    "Try to code and test the partial `min` pos function from <a href=\"http://disi.unitn.it/~montreso/sp/slides/03-analisi.pdf\" target=\"_blank\">selection sort (slide 29 theory)</a>:\n",
    "    \n",
    "<img src=\"img/partial-min.png\">\n",
    "\n",
    "* Use the following skeleton to code it\n",
    "* add some test to the provided testcase class\n",
    "\n",
    "Notice that\n",
    "\n",
    "* we renamed `min` to `partial_min_pos` to avoid name collision with Python standard library `min` function\n",
    "* it is not necessary to pass list length `n`, as it is already stored in Python implementation of lists, and we can retrieve it in `O(1)` time with `len(A)`\n"
   ]
  },
  {
   "cell_type": "code",
   "execution_count": 6,
   "metadata": {
    "collapsed": false
   },
   "outputs": [],
   "source": [
    "import unittest\n",
    "\n",
    "def partial_min_pos(A, i):\n",
    "    \"\"\"\n",
    "    Return the value from list A which is lesser or equal than all other values in A \n",
    "    that start from index i included\n",
    "    \"\"\"\n",
    "    raise Exception(\"TODO implement me!\")\n",
    "    \n",
    "class PartialMinPosTest(unittest.TestCase):\n",
    "   \n",
    "    def test_one_element(self):\n",
    "        self.assertEqual(partial_min_pos([1],0),0)     \n",
    "\n",
    "    def test_two_elements(self):\n",
    "        self.assertEqual(partial_min_pos([1,2],0),0)\n",
    "        self.assertEqual(partial_min_pos([2,1],0),1)\n",
    "        self.assertEqual(partial_min_pos([2,1],1),1)\n",
    "        \n",
    "    def test_long_list(self):\n",
    "        self.assertEqual(partial_min_pos([8,9,6,5,7],2),3)   \n",
    "    "
   ]
  },
  {
   "cell_type": "markdown",
   "metadata": {},
   "source": [
    "## Implement `selection_sort`\n",
    "\n",
    "Try to code and test the `selectionSort` from <a href=\"http://disi.unitn.it/~montreso/sp/slides/03-analisi.pdf\" target=\"_blank\">selection sort (slide 29 theory)</a>:\n",
    "    \n",
    "<img src=\"img/selection-sort.png\">\n",
    "\n",
    "Use the following skeleton to code it and add some test to the provided testcase class.\n",
    "\n",
    "Notice that\n",
    "\n",
    "* we renamed `selectionSort` to `selection_sort` because it is a <a href=\"https://www.python.org/dev/peps/pep-0008/#function-names\" target=\"_blank\">more pythonic name</a>\n",
    "* it is not necessary to pass list length `n`, as it is already stored in Python implementation of lists, and we can retrieve it in `O(1)` time with `len(A)`\n",
    "* On the book website, there is <a href=\"http://interactivepython.org/runestone/static/pythonds/SortSearch/TheSelectionSort.html\" target=\"_blank\">an implementation of the selection sort</a> with a nice animated histogram showing a sorting process. Differently from the slides, instead of selecting the minimal element the algorithm on the book selects the _maximal_ element and puts it to the right of the array.\n"
   ]
  },
  {
   "cell_type": "code",
   "execution_count": 7,
   "metadata": {
    "collapsed": true
   },
   "outputs": [],
   "source": [
    "import unittest\n",
    "\n",
    "def selection_sort(A):\n",
    "    \"\"\"\n",
    "    Sorts the list A in-place in O(n^2) time. \n",
    "    \"\"\"\n",
    "    raise Exception(\"TODO implement me!\")\n",
    "    \n",
    "class SelectionSortTest(unittest.TestCase):\n",
    "   \n",
    "    def test_zero_elements(self):\n",
    "        v = []\n",
    "        selection_sort(v)\n",
    "        self.assertEqual(v,[])     \n",
    "        \n",
    "    def test_return_none(self):    \n",
    "        self.assertEquals(None, selection_sort([2]))        \n",
    "        \n",
    "    def test_one_element(self):\n",
    "        v = [\"a\"]\n",
    "        selection_sort(v)\n",
    "        self.assertEqual(v,[\"a\"])     \n",
    "        \n",
    "\n",
    "    def test_two_elements(self):\n",
    "        v = [2,1]\n",
    "        selection_sort(v)\n",
    "        self.assertEqual(v,[1,2])  \n",
    "        \n",
    "    def test_three_elements(self):\n",
    "        v = [2,1,3]\n",
    "        selection_sort(v)\n",
    "        self.assertEqual(v,[1,2,3])\n",
    "    \n",
    "    def test_piccinno_list(self):        \n",
    "        v = [23, 34, 55, 32, 7777, 98, 3, 2, 1]        \n",
    "        selection_sort(v)\n",
    "        vcopy = v[:]\n",
    "        vcopy.sort()\n",
    "        self.assertEqual(v, vcopy)     "
   ]
  },
  {
   "cell_type": "markdown",
   "metadata": {},
   "source": [
    "## Implement gap_rec\n",
    "\n",
    "\n",
    "Try to code and test the `gap` function from <a href=\"http://disi.unitn.it/~montreso/sp/slides/02-recursion.pdf\" target=\"_blank\">recursion theory slides (slide 21)</a>:\n",
    "    \n",
    "<img src=\"img/recursive-gap.png\">\n",
    "\n",
    "Use the following skeleton to code it and add some test to the provided testcase class.\n",
    "\n",
    "Notice that\n",
    "\n",
    "* We created a function `gap_rec` to differentiate it from the iterative one\n",
    "* for convenience the new function `gap_rec(L)` only accepts a list, without indexes `i` and `j`. This function just calls the other function `gap_rec_helper` that will actually contain the recursive calls. So your task is to translate the pseudocode of `gap` into the Python code of `gap_rec_helper`, which takes as input the array and the indexes as `gap` does. Adding a helper function is a frequent pattern you can find when programming recursive functions.\n",
    "* To understand what's going on, try copy pasting your solution in <a href=\"http://pythontutor.com/visualize.html#mode=edit\" target=\"_blank\">Python tutor</a> and hit `Visualize execution` and then Forward to step through the process\n",
    "* What is the complexity of `gap_rec`? Is it faster or slower than the iterative gap here?\n",
    "\n",
    "<img src=\"iterative-gap.png\"/>\n",
    "\n",
    "\n",
    "```python\n",
    "def gap_iter(L):\n",
    "    for i in range(1,len(L)):\n",
    "        if L[i-1] < L[i]:\n",
    "            return i\n",
    "    return -1\n",
    "```\n",
    "\n",
    "* Assuming L contains n >= 2 integers such that L[0] < L[n-1], will the recursive gap always give the same result as the iterative one? If we just change function names, can we run the same test case against both implementations?  (Careful!)\n"
   ]
  },
  {
   "cell_type": "code",
   "execution_count": 8,
   "metadata": {
    "collapsed": true
   },
   "outputs": [],
   "source": [
    "import unittest\n",
    "\n",
    "def gap_rec(L):\n",
    "    \"\"\" Searches a gap in list L\n",
    "    \n",
    "    Given a list L containing n >= 2 integers such that L[0] < L[n-1], returns a gap in the list.\n",
    "    A gap is an index i, 0 < i < n such that L[i-1] < L[i]\n",
    "    \"\"\"    \n",
    "    return gap_helper(L, 0, len(L)-1)\n",
    "\n",
    "def gap_helper(L, i, j):\n",
    "    \"\"\" Searches a gap in sublist L[i:j]\n",
    "    \n",
    "    Given a list L containing n >= 2 integers such that L[i] < L[j], returns a gap in the sublist L[i:j]\n",
    "    A gap is an index z, i < z < j+1 such that L[z-1] < L[z]\n",
    "    \"\"\"    \n",
    "    raise Exception(\"TODO implement me!\")\n",
    "    \n",
    "class GapRecTest(unittest.TestCase):\n",
    "   \n",
    "    def test_two_elements(self):        \n",
    "        self.assertEqual(gap_rec([1,2]),1) \n",
    "\n",
    "    def test_three_elements_middle(self):                        \n",
    "        self.assertEquals(gap_rec([1,3,3]), 1)        \n",
    "        \n",
    "    def test_three_elements_right(self):        \n",
    "        self.assertEquals(gap_rec([1,1,3]), 2)        \n"
   ]
  },
  {
   "cell_type": "markdown",
   "metadata": {},
   "source": [
    "## Implement binary_search_rec\n",
    "\n",
    "Try to code and test the `binarySearch` recursive function from <a href=\"http://disi.unitn.it/~montreso/sp/slides/02-recursion.pdf\" target=\"_blank\">recursion theory slides (slide 21)</a>:\n",
    "    \n",
    "<img src=\"img/binary-search-recursive.png\">\n",
    "\n",
    "* Use the following skeleton to code it\n",
    "* add some test to the provided testcase class\n",
    "* Does the pseudocode algorithm work with the empty list? \n",
    "* What happens if we allow non-distinct numbers? Does it work anyway? \n",
    "\n",
    "Notice that\n",
    "\n",
    "* we renamed `binarySearch` to `binary_search_rec` to have more pythonic name and differentiate it from the iterative one\n",
    "* the renamed function `binary_search_rec(L)` only accepts a list, without indexes `i` and `j`, we will need a way to specify them when we translate the pseudocode. You can follow the same pattern used for `gap_rec_helper`\n",
    "    * SUGGESTION 1: write as a comment what the helper function is expected to receive. Can it receive an empty list? Can it receive indices out of bounds? You decide the assumptions, but once they are decided you should make sure that unacceptable values don't get into it!\n",
    "    * SUGGESTION 2: if you want to make sure no empty list enters the helper function, you can enforce preconditions and do active checking by writing this command at the beginning of the function:\n",
    "    \n",
    "    ```python\n",
    "        assert len(L) > 0\n",
    "    ```\n",
    "    This command will make python interrupt execution and throw an error as soon it detects list `L` is empty. You can put any condition you want after `assert`, but ideally they should be fast to execute.\n",
    "* To understand what's going on, try copy pasting your solution in <a href=\"http://pythontutor.com/visualize.html#mode=edit\" target=\"_blank\">Python tutor</a> and hit `Visualize execution` and then Forward to step through the process\n",
    "* Remember that even experienced programmers tend to fail implementing the binary search at first time, it's easy to get wrong indexes! So good tests here can really spot issues."
   ]
  },
  {
   "cell_type": "code",
   "execution_count": 9,
   "metadata": {
    "collapsed": true
   },
   "outputs": [],
   "source": [
    "import unittest\n",
    "\n",
    "def binary_search_rec(L,v ):\n",
    "    \"\"\" Searches value v in sorted list L\n",
    "    \n",
    "    Given a list L containing n distinct sorted integers, returns the index position\n",
    "    of element with value v, or -1 if not found\n",
    "    \"\"\"\n",
    "\n",
    "    raise Exception(\"TODO implement me!\")    \n",
    "    \n",
    "class BinarySearchRecTest(unittest.TestCase):       \n",
    "    \n",
    "    def test_empty(self):\n",
    "        self.assertEqual(binary_search_rec([], 7), -1)\n",
    "   \n",
    "    def test_one_element_found(self):        \n",
    "        self.assertEqual(binary_search_rec([7],7),0) \n",
    "\n",
    "    def test_one_element_not_found(self):\n",
    "        self.assertEqual(binary_search_rec([6],7),-1)         \n",
    "    \n",
    "    def test_one_negative_element_not_found(self):        \n",
    "        self.assertEqual(binary_search_rec([-7],7),-1)         \n",
    "\n",
    "    def test_two_elements_found_right(self):                        \n",
    "        self.assertEquals(binary_search_rec([6,7],7), 1)        \n",
    "        \n",
    "    def test_two_elements_not_found(self):                        \n",
    "        self.assertEquals(binary_search_rec([6,7],3), -1)\n",
    "        \n",
    "    def test_two_elements_found_left(self):                        \n",
    "        self.assertEquals(binary_search_rec([6,7],6), 0)    \n",
    "                \n",
    "    def test_long_list(self):                        \n",
    "        self.assertEquals(binary_search_rec([2,4,5,7,9],7), 3)           \n",
    "        "
   ]
  },
  {
   "cell_type": "markdown",
   "metadata": {},
   "source": [
    "## Implement binary_search_iter\n",
    "\n",
    "Try to code and test the `iterativeBinarySearch` function from <a href=\"http://disi.unitn.it/~montreso/sp/slides/01-introduzione.pdf\" target=\"_blank\">Introduction slides (slide 18)</a>:\n",
    "    \n",
    "<img src=\"img/binary-search-iterative.png\">\n",
    "\n",
    "* This time, there's no code skeleton and you're on your own! \n",
    "* Try to reuse test cases from the recursive version\n"
   ]
  },
  {
   "cell_type": "markdown",
   "metadata": {},
   "source": [
    "# Implementation solutions"
   ]
  },
  {
   "cell_type": "markdown",
   "metadata": {},
   "source": [
    "## Implement `swap` solution"
   ]
  },
  {
   "cell_type": "code",
   "execution_count": 10,
   "metadata": {
    "collapsed": true
   },
   "outputs": [],
   "source": [
    "import unittest\n",
    "\n",
    "def swap(A, x, y):\n",
    "    \"\"\"\n",
    "    In the array A, swaps the elements at position x and y.\n",
    "    \"\"\"\n",
    "    temp = A[x]\n",
    "    A[x] = A[y]\n",
    "    A[y] = temp\n",
    "    \n",
    "class SwapTest(unittest.TestCase):\n",
    "   \n",
    "    def test_one_element(self):\n",
    "        v = ['a'];\n",
    "        swap(v,0,0)\n",
    "        self.assertEqual(v, ['a'])\n",
    "\n",
    "    def test_two_elements(self):\n",
    "        v = ['a','b'];\n",
    "        swap(v,0,1)\n",
    "        self.assertEqual(v, ['b','a'])\n",
    "        \n",
    "    def test_return_none(self):\n",
    "        v = ['a','b', 'c', 'd'];\n",
    "        self.assertEquals(None, swap(v,1,3))        \n",
    "        \n",
    "    def test_long_list(self):\n",
    "        v = ['a','b', 'c', 'd'];\n",
    "        swap(v,1,3)\n",
    "        self.assertEqual(v, ['a', 'd','c', 'b'])\n",
    "        \n",
    "        \n",
    "    def test_swap_property(self):\n",
    "        v = ['a','b','c','d'];\n",
    "        w = ['a','b','c','d'];\n",
    "        swap(v,1,3)\n",
    "        swap(w,3,1)\n",
    "        self.assertEqual(v, w)\n",
    "\n",
    "    def test_double_swap(self):\n",
    "        v = ['a','b','c','d'];        \n",
    "        swap(v,1,3)\n",
    "        swap(v,1,3)\n",
    "        self.assertEqual(v, ['a','b','c','d'])"
   ]
  },
  {
   "cell_type": "code",
   "execution_count": 11,
   "metadata": {
    "collapsed": false
   },
   "outputs": [
    {
     "name": "stderr",
     "output_type": "stream",
     "text": [
      "......\n",
      "----------------------------------------------------------------------\n",
      "Ran 6 tests in 0.011s\n",
      "\n",
      "OK\n"
     ]
    }
   ],
   "source": [
    "algolab.run(SwapTest)"
   ]
  },
  {
   "cell_type": "markdown",
   "metadata": {},
   "source": [
    "## Implement `partial_min_pos` solution"
   ]
  },
  {
   "cell_type": "code",
   "execution_count": 12,
   "metadata": {
    "collapsed": false
   },
   "outputs": [],
   "source": [
    "import unittest\n",
    "\n",
    "def partial_min_pos(A, i):\n",
    "    \"\"\"\n",
    "    Return the index of the element in list A which is lesser or equal than all other values in A \n",
    "    that start from index i included\n",
    "    \"\"\"\n",
    "    pm = i\n",
    "    \n",
    "    for j in range(i+1, len(A)):\n",
    "        if (A[j] < A[pm]):\n",
    "            pm = j \n",
    "    return pm\n",
    "    \n",
    "class PartialMinPosTest(unittest.TestCase):\n",
    "   \n",
    "    def test_one_element(self):\n",
    "        self.assertEqual(partial_min_pos([1],0),0)     \n",
    "\n",
    "    def test_two_elements(self):\n",
    "        self.assertEqual(partial_min_pos([1,2],0),0)\n",
    "        self.assertEqual(partial_min_pos([2,1],0),1)\n",
    "        self.assertEqual(partial_min_pos([2,1],1),1)\n",
    "        \n",
    "    def test_long_list(self):\n",
    "        self.assertEqual(partial_min_pos([8,9,6,5,7],2),3)\n",
    "\n",
    "        "
   ]
  },
  {
   "cell_type": "code",
   "execution_count": 13,
   "metadata": {
    "collapsed": false
   },
   "outputs": [
    {
     "name": "stderr",
     "output_type": "stream",
     "text": [
      "...\n",
      "----------------------------------------------------------------------\n",
      "Ran 3 tests in 0.009s\n",
      "\n",
      "OK\n"
     ]
    }
   ],
   "source": [
    "algolab.run(PartialMinPosTest)"
   ]
  },
  {
   "cell_type": "markdown",
   "metadata": {},
   "source": [
    "## implement `selection_sort` solution"
   ]
  },
  {
   "cell_type": "code",
   "execution_count": 14,
   "metadata": {
    "collapsed": true
   },
   "outputs": [],
   "source": [
    "import unittest\n",
    "\n",
    "def selection_sort(A):\n",
    "    \"\"\"\n",
    "    Sorts the list A in-place in O(n^2) time. \n",
    "    \"\"\"\n",
    "    for i in range(0, len(A)-1):\n",
    "        m = partial_min_pos(A, i)\n",
    "        swap(A, i, m)\n",
    "    \n",
    "class SelectionSortTest(unittest.TestCase):\n",
    "   \n",
    "    def test_zero_elements(self):\n",
    "        v = []\n",
    "        selection_sort(v)\n",
    "        self.assertEqual(v,[])     \n",
    "        \n",
    "    def test_return_none(self):    \n",
    "        self.assertEquals(None, selection_sort([2]))        \n",
    "        \n",
    "    def test_one_element(self):\n",
    "        v = [\"a\"]\n",
    "        selection_sort(v)\n",
    "        self.assertEqual(v,[\"a\"])     \n",
    "        \n",
    "\n",
    "    def test_two_elements(self):\n",
    "        v = [2,1]\n",
    "        selection_sort(v)\n",
    "        self.assertEqual(v,[1,2])  \n",
    "        \n",
    "    def test_three_elements(self):\n",
    "        v = [2,1,3]\n",
    "        selection_sort(v)\n",
    "        self.assertEqual(v,[1,2,3])\n",
    "    \n",
    "    def test_piccinno_list(self):        \n",
    "        v = [23, 34, 55, 32, 7777, 98, 3, 2, 1]        \n",
    "        selection_sort(v)\n",
    "        vcopy = v[:]\n",
    "        vcopy.sort()\n",
    "        self.assertEqual(v, vcopy)    \n"
   ]
  },
  {
   "cell_type": "code",
   "execution_count": 15,
   "metadata": {
    "collapsed": false
   },
   "outputs": [
    {
     "name": "stderr",
     "output_type": "stream",
     "text": [
      "......\n",
      "----------------------------------------------------------------------\n",
      "Ran 6 tests in 0.013s\n",
      "\n",
      "OK\n"
     ]
    }
   ],
   "source": [
    "algolab.run(SelectionSortTest)"
   ]
  },
  {
   "cell_type": "markdown",
   "metadata": {},
   "source": [
    "## Implement gap_rec solution"
   ]
  },
  {
   "cell_type": "code",
   "execution_count": 16,
   "metadata": {
    "collapsed": true
   },
   "outputs": [],
   "source": [
    "import unittest\n",
    "\n",
    "def gap_rec(L):\n",
    "    \"\"\"\n",
    "    Given a list L containing n >= 2 integers such that L[0] < L[n-1], returns a gap in the list.\n",
    "    A gap is an index i, 0 < i < n such that L[i-1] < L[i]\n",
    "    \"\"\"    \n",
    "    return gap_helper(L, 0, len(L)-1)\n",
    "\n",
    "def gap_helper(L, i, j):\n",
    "    \"\"\"\n",
    "    Given a list L containing n >= 2 integers such that L[i] < L[j], returns a gap in the sublist L[i:j]\n",
    "    A gap is an index z, i < z < j+1 such that L[z-1] < L[z]\n",
    "    \"\"\"\n",
    "    if j == i + 1:\n",
    "        return j\n",
    "    m = (i+j) // 2   # remember in every python version // operator behaves the same and floors the result\n",
    "    \n",
    "    if (L[m] <= L[i]):\n",
    "        return gap_helper(L, m, j)\n",
    "    else:\n",
    "        return gap_helper(L, i, m)\n",
    "    \n",
    "class GapRecTest(unittest.TestCase):\n",
    "   \n",
    "    def test_two_elements(self):        \n",
    "        self.assertEqual(gap_rec([1,2]),1) \n",
    "\n",
    "    def test_three_elements_middle(self):                        \n",
    "        self.assertEquals(gap_rec([1,3,3]), 1)        \n",
    "        \n",
    "    def test_three_elements_right(self):        \n",
    "        self.assertEquals(gap_rec([1,1,3]), 2)        \n"
   ]
  },
  {
   "cell_type": "code",
   "execution_count": 17,
   "metadata": {
    "collapsed": false
   },
   "outputs": [
    {
     "name": "stderr",
     "output_type": "stream",
     "text": [
      "...\n",
      "----------------------------------------------------------------------\n",
      "Ran 3 tests in 0.008s\n",
      "\n",
      "OK\n"
     ]
    }
   ],
   "source": [
    "algolab.run(GapRecTest)"
   ]
  },
  {
   "cell_type": "markdown",
   "metadata": {},
   "source": [
    "## Implement binary_search_rec solution"
   ]
  },
  {
   "cell_type": "code",
   "execution_count": 18,
   "metadata": {
    "collapsed": true
   },
   "outputs": [],
   "source": [
    "import unittest\n",
    "\n",
    "def binary_search_rec(L,v ):\n",
    "    \"\"\" Searches value v in sorted list L\n",
    "    \n",
    "    Given a list L containing n distinct sorted integers, returns the index position\n",
    "    of element with value v, or -1 if not found\n",
    "    \"\"\"\n",
    "\n",
    "    return binary_search_helper(L,v, 0, len(L)-1)\n",
    "\n",
    "def binary_search_helper(L, v, i, j):\n",
    "    \"\"\" Helper for the recursive binary search\n",
    "    \n",
    "    Given a list L containing n distinct sorted integers, returns the index position\n",
    "    of element with value v if it is present in sublist L[i:j], or -1 if not found\n",
    "    \"\"\"\n",
    "    if i > j:\n",
    "        return -1\n",
    "    \n",
    "    m = (i+j) // 2   # remember in every python version // operator behaves the same and floors the result\n",
    "        \n",
    "    # print \"L = \", L\n",
    "    # print \"v = \", v\n",
    "    # print \"m = \", m\n",
    "    # print \"i = \", i\n",
    "    # print \"j = \", j\n",
    "    \n",
    "    if L[m] == v:\n",
    "        return m\n",
    "    elif L[m] < v:\n",
    "        return binary_search_helper(L, v, m + 1, j)\n",
    "    else:\n",
    "        return binary_search_helper(L, v, i, m - 1)\n",
    "    \n",
    "class BinarySearchRecTest(unittest.TestCase):       \n",
    "    \n",
    "    def test_empty(self):\n",
    "        self.assertEqual(binary_search_rec([], 7), -1)\n",
    "   \n",
    "    def test_one_element_found(self):        \n",
    "        self.assertEqual(binary_search_rec([7],7),0) \n",
    "\n",
    "    def test_one_element_not_found(self):\n",
    "        self.assertEqual(binary_search_rec([6],7),-1)         \n",
    "    \n",
    "    def test_one_negative_element_not_found(self):        \n",
    "        self.assertEqual(binary_search_rec([-7],7),-1)         \n",
    "\n",
    "    def test_two_elements_found_right(self):                        \n",
    "        self.assertEquals(binary_search_rec([6,7],7), 1)        \n",
    "        \n",
    "    def test_two_elements_not_found(self):                        \n",
    "        self.assertEquals(binary_search_rec([6,7],3), -1)\n",
    "        \n",
    "    def test_two_elements_found_left(self):                        \n",
    "        self.assertEquals(binary_search_rec([6,7],6), 0)        \n",
    "        \n",
    "    def test_long_list(self):                        \n",
    "        self.assertEquals(binary_search_rec([2,4,5,7,9],7), 3)       \n",
    "        \n",
    "    def test_not_distinct_found(self):                        \n",
    "        self.assertEquals(binary_search_rec([7,7],7), 0)        \n",
    "\n",
    "    def test_not_distinct_not_found(self):                        \n",
    "        self.assertEquals(binary_search_rec([7,7],5), -1)\n",
    "        \n",
    "        \n",
    "        "
   ]
  },
  {
   "cell_type": "code",
   "execution_count": 19,
   "metadata": {
    "collapsed": false
   },
   "outputs": [
    {
     "name": "stderr",
     "output_type": "stream",
     "text": [
      "..........\n",
      "----------------------------------------------------------------------\n",
      "Ran 10 tests in 0.025s\n",
      "\n",
      "OK\n"
     ]
    }
   ],
   "source": [
    "algolab.run(BinarySearchRecTest)"
   ]
  },
  {
   "cell_type": "markdown",
   "metadata": {},
   "source": [
    "# Data structures\n",
    "\n"
   ]
  },
  {
   "cell_type": "markdown",
   "metadata": {},
   "source": [
    "## class ComplexNumber\n",
    "\n",
    "\n",
    "See theory here: http://disi.unitn.it/~montreso/sp/slides/04-strutture.pdf  (First slides until `class Fraction`)\n",
    "\n",
    "\n",
    "**Let's try to define a complex number: **\n",
    "\n",
    "<img src=\"img/complex-numbers-definition.png\">"
   ]
  },
  {
   "cell_type": "markdown",
   "metadata": {},
   "source": [
    "As the `Fraction` class, the `ComplexNumber` holds two values, in this case one for the _real_ part and one for the _imaginary_ one.\n",
    "\n",
    "* Note each method takes as first import `self` argument. `self` will always be a reference to the object itself, and allows accessing its fields and methods\n",
    "* `self` is not a keyword of Python, you could use any name you want for the first parameter, but it is much better to follow conventions and stick using `self` ! \n",
    "* Methods beginning and ending with double underscore '\\__' have often special meaning in Python: if you see such a method around, it means it is overriding some default behaviour of Python"
   ]
  },
  {
   "cell_type": "code",
   "execution_count": 20,
   "metadata": {
    "collapsed": false
   },
   "outputs": [],
   "source": [
    "import unittest\n",
    "import math\n",
    "\n",
    "class ComplexNumber:\n",
    "    \n",
    "    def __init__(self, real, imaginary):\n",
    "        \"\"\" Initializes the complex number with real and imaginary part \"\"\"\n",
    "        self.real = real\n",
    "        self.imaginary = imaginary\n",
    "        \n",
    "    def magnitude(self):\n",
    "        \"\"\" Returns a float which is the magnitude (that is, the absolute value) of the complex number \n",
    "        \n",
    "            This method is something we introduce by ourselves, according to the definition:\n",
    "            https://en.wikipedia.org/wiki/Complex_number#Absolute_value_and_argument\n",
    "        \"\"\"\n",
    "        return math.sqrt(self.real**2 + self.imaginary**2)\n",
    "        \n",
    "    def __str__(self): \n",
    "        \"\"\" Returns a string representation of the object, overriding default Python behaviour. \"\"\"\n",
    "        return str(self.real) + \" + \" + str(self.imaginary) + \"i\"\n",
    "\n",
    "\n",
    "class ComplexNumberTest(unittest.TestCase):\n",
    "    \"\"\" Test cases for ComplexNumber\n",
    "\n",
    "         Note this is a *completely* separated class from ComplexNumber and\n",
    "         we declare it here just for testing purposes!\n",
    "         The 'self' you see here have nothing to do with the selfs from the\n",
    "         ComplexNumber methods!        \n",
    "    \"\"\"\n",
    "        \n",
    "    def test_init(self):\n",
    "        self.assertEqual(ComplexNumber(1,2).real, 1)        \n",
    "        self.assertEqual(ComplexNumber(1,2).imaginary, 2)\n",
    "\n",
    "    def test_magnitude(self):\n",
    "        \"\"\" \n",
    "            Notice we can't use assertEqual, as the result of magnitude() is a \n",
    "            float number which may have floating point rounding errors. So it's\n",
    "            necessary to use assertAlmostEqual\n",
    "            As an option with the delta you can declare the precision you require.\n",
    "            For more info see Python docs: \n",
    "            https://docs.python.org/2/library/unittest.html#unittest.TestCase.assertAlmostEqual\n",
    "            \n",
    "            NOTE: assertEqual might still work on your machine but just DO NOT use it \n",
    "            for float numbers!!!\n",
    "        \"\"\"\n",
    "        # self.assertEqual(ComplexNumber(3.0,4.0).magnitude(),5)  \n",
    "        self.assertAlmostEqual(ComplexNumber(3.0,4.0).magnitude(),5, delta=0.001)        \n",
    "        \n",
    "    def test_str(self):        \n",
    "        self.assertEqual(str(ComplexNumber(1,2)), \"1 + 2i\")        \n",
    "        #self.assertEqual(str(ComplexNumber(1,0)), \"1\")\n",
    "        #self.assertEqual(str(ComplexNumber(1.0,0)), \"1.0\")\n",
    "        #self.assertEqual(str(ComplexNumber(0,1)), \"i\")\n",
    "        #self.assertEqual(str(ComplexNumber(0,0)), \"0\")    "
   ]
  },
  {
   "cell_type": "code",
   "execution_count": 21,
   "metadata": {
    "collapsed": false
   },
   "outputs": [
    {
     "name": "stderr",
     "output_type": "stream",
     "text": [
      "...\n",
      "----------------------------------------------------------------------\n",
      "Ran 3 tests in 0.005s\n",
      "\n",
      "OK\n"
     ]
    }
   ],
   "source": [
    "algolab.run(ComplexNumberTest)"
   ]
  },
  {
   "cell_type": "markdown",
   "metadata": {},
   "source": [
    "Once the `__init__` method is defined, we can create a ComplexNumber with a call like 'ComplexNumber(3,5)'\n",
    "\n",
    "\n",
    "Notice in the constructor call we *do not* pass anything as `self` parameter (after all, we are creating the object)\n"
   ]
  },
  {
   "cell_type": "code",
   "execution_count": 22,
   "metadata": {
    "collapsed": false
   },
   "outputs": [],
   "source": [
    "my_complex = ComplexNumber(3,5)"
   ]
  },
  {
   "cell_type": "markdown",
   "metadata": {},
   "source": [
    "We can now try to use one of the methods we defined:"
   ]
  },
  {
   "cell_type": "code",
   "execution_count": 23,
   "metadata": {
    "collapsed": false
   },
   "outputs": [
    {
     "name": "stdout",
     "output_type": "stream",
     "text": [
      "5.83095189485\n"
     ]
    }
   ],
   "source": [
    "mag = my_complex.magnitude()\n",
    "print mag"
   ]
  },
  {
   "cell_type": "markdown",
   "metadata": {},
   "source": [
    "We can also pretty print the whole complex number. Internally, `print` function will look if the `ComplexNumber` has defined an `__str__` method. If so, it will pass to the method the instance `my_complex` as the first argument , which in our methods will end up in the  `self` parameter:"
   ]
  },
  {
   "cell_type": "code",
   "execution_count": 24,
   "metadata": {
    "collapsed": false
   },
   "outputs": [
    {
     "name": "stdout",
     "output_type": "stream",
     "text": [
      "3 + 5i\n"
     ]
    }
   ],
   "source": [
    "print my_complex"
   ]
  },
  {
   "cell_type": "markdown",
   "metadata": {},
   "source": [
    "Ok, now we are ready to define our own stuff."
   ]
  },
  {
   "cell_type": "markdown",
   "metadata": {},
   "source": [
    "### Complex numbers equality\n",
    "\n",
    "<img src=\"img/complex-numbers-equality.png\">\n",
    "\n",
    "\n",
    "Here we will try to give you a glimpse of some aspectes related to Python equality, and trying to respect interfaces when overriding methods. Equality can be a nasty subject, here we will treat it in a simplified form.\n",
    "\n",
    "* Can you try to implement equality for ComplexNumber more or less as it was done for Fraction in theory slides?\n",
    "\n",
    "    use \n",
    "    ```python\n",
    "        def __eq__(self, other):\n",
    "    ```\n",
    "\n",
    "    and write some tests as well!\n",
    "\n",
    "* Beware  'equality' is tricky in Python for float numbers! Rule of thumb: when overriding `__eq__`, use 'dumb' equality, two things are the same only if their parts are literally equal    \n",
    "* If instead you need to determine if two objects are similar, define other 'closeness' functions.\n",
    "* (Non mandatory read) if you are interested in the gory details of equality, see\n",
    "    * <a href=\"http://jcalderone.livejournal.com/32837.html\" target=\"_blank\">How to Override comparison operators in Python</a>\n",
    "    *  <a href=\"http://www.asmeurer.com/blog/posts/what-happens-when-you-mess-with-hashing-in-python/\" target=\"_blank\">Messing with hashing </a>\n",
    "\n",
    "Use this simple test case to check for equality:\n",
    "\n",
    "```python\n",
    "    def test_integer_equality(self):\n",
    "        \"\"\"\n",
    "            Note all other tests depend on this test !\n",
    "            \n",
    "            We want also to test the constructor, so in c we set stuff by hand    \n",
    "        \"\"\"\n",
    "        c = ComplexNumber(0,0)\n",
    "        c.real = 1       \n",
    "        c.imaginary = 2        \n",
    "        self.assertEquals(c, ComplexNumber(1,2))     \n",
    "```        "
   ]
  },
  {
   "cell_type": "markdown",
   "metadata": {},
   "source": [
    "### Complex numbers addition\n",
    "\n",
    "<img src=\"img/complex-numbers-addition.png\">\n",
    "\n",
    "* Can you try to implement addition for ComplexNumber more or less as it was done for Fraction in theory slides?\n",
    "Write some tests as well!\n",
    "\n",
    "* `a` and `c` correspond to `real`, `b` and `d` correspond to `imaginary`\n",
    "\n",
    "\n",
    "\n",
    "use \n",
    "\n",
    "```python\n",
    "def __add__(self, other):\n",
    "```\n",
    "    \n",
    "    "
   ]
  },
  {
   "cell_type": "code",
   "execution_count": 25,
   "metadata": {
    "collapsed": true
   },
   "outputs": [],
   "source": [
    "import unittest\n",
    "\n",
    "class ComplexNumberTest(unittest.TestCase):\n",
    "\n",
    "    def test_add(self):\n",
    "        assertEquals(ComplexNumber(1,2) + ComplexNumber(3,4), ComplexNumber(3,6));\n"
   ]
  },
  {
   "cell_type": "markdown",
   "metadata": {},
   "source": [
    "### Adding a scalar\n",
    "\n",
    "We defined addition among ComplexNumbers,  but what about addition among a ComplexNumber and an `int` or a `float`? \n",
    "\n",
    "Will this work? \n",
    "\n",
    "```python\n",
    "ComplexNumber(3,4) + 5\n",
    "```\n",
    "\n",
    "What about this?\n",
    "\n",
    "```python\n",
    "ComplexNumber(3,4) + 5.0\n",
    "```\n",
    "\n",
    "Try to add the following method to your class, and check if it does work with the scalar:"
   ]
  },
  {
   "cell_type": "code",
   "execution_count": 26,
   "metadata": {
    "collapsed": true
   },
   "outputs": [],
   "source": [
    "    def __add__(self, other): \n",
    "         # checks other object is instance of the class ComplexNumber\n",
    "        if isinstance(other, ComplexNumber): \n",
    "            return ComplexNumber(self.real + other.real,self.imaginary + other.imaginary)\n",
    "        \n",
    "        # else checks the basic type of other is int or float \n",
    "        elif type(other) is int or type(other) is float:  \n",
    "            return ComplexNumber(self.real + other, self.imaginary)\n",
    "        \n",
    "        # other is of some type we don't know how to process. \n",
    "        # In this case the Python specs say we MUST return 'NotImplemented'\n",
    "        else:\n",
    "            return NotImplemented"
   ]
  },
  {
   "cell_type": "markdown",
   "metadata": {},
   "source": [
    "Hopefully now you have a better add. But what about this? Will this work?\n",
    "\n",
    "```python\n",
    "5 + ComplexNumber(3,4)\n",
    "```\n",
    "\n",
    "Answer: it won't, Python needs further instructions. Usually Python tries to see if the class of the object on left of the expression defines addition for operands _to the right_ of it. In this case on the left we have a `float` number, and float numbers don't define any way to deal to the right with your very own `ComplexNumber` class. So as a last resort Python tries to see if your `ComplexNumber` class has defined also a way to deal with operands _to the left_ of the `ComplexNumber`, by looking for the method  `__radd__` , which means _reverse addition_ . Here we implement it :\n",
    "    \n",
    "```python    \n",
    "    def __radd__(self, other):\n",
    "        \"\"\" Returns the result of expressions like    other + self      \"\"\"\n",
    "        if (type(other) is int or type(other) is float):\n",
    "            return ComplexNumber(self.real + other, self.imaginary)\n",
    "        else:\n",
    "            return NotImplemented\n",
    "```        "
   ]
  },
  {
   "cell_type": "markdown",
   "metadata": {},
   "source": [
    "To check it is working and everything is in order for addition, add these test cases:\n",
    "    \n",
    "```python\n",
    "\n",
    "    def test_add_zero(self):\n",
    "        self.assertEquals(ComplexNumber(1,2) + ComplexNumber(0,0), ComplexNumber(1,2));\n",
    "        \n",
    "    def test_add_numbers(self):        \n",
    "        self.assertEquals(ComplexNumber(1,2) + ComplexNumber(3,4), ComplexNumber(4,6));        \n",
    "\n",
    "    def test_add_scalar_right(self):        \n",
    "        self.assertEquals(ComplexNumber(1,2) + 3, ComplexNumber(4,2));        \n",
    "\n",
    "    def test_add_scalar_left(self):        \n",
    "        self.assertEquals(3 + ComplexNumber(1,2), ComplexNumber(4,2));        \n",
    "        \n",
    "    def test_add_negative(self):\n",
    "        self.assertEquals(ComplexNumber(-1,0) + ComplexNumber(0,-1), ComplexNumber(-1,-1));\n",
    "```"
   ]
  },
  {
   "cell_type": "markdown",
   "metadata": {},
   "source": [
    "### Complex numbers multiplication\n",
    "\n",
    "<img src=\"img/complex-numbers-multiplication.png\">\n",
    "\n",
    "* Can you try to implement multiplication for ComplexNumber more or less as it was done for Fraction in theory slides?\n",
    "* Can you extend multiplication to wor with scalars (both left and right) as well?\n",
    "\n",
    "\n",
    "use \n",
    "```python\n",
    "def __mul__(self, other):\n",
    "```\n",
    "\n",
    "Use these test cases: \n",
    "\n",
    "```python\n",
    "    def test_mul_by_zero(self):\n",
    "        self.assertEquals(ComplexNumber(0,0) * ComplexNumber(1,2), ComplexNumber(0,0));\n",
    "        \n",
    "    def test_mul_just_real(self):\n",
    "        self.assertEquals(ComplexNumber(1,0) * ComplexNumber(2,0), ComplexNumber(2,0));\n",
    "\n",
    "    def test_mul_just_imaginary(self):\n",
    "        self.assertEquals(ComplexNumber(0,1) * ComplexNumber(0,2), ComplexNumber(-2,0));        \n",
    "\n",
    "    def test_mul_scalar_right(self):\n",
    "        self.assertEquals(ComplexNumber(1,2) * 3, ComplexNumber(3,6));\n",
    "\n",
    "    def test_mul_scalar_left(self):\n",
    "        self.assertEquals(3 * ComplexNumber(1,2), ComplexNumber(3,6));   \n",
    "```"
   ]
  },
  {
   "cell_type": "markdown",
   "metadata": {},
   "source": [
    "# Data Structures Solutions"
   ]
  },
  {
   "cell_type": "markdown",
   "metadata": {},
   "source": [
    "## ComplexNumber Solution"
   ]
  },
  {
   "cell_type": "code",
   "execution_count": 27,
   "metadata": {
    "collapsed": false
   },
   "outputs": [],
   "source": [
    "import unittest\n",
    "\n",
    "class ComplexNumber:\n",
    "\n",
    "    def __init__(self, real, imaginary):\n",
    "        self.real = real\n",
    "        self.imaginary = imaginary\n",
    "\n",
    "    def __str__(self):\n",
    "        return str(self.real) + \" + \" + str(self.imaginary) + \"i\"\n",
    "        \n",
    "    def __eq__(self, other): \n",
    "        return self.real == other.real  and self.imaginary == other.imaginary\n",
    "\n",
    "    def __add__(self, other): \n",
    "        if isinstance(other, ComplexNumber): \n",
    "            return ComplexNumber(self.real + other.real,self.imaginary + other.imaginary)\n",
    "        elif type(other) is int or type(other) is float:\n",
    "            return ComplexNumber(self.real + other, self.imaginary)\n",
    "        else:\n",
    "            return NotImplemented\n",
    "        \n",
    "\n",
    "    def __radd__(self, other): \n",
    "        if (type(other) is int or type(other) is float):\n",
    "            return ComplexNumber(self.real + other, self.imaginary)\n",
    "        else:\n",
    "            return NotImplemented\n",
    "    \n",
    "    \n",
    "    def __mul__(self, other): \n",
    "        \n",
    "        if isinstance(other, ComplexNumber): \n",
    "            return ComplexNumber(self.real * other.real - self.imaginary * other.imaginary,\n",
    "                                 self.imaginary * other.real + self.real * other.imaginary)\n",
    "        elif type(other) is int or type(other) is float:\n",
    "            return ComplexNumber(self.real * other, self.imaginary * other)\n",
    "        else:\n",
    "            return NotImplemented\n",
    "\n",
    "    def __rmul__(self, other):\n",
    "        if (type(other) is int or type(other) is float):\n",
    "            return ComplexNumber(self.real * other, self.imaginary * other)\n",
    "        else:\n",
    "            return NotImplemented\n",
    "                                \n",
    "\n",
    "class ComplexNumberTest(unittest.TestCase):\n",
    "\n",
    "    \n",
    "    def test_integer_equality(self):\n",
    "        \"\"\"\n",
    "            Note all other tests depend on this test !\n",
    "            \n",
    "            We want also to test the constructor, so in c we set stuff by hand    \n",
    "        \"\"\"\n",
    "        c = ComplexNumber(0,0)\n",
    "        c.real = 1       \n",
    "        c.imaginary = 2        \n",
    "        self.assertEquals(c, ComplexNumber(1,2))    \n",
    "        \n",
    "    def test_add_zero(self):\n",
    "        self.assertEquals(ComplexNumber(1,2) + ComplexNumber(0,0), ComplexNumber(1,2));\n",
    "        \n",
    "    def test_add_numbers(self):        \n",
    "        self.assertEquals(ComplexNumber(1,2) + ComplexNumber(3,4), ComplexNumber(4,6));        \n",
    "\n",
    "    def test_add_scalar_right(self):        \n",
    "        self.assertEquals(ComplexNumber(1,2) + 3, ComplexNumber(4,2));        \n",
    "\n",
    "    def test_add_scalar_left(self):        \n",
    "        self.assertEquals(3 + ComplexNumber(1,2), ComplexNumber(4,2));        \n",
    "        \n",
    "    def test_add_negative(self):\n",
    "        self.assertEquals(ComplexNumber(-1,0) + ComplexNumber(0,-1), ComplexNumber(-1,-1));\n",
    "\n",
    "    def test_mul_by_zero(self):\n",
    "        self.assertEquals(ComplexNumber(0,0) * ComplexNumber(1,2), ComplexNumber(0,0));\n",
    "        \n",
    "    def test_mul_just_real(self):\n",
    "        self.assertEquals(ComplexNumber(1,0) * ComplexNumber(2,0), ComplexNumber(2,0));\n",
    "\n",
    "    def test_mul_just_imaginary(self):\n",
    "        self.assertEquals(ComplexNumber(0,1) * ComplexNumber(0,2), ComplexNumber(-2,0));        \n",
    "\n",
    "    def test_mul_scalar_right(self):\n",
    "        self.assertEquals(ComplexNumber(1,2) * 3, ComplexNumber(3,6));\n",
    "\n",
    "    def test_mul_scalar_left(self):\n",
    "        self.assertEquals(3 * ComplexNumber(1,2), ComplexNumber(3,6));        \n",
    "\n",
    "        \n",
    "    "
   ]
  },
  {
   "cell_type": "code",
   "execution_count": 28,
   "metadata": {
    "collapsed": false,
    "scrolled": true
   },
   "outputs": [
    {
     "name": "stderr",
     "output_type": "stream",
     "text": [
      "...........\n",
      "----------------------------------------------------------------------\n",
      "Ran 11 tests in 0.028s\n",
      "\n",
      "OK\n"
     ]
    }
   ],
   "source": [
    "algolab.run(ComplexNumberTest)"
   ]
  },
  {
   "cell_type": "markdown",
   "metadata": {},
   "source": [
    "# Next lab\n",
    "\n",
    "24 Nov 9.00 - 11.00"
   ]
  },
  {
   "cell_type": "code",
   "execution_count": 29,
   "metadata": {
    "collapsed": false
   },
   "outputs": [
    {
     "data": {
      "text/html": [
       "<script>\n",
       "var algolab = {\n",
       "    \n",
       "    isReduced : function(){\n",
       "        return $(window).width() < 924;\n",
       "    },\n",
       "    hoverToc : function(){\n",
       "        return $('#algolab-toc:hover').length != 0;\n",
       "    },\n",
       "    resize : function(){\n",
       "        if (algolab.isReduced()){\n",
       "            $(\"#algolab-toc\").hide();\n",
       "        } else {\n",
       "            $(\"#algolab-toc\").show();\n",
       "            $(\"#algolab-toc\").css(\"background\",\"rgba(255, 255, 255, 0)\");\n",
       "        }\n",
       "    },\n",
       "    hideCellStartingWith : function(text){\n",
       "        $('.border-box-sizing .code_cell pre').filter(function() { \n",
       "                return $(this).text().indexOf(text) === 0; \n",
       "            }).parents('div .cell').hide();        \n",
       "    }\n",
       "}\n",
       "\n",
       "$( window ).resize(function() {\n",
       "    console.log(\"Resizing window !\");\n",
       "    algolab.resize();\n",
       "});\n",
       "\n",
       "\n",
       "$(\"body\").on(\"mousemove\",function(event) {\n",
       "    if (algolab.isReduced()){\n",
       "        if (event.pageX < 50) {            \n",
       "             $(\"#algolab-toc\").show(); \n",
       "            $(\"#algolab-toc\").css(\"background\",\"rgba(255, 255, 255, 1.0)\");\n",
       "        } else {\n",
       "            \n",
       "            if (algolab.hoverToc()) {                    \n",
       "            } else {\n",
       "                $(\"#algolab-toc\").hide();                        \n",
       "            }\n",
       "                     \n",
       "/*            if ($(\"#algolab-toc\").is(\":visible\")){\n",
       "                if (algolab.hoverToc()) {                    \n",
       "                } else {\n",
       "                    $(\"#algolab-toc\").hide();                        \n",
       "                }\n",
       "            } else {\n",
       "                if (algolab.hoverToc())\n",
       "                  show\n",
       "              } else {\n",
       "                $(\"#algolab-toc\").hide();                        \n",
       "               }                 \n",
       "            }\n",
       "  */     \n",
       "        }\n",
       "    }\n",
       "});\n",
       "algolab.hideCellStartingWith(\"%%HTML\");\n",
       "algolab.hideCellStartingWith(\"import algolab\");\n",
       "\n",
       "$(document).ready(algolab.resize);\n",
       "</script>"
      ],
      "text/plain": [
       "<IPython.core.display.HTML object>"
      ]
     },
     "metadata": {},
     "output_type": "display_data"
    }
   ],
   "source": [
    "%%HTML\n",
    "<script>\n",
    "var algolab = {\n",
    "    \n",
    "    isReduced : function(){\n",
    "        return $(window).width() < 924;\n",
    "    },\n",
    "    hoverToc : function(){\n",
    "        return $('#algolab-toc:hover').length != 0;\n",
    "    },\n",
    "    resize : function(){\n",
    "        if (algolab.isReduced()){\n",
    "            $(\"#algolab-toc\").hide();\n",
    "        } else {\n",
    "            $(\"#algolab-toc\").show();\n",
    "            $(\"#algolab-toc\").css(\"background\",\"rgba(255, 255, 255, 0)\");\n",
    "        }\n",
    "    },\n",
    "    hideCellStartingWith : function(text){\n",
    "        $('.border-box-sizing .code_cell pre').filter(function() { \n",
    "                return $(this).text().indexOf(text) === 0; \n",
    "            }).parents('div .cell').hide();        \n",
    "    }\n",
    "}\n",
    "\n",
    "$( window ).resize(function() {\n",
    "    console.log(\"Resizing window !\");\n",
    "    algolab.resize();\n",
    "});\n",
    "\n",
    "\n",
    "$(\"body\").on(\"mousemove\",function(event) {\n",
    "    if (algolab.isReduced()){\n",
    "        if (event.pageX < 50) {            \n",
    "             $(\"#algolab-toc\").show(); \n",
    "            $(\"#algolab-toc\").css(\"background\",\"rgba(255, 255, 255, 1.0)\");\n",
    "        } else {\n",
    "            \n",
    "            if (algolab.hoverToc()) {                    \n",
    "            } else {\n",
    "                $(\"#algolab-toc\").hide();                        \n",
    "            }\n",
    "                     \n",
    "/*            if ($(\"#algolab-toc\").is(\":visible\")){\n",
    "                if (algolab.hoverToc()) {                    \n",
    "                } else {\n",
    "                    $(\"#algolab-toc\").hide();                        \n",
    "                }\n",
    "            } else {\n",
    "                if (algolab.hoverToc())\n",
    "                  show\n",
    "              } else {\n",
    "                $(\"#algolab-toc\").hide();                        \n",
    "               }                 \n",
    "            }\n",
    "  */     \n",
    "        }\n",
    "    }\n",
    "});\n",
    "algolab.hideCellStartingWith(\"%%HTML\");\n",
    "algolab.hideCellStartingWith(\"import algolab\");\n",
    "\n",
    "$(document).ready(algolab.resize);\n",
    "</script>"
   ]
  },
  {
   "cell_type": "code",
   "execution_count": null,
   "metadata": {
    "collapsed": true
   },
   "outputs": [],
   "source": []
  }
 ],
 "metadata": {
  "kernelspec": {
   "display_name": "Python 2",
   "language": "python",
   "name": "python2"
  },
  "language_info": {
   "codemirror_mode": {
    "name": "ipython",
    "version": 2
   },
   "file_extension": ".py",
   "mimetype": "text/x-python",
   "name": "python",
   "nbconvert_exporter": "python",
   "pygments_lexer": "ipython2",
   "version": "2.7.11+"
  }
 },
 "nbformat": 4,
 "nbformat_minor": 1
}
