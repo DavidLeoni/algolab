{
 "cells": [
  {
   "cell_type": "markdown",
   "metadata": {
    "collapsed": false
   },
   "source": [
    "\n",
    "<!-- !!!!!!!!!!    NOTICE THE INDEX IN THE CELL BELOW HERE  WILL LOOK INVISIBLE IN JUPYTER  !!!!!!!!!!!!!!!!!   -->\n"
   ]
  },
  {
   "cell_type": "code",
   "execution_count": 2,
   "metadata": {
    "collapsed": false
   },
   "outputs": [],
   "source": [
    "import algolab"
   ]
  },
  {
   "cell_type": "code",
   "execution_count": 3,
   "metadata": {
    "collapsed": false
   },
   "outputs": [
    {
     "data": {
      "text/html": [
       "<style>\n",
       "\n",
       "    #algolab-nav {\n",
       "        position: fixed;\n",
       "        top: 10px; \n",
       "        left: 5px; \n",
       "        background: white;\n",
       "        width: 200px; \n",
       "        padding: 10px; \n",
       "        z-index: 10;\n",
       "    }\n",
       "\n",
       "    /* style=\"background: rgba(255, 255, 255, 0);\" class=\"unstyled\" */\n",
       "  \n",
       "    #algolab-toc {\n",
       "        position: fixed;\n",
       "        top: 100px; \n",
       "        left: -55px; \n",
       "        background: rgba(255, 255, 255, 0);\n",
       "        \n",
       "        height: 80%;\n",
       "        width: 200px; \n",
       "        padding: 20px; \n",
       "        z-index: 10;\n",
       "        overflow-y: scroll;        \n",
       "            /* font-size: 50%; */\n",
       "    }\n",
       "    \n",
       "    .algolab-title {\n",
       "        font-size:250%; \n",
       "        font-weight:bold        \n",
       "    }    \n",
       "        \n",
       "    .algolab-warn {    \n",
       "        background-color: #fcf2f2;        \n",
       "        border-left: 5px solid #dfb5b4;\n",
       "        padding: 1.5em;\n",
       "    }    \n",
       "        \n",
       "    \n",
       "    .algolab-important {\n",
       "        background-color: rgba(255, 238, 0, 0.31);\n",
       "        border-left: 5px solid rgba(205, 208, 0, 1.0);\n",
       "        color: #000;        \n",
       "        padding: 1.5em;        \n",
       "    }\n",
       "    \n",
       "    \n",
       "    #algolab-toc ul {                                                                                                                                                                           \n",
       "        list-style-type: none;                                                                                                                                                                 \n",
       "        margin-left: 5px;\n",
       "    }\n",
       "    \n",
       "    #algolab-toc li {        \n",
       "         padding-left: 3px;\n",
       "    }    \n",
       "    \n",
       "    #algolab-toc .h1 {\n",
       "        font-size:110%; \n",
       "        \n",
       "    }\n",
       "    \n",
       "    #algolab-toc .h2 {\n",
       "        font-size:100%; \n",
       "        padding-left:15px;\n",
       "    }\n",
       "\n",
       "    #algolab-toc .h3 {\n",
       "        font-size:100%; \n",
       "        padding-left:25px;\n",
       "    }\n",
       "    \n",
       "    \n",
       "    \n",
       "    #notebook-container {\n",
       "        box-shadow : none;\n",
       "\t-web-kit-box-shadow: none;\n",
       "    }\n",
       "    \n",
       "\n",
       "    #algolab-toc .toc-active {\n",
       "        background: rgba(168, 254, 255, 0.32);\n",
       "    }\n",
       " </style>\n",
       "\n",
       "<script>\n",
       "\n",
       "/*!\n",
       " * toc - jQuery Table of Contents Plugin\n",
       " * v0.3.2\n",
       " * http://projects.jga.me/toc/\n",
       " * copyright Greg Allen 2014\n",
       " * MIT License\n",
       "*/\n",
       "!function(a){a.fn.smoothScroller=function(b){b=a.extend({},a.fn.smoothScroller.defaults,b);var c=a(this);return a(b.scrollEl).animate({scrollTop:c.offset().top-a(b.scrollEl).offset().top-b.offset},b.speed,b.ease,function(){var a=c.attr(\"id\");a.length&&(history.pushState?history.pushState(null,null,\"#\"+a):document.location.hash=a),c.trigger(\"smoothScrollerComplete\")}),this},a.fn.smoothScroller.defaults={speed:400,ease:\"swing\",scrollEl:\"body,html\",offset:0},a(\"body\").on(\"click\",\"[data-smoothscroller]\",function(b){b.preventDefault();var c=a(this).attr(\"href\");0===c.indexOf(\"#\")&&a(c).smoothScroller()})}(jQuery),function(a){var b={};a.fn.toc=function(b){var c,d=this,e=a.extend({},jQuery.fn.toc.defaults,b),f=a(e.container),g=a(e.selectors,f),h=[],i=e.activeClass,j=function(b,c){if(e.smoothScrolling&&\"function\"==typeof e.smoothScrolling){b.preventDefault();var f=a(b.target).attr(\"href\");e.smoothScrolling(f,e,c)}a(\"li\",d).removeClass(i),a(b.target).parent().addClass(i)},k=function(){c&&clearTimeout(c),c=setTimeout(function(){for(var b,c=a(window).scrollTop(),f=Number.MAX_VALUE,g=0,j=0,k=h.length;k>j;j++){var l=Math.abs(h[j]-c);f>l&&(g=j,f=l)}a(\"li\",d).removeClass(i),b=a(\"li:eq(\"+g+\")\",d).addClass(i),e.onHighlight(b)},50)};return e.highlightOnScroll&&(a(window).bind(\"scroll\",k),k()),this.each(function(){var b=a(this),c=a(e.listType);g.each(function(d,f){var g=a(f);h.push(g.offset().top-e.highlightOffset);var i=e.anchorName(d,f,e.prefix);if(f.id!==i){a(\"<span/>\").attr(\"id\",i).insertBefore(g)}var l=a(\"<a/>\").text(e.headerText(d,f,g)).attr(\"href\",\"#\"+i).bind(\"click\",function(c){a(window).unbind(\"scroll\",k),j(c,function(){a(window).bind(\"scroll\",k)}),b.trigger(\"selected\",a(this).attr(\"href\"))}),m=a(\"<li/>\").addClass(e.itemClass(d,f,g,e.prefix)).append(l);c.append(m)}),b.html(c)})},jQuery.fn.toc.defaults={container:\"body\",listType:\"<ul/>\",selectors:\"h1,h2,h3\",smoothScrolling:function(b,c,d){a(b).smoothScroller({offset:c.scrollToOffset}).on(\"smoothScrollerComplete\",function(){d()})},scrollToOffset:0,prefix:\"toc\",activeClass:\"toc-active\",onHighlight:function(){},highlightOnScroll:!0,highlightOffset:100,anchorName:function(c,d,e){if(d.id.length)return d.id;var f=a(d).text().replace(/[^a-z0-9]/gi,\" \").replace(/\\s+/g,\"-\").toLowerCase();if(b[f]){for(var g=2;b[f+g];)g++;f=f+\"-\"+g}return b[f]=!0,e+\"-\"+f},headerText:function(a,b,c){return c.text()},itemClass:function(a,b,c,d){return d+\"-\"+c[0].tagName.toLowerCase()}}}(jQuery);\n",
       "\n",
       "function showthis(url) {\n",
       "    window.open(url, \"pres\", \"toolbar=yes,scrollbars=yes,resizable=yes,top=10,left=400,width=500,height=500\");\n",
       "    return(false);\n",
       "}\n",
       "\n",
       "var algolab = {\n",
       "    \n",
       "    isReduced : function(){\n",
       "        return $(window).width() < 924;\n",
       "    },\n",
       "    hoverToc : function(){\n",
       "        return $('#algolab-toc:hover').length != 0;\n",
       "    },\n",
       "    resize : function(){\n",
       "        if (algolab.isReduced()){\n",
       "            $(\"#algolab-toc\").hide();\n",
       "        } else {\n",
       "            $(\"#algolab-toc\").show();\n",
       "            $(\"#algolab-toc\").css(\"background\",\"rgba(255, 255, 255, 0)\");\n",
       "            \n",
       "            tocParams = {\n",
       "                \n",
       "                'selectors': 'h1,h2,h3', //elements to use as headings\n",
       "                'container': 'body', //element to find all selectors in\n",
       "                'smoothScrolling': true, //enable or disable smooth scrolling on click\n",
       "                 //doesn't work  'prefix': 'algolab-toc', //prefix for anchor tags and class names\n",
       "                //'onHighlight': function(el) {}, //called when a new section is highlighted \n",
       "                'highlightOnScroll': true, //add class to heading that is currently in focus\n",
       "                'highlightOffset': 100, //offset to trigger the next headline\n",
       "                'anchorName': function(i, heading, prefix) { //custom function for anchor name\n",
       "                    return prefix+i;\n",
       "                },\n",
       "                'headerText': function(i, heading, $heading) { //custom function building the header-item text                  \n",
       "                    return $heading.text().replace(\"¶\",\"\");\n",
       "                },\n",
       "                'itemClass': function(i, heading, $heading, prefix) { // custom function for item class\n",
       "                    return $heading[0].tagName.toLowerCase();\n",
       "                }                \n",
       "            }\n",
       "            \n",
       "            $('#algolab-toc').toc(tocParams);\n",
       "        }\n",
       "    },\n",
       "    init : function(){\n",
       "\n",
       "       var toc = $(\"<div>\").attr(\"id\", \"algolab-toc\");              \n",
       "       var back = $(\"<a>\").attr(\"href\",\"index.html\").text(\"Back to Algolab\");\n",
       "       var nav = $(\"<div>\").attr(\"id\", \"algolab-nav\").append(back);\n",
       "        \n",
       "       algolab.hideCellStartingWith(\"%%HTML\");\n",
       "       algolab.hideCellStartingWith(\"import algolab\");      \n",
       "       \n",
       "       algolab.hideCellStartingWith(\"algolab.init()\"); \n",
       "              \n",
       "       if ($(\"#algolab-toc\").length === 0){\n",
       "           $(\"body\").append(toc);       \n",
       "       } else {\n",
       "           $(\"#algolab-toc\").replaceWith(toc);\n",
       "       }\n",
       "       \n",
       "       if ($(\"#algolab-nav\").length === 0){\n",
       "           $(\"body\").append(nav);       \n",
       "       } else {\n",
       "           $(\"#algolab-nav\").replaceWith(nav);\n",
       "       }              \n",
       "       \n",
       "       algolab.resize();\n",
       "    }, \n",
       "    hideCellStartingWith : function(text){\n",
       "        $('.border-box-sizing .code_cell pre').filter(function() { \n",
       "                return $(this).text().indexOf(text) === 0; \n",
       "            }).parents('div .cell').hide();        \n",
       "    }\n",
       "}\n",
       "\n",
       "$( window ).resize(function() {\n",
       "    algolab.resize();\n",
       "});\n",
       "\n",
       "\n",
       "$(\"body\").on(\"mousemove\",function(event) {\n",
       "    if (algolab.isReduced()){\n",
       "        if (event.pageX < 50) {            \n",
       "             $(\"#algolab-toc\").show(); \n",
       "            $(\"#algolab-toc\").css(\"background\",\"rgba(255, 255, 255, 1.0)\");\n",
       "        } else {\n",
       "            \n",
       "            if (algolab.hoverToc()) {                    \n",
       "            } else {\n",
       "                $(\"#algolab-toc\").hide();                        \n",
       "            }\n",
       "                     \n",
       "/*            if ($(\"#algolab-toc\").is(\":visible\")){\n",
       "                if (algolab.hoverToc()) {                    \n",
       "                } else {\n",
       "                    $(\"#algolab-toc\").hide();                        \n",
       "                }\n",
       "            } else {\n",
       "                if (algolab.hoverToc())\n",
       "                  show\n",
       "              } else {\n",
       "                $(\"#algolab-toc\").hide();                        \n",
       "               }                 \n",
       "            }\n",
       "  */     \n",
       "        }\n",
       "    }\n",
       "});\n",
       "\n",
       "$(document).ready(algolab.init);\n",
       "\n",
       "</script>\n"
      ],
      "text/plain": [
       "<IPython.core.display.HTML object>"
      ]
     },
     "execution_count": 3,
     "metadata": {},
     "output_type": "execute_result"
    }
   ],
   "source": [
    "algolab.init()"
   ]
  },
  {
   "cell_type": "markdown",
   "metadata": {},
   "source": [
    "<center>\n",
    "<span class=\"algolab-title\">Algolab Data Structures</span>\n",
    "</center>\n"
   ]
  },
  {
   "cell_type": "markdown",
   "metadata": {},
   "source": [
    "## class ComplexNumber\n",
    "\n",
    "\n",
    "See theory here: http://disi.unitn.it/~montreso/sp/slides/04-strutture.pdf  (First slides until `class Fraction`)\n",
    "\n",
    "\n",
    "**Let's try to define a complex number: **\n",
    "\n",
    "<img src=\"img/complex-numbers-definition.png\">"
   ]
  },
  {
   "cell_type": "markdown",
   "metadata": {},
   "source": [
    "As the `Fraction` class, the `ComplexNumber` holds two values, in this case one for the _real_ part and one for the _imaginary_ one.\n",
    "\n",
    "* Note each method takes as first import `self` argument. `self` will always be a reference to the object itself, and allows accessing its fields and methods\n",
    "* `self` is not a keyword of Python, you could use any name you want for the first parameter, but it is much better to follow conventions and stick using `self` ! \n",
    "* Methods beginning and ending with double underscore '\\__' have often special meaning in Python: if you see such a method around, it means it is overriding some default behaviour of Python"
   ]
  },
  {
   "cell_type": "code",
   "execution_count": 20,
   "metadata": {
    "collapsed": false
   },
   "outputs": [],
   "source": [
    "import unittest\n",
    "import math\n",
    "\n",
    "class ComplexNumber:\n",
    "    \n",
    "    def __init__(self, real, imaginary):\n",
    "        \"\"\" Initializes the complex number with real and imaginary part \"\"\"\n",
    "        self.real = real\n",
    "        self.imaginary = imaginary\n",
    "        \n",
    "    def magnitude(self):\n",
    "        \"\"\" Returns a float which is the magnitude (that is, the absolute value) of the complex number \n",
    "        \n",
    "            This method is something we introduce by ourselves, according to the definition:\n",
    "            https://en.wikipedia.org/wiki/Complex_number#Absolute_value_and_argument\n",
    "        \"\"\"\n",
    "        return math.sqrt(self.real**2 + self.imaginary**2)\n",
    "        \n",
    "    def __str__(self): \n",
    "        \"\"\" Returns a string representation of the object, overriding default Python behaviour. \"\"\"\n",
    "        return str(self.real) + \" + \" + str(self.imaginary) + \"i\"\n",
    "\n",
    "\n",
    "class ComplexNumberTest(unittest.TestCase):\n",
    "    \"\"\" Test cases for ComplexNumber\n",
    "\n",
    "         Note this is a *completely* separated class from ComplexNumber and\n",
    "         we declare it here just for testing purposes!\n",
    "         The 'self' you see here have nothing to do with the selfs from the\n",
    "         ComplexNumber methods!        \n",
    "    \"\"\"\n",
    "        \n",
    "    def test_init(self):\n",
    "        self.assertEqual(ComplexNumber(1,2).real, 1)        \n",
    "        self.assertEqual(ComplexNumber(1,2).imaginary, 2)\n",
    "\n",
    "    def test_magnitude(self):\n",
    "        \"\"\" \n",
    "            Notice we can't use assertEqual, as the result of magnitude() is a \n",
    "            float number which may have floating point rounding errors. So it's\n",
    "            necessary to use assertAlmostEqual\n",
    "            As an option with the delta you can declare the precision you require.\n",
    "            For more info see Python docs: \n",
    "            https://docs.python.org/2/library/unittest.html#unittest.TestCase.assertAlmostEqual\n",
    "            \n",
    "            NOTE: assertEqual might still work on your machine but just DO NOT use it \n",
    "            for float numbers!!!\n",
    "        \"\"\"\n",
    "        # self.assertEqual(ComplexNumber(3.0,4.0).magnitude(),5)  \n",
    "        self.assertAlmostEqual(ComplexNumber(3.0,4.0).magnitude(),5, delta=0.001)        \n",
    "        \n",
    "    def test_str(self):        \n",
    "        self.assertEqual(str(ComplexNumber(1,2)), \"1 + 2i\")        \n",
    "        #self.assertEqual(str(ComplexNumber(1,0)), \"1\")\n",
    "        #self.assertEqual(str(ComplexNumber(1.0,0)), \"1.0\")\n",
    "        #self.assertEqual(str(ComplexNumber(0,1)), \"i\")\n",
    "        #self.assertEqual(str(ComplexNumber(0,0)), \"0\")    "
   ]
  },
  {
   "cell_type": "code",
   "execution_count": 21,
   "metadata": {
    "collapsed": false
   },
   "outputs": [
    {
     "name": "stderr",
     "output_type": "stream",
     "text": [
      "...\n",
      "----------------------------------------------------------------------\n",
      "Ran 3 tests in 0.003s\n",
      "\n",
      "OK\n"
     ]
    }
   ],
   "source": [
    "algolab.run(ComplexNumberTest)"
   ]
  },
  {
   "cell_type": "markdown",
   "metadata": {},
   "source": [
    "Once the `__init__` method is defined, we can create a ComplexNumber with a call like 'ComplexNumber(3,5)'\n",
    "\n",
    "\n",
    "Notice in the constructor call we *do not* pass anything as `self` parameter (after all, we are creating the object)\n"
   ]
  },
  {
   "cell_type": "code",
   "execution_count": 22,
   "metadata": {
    "collapsed": false
   },
   "outputs": [],
   "source": [
    "my_complex = ComplexNumber(3,5)"
   ]
  },
  {
   "cell_type": "markdown",
   "metadata": {},
   "source": [
    "We can now try to use one of the methods we defined:"
   ]
  },
  {
   "cell_type": "code",
   "execution_count": 23,
   "metadata": {
    "collapsed": false
   },
   "outputs": [
    {
     "name": "stdout",
     "output_type": "stream",
     "text": [
      "5.83095189485\n"
     ]
    }
   ],
   "source": [
    "mag = my_complex.magnitude()\n",
    "print mag"
   ]
  },
  {
   "cell_type": "markdown",
   "metadata": {},
   "source": [
    "We can also pretty print the whole complex number. Internally, `print` function will look if the `ComplexNumber` has defined an `__str__` method. If so, it will pass to the method the instance `my_complex` as the first argument , which in our methods will end up in the  `self` parameter:"
   ]
  },
  {
   "cell_type": "code",
   "execution_count": 24,
   "metadata": {
    "collapsed": false
   },
   "outputs": [
    {
     "name": "stdout",
     "output_type": "stream",
     "text": [
      "3 + 5i\n"
     ]
    }
   ],
   "source": [
    "print my_complex"
   ]
  },
  {
   "cell_type": "markdown",
   "metadata": {},
   "source": [
    "Ok, now we are ready to define our own stuff."
   ]
  },
  {
   "cell_type": "markdown",
   "metadata": {},
   "source": [
    "### Complex numbers equality\n",
    "\n",
    "<img src=\"img/complex-numbers-equality.png\">\n",
    "\n",
    "\n",
    "Here we will try to give you a glimpse of some aspectes related to Python equality, and trying to respect interfaces when overriding methods. Equality can be a nasty subject, here we will treat it in a simplified form.\n",
    "\n",
    "* Can you try to implement equality for ComplexNumber more or less as it was done for Fraction in theory slides?\n",
    "\n",
    "    use \n",
    "    ```python\n",
    "        def __eq__(self, other):\n",
    "    ```\n",
    "\n",
    "    and write some tests as well!\n",
    "\n",
    "* Beware  'equality' is tricky in Python for float numbers! Rule of thumb: when overriding `__eq__`, use 'dumb' equality, two things are the same only if their parts are literally equal    \n",
    "* If instead you need to determine if two objects are similar, define other 'closeness' functions.\n",
    "* (Non mandatory read) if you are interested in the gory details of equality, see\n",
    "    * <a href=\"http://jcalderone.livejournal.com/32837.html\" target=\"_blank\">How to Override comparison operators in Python</a>\n",
    "    *  <a href=\"http://www.asmeurer.com/blog/posts/what-happens-when-you-mess-with-hashing-in-python/\" target=\"_blank\">Messing with hashing </a>\n",
    "\n",
    "Use this simple test case to check for equality:\n",
    "\n",
    "```python\n",
    "    def test_integer_equality(self):\n",
    "        \"\"\"\n",
    "            Note all other tests depend on this test !\n",
    "            \n",
    "            We want also to test the constructor, so in c we set stuff by hand    \n",
    "        \"\"\"\n",
    "        c = ComplexNumber(0,0)\n",
    "        c.real = 1       \n",
    "        c.imaginary = 2        \n",
    "        self.assertEquals(c, ComplexNumber(1,2))     \n",
    "```        "
   ]
  },
  {
   "cell_type": "markdown",
   "metadata": {},
   "source": [
    "### Complex numbers addition\n",
    "\n",
    "<img src=\"img/complex-numbers-addition.png\">\n",
    "\n",
    "* Can you try to implement addition for ComplexNumber more or less as it was done for Fraction in theory slides?\n",
    "Write some tests as well!\n",
    "\n",
    "* `a` and `c` correspond to `real`, `b` and `d` correspond to `imaginary`\n",
    "\n",
    "\n",
    "\n",
    "use \n",
    "\n",
    "```python\n",
    "def __add__(self, other):\n",
    "```\n",
    "    \n",
    "    "
   ]
  },
  {
   "cell_type": "code",
   "execution_count": 25,
   "metadata": {
    "collapsed": true
   },
   "outputs": [],
   "source": [
    "import unittest\n",
    "\n",
    "class ComplexNumberTest(unittest.TestCase):\n",
    "\n",
    "    def test_add(self):\n",
    "        assertEquals(ComplexNumber(1,2) + ComplexNumber(3,4), ComplexNumber(3,6));\n"
   ]
  },
  {
   "cell_type": "markdown",
   "metadata": {},
   "source": [
    "### Adding a scalar\n",
    "\n",
    "We defined addition among ComplexNumbers,  but what about addition among a ComplexNumber and an `int` or a `float`? \n",
    "\n",
    "Will this work? \n",
    "\n",
    "```python\n",
    "ComplexNumber(3,4) + 5\n",
    "```\n",
    "\n",
    "What about this?\n",
    "\n",
    "```python\n",
    "ComplexNumber(3,4) + 5.0\n",
    "```\n",
    "\n",
    "Try to add the following method to your class, and check if it does work with the scalar:"
   ]
  },
  {
   "cell_type": "code",
   "execution_count": 26,
   "metadata": {
    "collapsed": true
   },
   "outputs": [],
   "source": [
    "    def __add__(self, other): \n",
    "         # checks other object is instance of the class ComplexNumber\n",
    "        if isinstance(other, ComplexNumber): \n",
    "            return ComplexNumber(self.real + other.real,self.imaginary + other.imaginary)\n",
    "        \n",
    "        # else checks the basic type of other is int or float \n",
    "        elif type(other) is int or type(other) is float:  \n",
    "            return ComplexNumber(self.real + other, self.imaginary)\n",
    "        \n",
    "        # other is of some type we don't know how to process. \n",
    "        # In this case the Python specs say we MUST return 'NotImplemented'\n",
    "        else:\n",
    "            return NotImplemented"
   ]
  },
  {
   "cell_type": "markdown",
   "metadata": {},
   "source": [
    "Hopefully now you have a better add. But what about this? Will this work?\n",
    "\n",
    "```python\n",
    "5 + ComplexNumber(3,4)\n",
    "```\n",
    "\n",
    "Answer: it won't, Python needs further instructions. Usually Python tries to see if the class of the object on left of the expression defines addition for operands _to the right_ of it. In this case on the left we have a `float` number, and float numbers don't define any way to deal to the right with your very own `ComplexNumber` class. So as a last resort Python tries to see if your `ComplexNumber` class has defined also a way to deal with operands _to the left_ of the `ComplexNumber`, by looking for the method  `__radd__` , which means _reverse addition_ . Here we implement it :\n",
    "    \n",
    "```python    \n",
    "    def __radd__(self, other):\n",
    "        \"\"\" Returns the result of expressions like    other + self      \"\"\"\n",
    "        if (type(other) is int or type(other) is float):\n",
    "            return ComplexNumber(self.real + other, self.imaginary)\n",
    "        else:\n",
    "            return NotImplemented\n",
    "```        "
   ]
  },
  {
   "cell_type": "markdown",
   "metadata": {},
   "source": [
    "To check it is working and everything is in order for addition, add these test cases:\n",
    "    \n",
    "```python\n",
    "\n",
    "    def test_add_zero(self):\n",
    "        self.assertEquals(ComplexNumber(1,2) + ComplexNumber(0,0), ComplexNumber(1,2));\n",
    "        \n",
    "    def test_add_numbers(self):        \n",
    "        self.assertEquals(ComplexNumber(1,2) + ComplexNumber(3,4), ComplexNumber(4,6));        \n",
    "\n",
    "    def test_add_scalar_right(self):        \n",
    "        self.assertEquals(ComplexNumber(1,2) + 3, ComplexNumber(4,2));        \n",
    "\n",
    "    def test_add_scalar_left(self):        \n",
    "        self.assertEquals(3 + ComplexNumber(1,2), ComplexNumber(4,2));        \n",
    "        \n",
    "    def test_add_negative(self):\n",
    "        self.assertEquals(ComplexNumber(-1,0) + ComplexNumber(0,-1), ComplexNumber(-1,-1));\n",
    "```"
   ]
  },
  {
   "cell_type": "markdown",
   "metadata": {},
   "source": [
    "### Complex numbers multiplication\n",
    "\n",
    "<img src=\"img/complex-numbers-multiplication.png\">\n",
    "\n",
    "* Can you try to implement multiplication for ComplexNumber more or less as it was done for Fraction in theory slides?\n",
    "* Can you extend multiplication to wor with scalars (both left and right) as well?\n",
    "\n",
    "\n",
    "use \n",
    "```python\n",
    "def __mul__(self, other):\n",
    "```\n",
    "\n",
    "Use these test cases: \n",
    "\n",
    "```python\n",
    "    def test_mul_by_zero(self):\n",
    "        self.assertEquals(ComplexNumber(0,0) * ComplexNumber(1,2), ComplexNumber(0,0));\n",
    "        \n",
    "    def test_mul_just_real(self):\n",
    "        self.assertEquals(ComplexNumber(1,0) * ComplexNumber(2,0), ComplexNumber(2,0));\n",
    "\n",
    "    def test_mul_just_imaginary(self):\n",
    "        self.assertEquals(ComplexNumber(0,1) * ComplexNumber(0,2), ComplexNumber(-2,0));        \n",
    "\n",
    "    def test_mul_scalar_right(self):\n",
    "        self.assertEquals(ComplexNumber(1,2) * 3, ComplexNumber(3,6));\n",
    "\n",
    "    def test_mul_scalar_left(self):\n",
    "        self.assertEquals(3 * ComplexNumber(1,2), ComplexNumber(3,6));   \n",
    "```"
   ]
  },
  {
   "cell_type": "markdown",
   "metadata": {},
   "source": [
    "# Solutions"
   ]
  },
  {
   "cell_type": "markdown",
   "metadata": {},
   "source": [
    "## ComplexNumber Solution"
   ]
  },
  {
   "cell_type": "code",
   "execution_count": 27,
   "metadata": {
    "collapsed": false
   },
   "outputs": [],
   "source": [
    "import unittest\n",
    "\n",
    "class ComplexNumber:\n",
    "\n",
    "    def __init__(self, real, imaginary):\n",
    "        self.real = real\n",
    "        self.imaginary = imaginary\n",
    "\n",
    "    def __str__(self):\n",
    "        return str(self.real) + \" + \" + str(self.imaginary) + \"i\"\n",
    "        \n",
    "    def __eq__(self, other): \n",
    "        return self.real == other.real  and self.imaginary == other.imaginary\n",
    "\n",
    "    def __add__(self, other): \n",
    "        if isinstance(other, ComplexNumber): \n",
    "            return ComplexNumber(self.real + other.real,self.imaginary + other.imaginary)\n",
    "        elif type(other) is int or type(other) is float:\n",
    "            return ComplexNumber(self.real + other, self.imaginary)\n",
    "        else:\n",
    "            return NotImplemented\n",
    "        \n",
    "\n",
    "    def __radd__(self, other): \n",
    "        if (type(other) is int or type(other) is float):\n",
    "            return ComplexNumber(self.real + other, self.imaginary)\n",
    "        else:\n",
    "            return NotImplemented\n",
    "    \n",
    "    \n",
    "    def __mul__(self, other): \n",
    "        \n",
    "        if isinstance(other, ComplexNumber): \n",
    "            return ComplexNumber(self.real * other.real - self.imaginary * other.imaginary,\n",
    "                                 self.imaginary * other.real + self.real * other.imaginary)\n",
    "        elif type(other) is int or type(other) is float:\n",
    "            return ComplexNumber(self.real * other, self.imaginary * other)\n",
    "        else:\n",
    "            return NotImplemented\n",
    "\n",
    "    def __rmul__(self, other):\n",
    "        if (type(other) is int or type(other) is float):\n",
    "            return ComplexNumber(self.real * other, self.imaginary * other)\n",
    "        else:\n",
    "            return NotImplemented\n",
    "                                \n",
    "\n",
    "class ComplexNumberTest(unittest.TestCase):\n",
    "\n",
    "    \n",
    "    def test_integer_equality(self):\n",
    "        \"\"\"\n",
    "            Note all other tests depend on this test !\n",
    "            \n",
    "            We want also to test the constructor, so in c we set stuff by hand    \n",
    "        \"\"\"\n",
    "        c = ComplexNumber(0,0)\n",
    "        c.real = 1       \n",
    "        c.imaginary = 2        \n",
    "        self.assertEquals(c, ComplexNumber(1,2))    \n",
    "        \n",
    "    def test_add_zero(self):\n",
    "        self.assertEquals(ComplexNumber(1,2) + ComplexNumber(0,0), ComplexNumber(1,2));\n",
    "        \n",
    "    def test_add_numbers(self):        \n",
    "        self.assertEquals(ComplexNumber(1,2) + ComplexNumber(3,4), ComplexNumber(4,6));        \n",
    "\n",
    "    def test_add_scalar_right(self):        \n",
    "        self.assertEquals(ComplexNumber(1,2) + 3, ComplexNumber(4,2));        \n",
    "\n",
    "    def test_add_scalar_left(self):        \n",
    "        self.assertEquals(3 + ComplexNumber(1,2), ComplexNumber(4,2));        \n",
    "        \n",
    "    def test_add_negative(self):\n",
    "        self.assertEquals(ComplexNumber(-1,0) + ComplexNumber(0,-1), ComplexNumber(-1,-1));\n",
    "\n",
    "    def test_mul_by_zero(self):\n",
    "        self.assertEquals(ComplexNumber(0,0) * ComplexNumber(1,2), ComplexNumber(0,0));\n",
    "        \n",
    "    def test_mul_just_real(self):\n",
    "        self.assertEquals(ComplexNumber(1,0) * ComplexNumber(2,0), ComplexNumber(2,0));\n",
    "\n",
    "    def test_mul_just_imaginary(self):\n",
    "        self.assertEquals(ComplexNumber(0,1) * ComplexNumber(0,2), ComplexNumber(-2,0));        \n",
    "\n",
    "    def test_mul_scalar_right(self):\n",
    "        self.assertEquals(ComplexNumber(1,2) * 3, ComplexNumber(3,6));\n",
    "\n",
    "    def test_mul_scalar_left(self):\n",
    "        self.assertEquals(3 * ComplexNumber(1,2), ComplexNumber(3,6));        \n",
    "\n",
    "        \n",
    "    "
   ]
  },
  {
   "cell_type": "code",
   "execution_count": 28,
   "metadata": {
    "collapsed": false,
    "scrolled": true
   },
   "outputs": [
    {
     "name": "stderr",
     "output_type": "stream",
     "text": [
      "...........\n",
      "----------------------------------------------------------------------\n",
      "Ran 11 tests in 0.012s\n",
      "\n",
      "OK\n"
     ]
    }
   ],
   "source": [
    "algolab.run(ComplexNumberTest)"
   ]
  }
 ],
 "metadata": {
  "kernelspec": {
   "display_name": "Python 2",
   "language": "python",
   "name": "python2"
  },
  "language_info": {
   "codemirror_mode": {
    "name": "ipython",
    "version": 2
   },
   "file_extension": ".py",
   "mimetype": "text/x-python",
   "name": "python",
   "nbconvert_exporter": "python",
   "pygments_lexer": "ipython2",
   "version": "2.7.11+"
  }
 },
 "nbformat": 4,
 "nbformat_minor": 1
}
