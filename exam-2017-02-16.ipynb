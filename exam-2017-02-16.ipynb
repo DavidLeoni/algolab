{
 "cells": [
  {
   "cell_type": "code",
   "execution_count": 38,
   "metadata": {
    "collapsed": false,
    "deletable": true,
    "editable": true
   },
   "outputs": [
    {
     "data": {
      "text/html": [
       "<style>\n",
       "\n",
       "    #algolab-nav {\n",
       "        position: fixed;\n",
       "        top: 10px; \n",
       "        left: 5px; \n",
       "        background: white;\n",
       "        width: 200px; \n",
       "        padding: 10px; \n",
       "        z-index: 10;\n",
       "    }\n",
       "\n",
       "    /* style=\"background: rgba(255, 255, 255, 0);\" class=\"unstyled\" */\n",
       "  \n",
       "    #algolab-toc {\n",
       "        position: fixed;\n",
       "        top: 100px; \n",
       "        left: -55px; \n",
       "        background: rgba(255, 255, 255, 0);\n",
       "        \n",
       "        height: 80%;\n",
       "        width: 200px; \n",
       "        padding: 20px; \n",
       "        z-index: 10;\n",
       "        overflow-y: scroll;        \n",
       "            /* font-size: 50%; */\n",
       "    }\n",
       "\n",
       "    \n",
       "    \n",
       "    code {\n",
       "        background-color:rgb(245, 249, 249) !important;\n",
       "    }\n",
       "    \n",
       "    \n",
       "    .algolab-nav-item {\n",
       "        font-weight:bold;\n",
       "        font-size:120%  \n",
       "    }\n",
       "    \n",
       "    .algolab-chapter-link {\n",
       "        font-size:150%;\n",
       "        margin-right:15px;        \n",
       "    }\n",
       "    \n",
       "    .algolab-chapter-link a {\n",
       "        text-decoration: none;\n",
       "    }    \n",
       "    \n",
       "    .algolab-title {\n",
       "        font-size:250%; \n",
       "        font-weight:bold        \n",
       "    }    \n",
       "        \n",
       "    .algolab-warn {    \n",
       "        background-color: #fcf2f2;        \n",
       "        border-left: 5px solid #dfb5b4;\n",
       "        padding: 1.5em;\n",
       "        font-weight:bold;\n",
       "        margin-bottom:10px;\n",
       "    }\n",
       "\n",
       "    .algolab-question {    \n",
       "        background-color: rgb(251, 231, 250);\n",
       "        border-left: 5px solid rgb(189, 151, 184);\n",
       "        padding: 1.5em;\n",
       "        font-weight:bold;\n",
       "        margin-bottom:10px;\n",
       "    }\n",
       "        \n",
       "    \n",
       "    .algolab-important {\n",
       "        background-color: rgba(255, 238, 0, 0.31);\n",
       "        border-left: 5px solid rgba(205, 208, 0, 1.0);\n",
       "        color: #000;        \n",
       "        padding: 1.5em;\n",
       "        font-weight:bold;\n",
       "        margin-bottom:10px;\n",
       "    }\n",
       "    \n",
       "    \n",
       "    #algolab-toc ul {                                                                                                                                                                           \n",
       "        list-style-type: none;                                                                                                                                                                 \n",
       "        margin-left: 5px;\n",
       "    }\n",
       "    \n",
       "    #algolab-toc li {        \n",
       "         padding-left: 3px;\n",
       "    }    \n",
       "    \n",
       "    #algolab-toc .h1 {\n",
       "        font-size:110%; \n",
       "        \n",
       "    }\n",
       "    \n",
       "    #algolab-toc .h2 {\n",
       "        font-size:100%; \n",
       "        padding-left:15px;\n",
       "    }\n",
       "\n",
       "    #algolab-toc .h3 {\n",
       "        font-size:100%; \n",
       "        padding-left:25px;\n",
       "    }\n",
       "    \n",
       "    \n",
       "    \n",
       "    #notebook-container {\n",
       "        box-shadow : none;\n",
       "\t-web-kit-box-shadow: none;\n",
       "    }\n",
       "    \n",
       "\n",
       "    #algolab-toc .toc-active {\n",
       "        background: rgba(168, 254, 255, 0.32);\n",
       "    }\n",
       " </style>\n",
       "\n",
       "<script>\n",
       "\n",
       "/*!\n",
       " * toc - jQuery Table of Contents Plugin\n",
       " * v0.3.2\n",
       " * http://projects.jga.me/toc/\n",
       " * copyright Greg Allen 2014\n",
       " * MIT License\n",
       "*/\n",
       "!function(a){a.fn.smoothScroller=function(b){b=a.extend({},a.fn.smoothScroller.defaults,b);var c=a(this);return a(b.scrollEl).animate({scrollTop:c.offset().top-a(b.scrollEl).offset().top-b.offset},b.speed,b.ease,function(){var a=c.attr(\"id\");a.length&&(history.pushState?history.pushState(null,null,\"#\"+a):document.location.hash=a),c.trigger(\"smoothScrollerComplete\")}),this},a.fn.smoothScroller.defaults={speed:400,ease:\"swing\",scrollEl:\"body,html\",offset:0},a(\"body\").on(\"click\",\"[data-smoothscroller]\",function(b){b.preventDefault();var c=a(this).attr(\"href\");0===c.indexOf(\"#\")&&a(c).smoothScroller()})}(jQuery),function(a){var b={};a.fn.toc=function(b){var c,d=this,e=a.extend({},jQuery.fn.toc.defaults,b),f=a(e.container),g=a(e.selectors,f),h=[],i=e.activeClass,j=function(b,c){if(e.smoothScrolling&&\"function\"==typeof e.smoothScrolling){b.preventDefault();var f=a(b.target).attr(\"href\");e.smoothScrolling(f,e,c)}a(\"li\",d).removeClass(i),a(b.target).parent().addClass(i)},k=function(){c&&clearTimeout(c),c=setTimeout(function(){for(var b,c=a(window).scrollTop(),f=Number.MAX_VALUE,g=0,j=0,k=h.length;k>j;j++){var l=Math.abs(h[j]-c);f>l&&(g=j,f=l)}a(\"li\",d).removeClass(i),b=a(\"li:eq(\"+g+\")\",d).addClass(i),e.onHighlight(b)},50)};return e.highlightOnScroll&&(a(window).bind(\"scroll\",k),k()),this.each(function(){var b=a(this),c=a(e.listType);g.each(function(d,f){var g=a(f);h.push(g.offset().top-e.highlightOffset);var i=e.anchorName(d,f,e.prefix);if(f.id!==i){a(\"<span/>\").attr(\"id\",i).insertBefore(g)}var l=a(\"<a/>\").text(e.headerText(d,f,g)).attr(\"href\",\"#\"+i).bind(\"click\",function(c){a(window).unbind(\"scroll\",k),j(c,function(){a(window).bind(\"scroll\",k)}),b.trigger(\"selected\",a(this).attr(\"href\"))}),m=a(\"<li/>\").addClass(e.itemClass(d,f,g,e.prefix)).append(l);c.append(m)}),b.html(c)})},jQuery.fn.toc.defaults={container:\"body\",listType:\"<ul/>\",selectors:\"h1,h2,h3\",smoothScrolling:function(b,c,d){a(b).smoothScroller({offset:c.scrollToOffset}).on(\"smoothScrollerComplete\",function(){d()})},scrollToOffset:0,prefix:\"toc\",activeClass:\"toc-active\",onHighlight:function(){},highlightOnScroll:!0,highlightOffset:100,anchorName:function(c,d,e){if(d.id.length)return d.id;var f=a(d).text().replace(/[^a-z0-9]/gi,\" \").replace(/\\s+/g,\"-\").toLowerCase();if(b[f]){for(var g=2;b[f+g];)g++;f=f+\"-\"+g}return b[f]=!0,e+\"-\"+f},headerText:function(a,b,c){return c.text()},itemClass:function(a,b,c,d){return d+\"-\"+c[0].tagName.toLowerCase()}}}(jQuery);\n",
       "\n",
       "function showthis(url) {\n",
       "    window.open(url, \"pres\", \"toolbar=yes,scrollbars=yes,resizable=yes,top=10,left=400,width=500,height=500\");\n",
       "    return(false);\n",
       "}\n",
       "\n",
       "var algolab = {\n",
       "    \n",
       "    isReduced : function(){\n",
       "        return $(window).width() < 924;\n",
       "    },\n",
       "    hoverToc : function(){\n",
       "        return $('#algolab-toc:hover').length != 0;\n",
       "    },\n",
       "    resize : function(){\n",
       "        if (algolab.isReduced()){\n",
       "            $(\"#algolab-toc\").hide();\n",
       "        } else {\n",
       "            $(\"#algolab-toc\").show();\n",
       "            $(\"#algolab-toc\").css(\"background\",\"rgba(255, 255, 255, 0)\");\n",
       "            \n",
       "            tocParams = {\n",
       "                \n",
       "                'selectors': 'h1,h2,h3', //elements to use as headings\n",
       "                'container': 'body', //element to find all selectors in\n",
       "                'smoothScrolling': true, //enable or disable smooth scrolling on click\n",
       "                 //doesn't work  'prefix': 'algolab-toc', //prefix for anchor tags and class names\n",
       "                //'onHighlight': function(el) {}, //called when a new section is highlighted \n",
       "                'highlightOnScroll': true, //add class to heading that is currently in focus\n",
       "                'highlightOffset': 100, //offset to trigger the next headline\n",
       "                'anchorName': function(i, heading, prefix) { //custom function for anchor name\n",
       "                    return prefix+i;\n",
       "                },\n",
       "                'headerText': function(i, heading, $heading) { //custom function building the header-item text                  \n",
       "                    return $heading.text().replace(\"¶\",\"\");\n",
       "                },\n",
       "                'itemClass': function(i, heading, $heading, prefix) { // custom function for item class\n",
       "                    return $heading[0].tagName.toLowerCase();\n",
       "                }                \n",
       "            }\n",
       "            \n",
       "            $('#algolab-toc').toc(tocParams);\n",
       "        }\n",
       "    },\n",
       "    /**\n",
       "        Hides cell input\n",
       "        \n",
       "        Renamed in 0.19\n",
       "    */    \n",
       "    hideCell : function(prefix){\n",
       "        $('.border-box-sizing .code_cell pre').filter(function() { \n",
       "                return $(this).text().indexOf(prefix) === 0; \n",
       "            }).parents('div .cell .input').hide();        \n",
       "    },\n",
       "    /**\n",
       "        Hides the cell input AND output.\n",
       "        \n",
       "        @since 0.19\n",
       "    */\n",
       "    hideCellAll : function(prefix){        \n",
       "        $('.border-box-sizing .code_cell pre').filter(function() { \n",
       "                return $(this).text().indexOf(prefix) === 0; \n",
       "            }).parents('div .cell ').hide();        \n",
       "    },\n",
       "    \n",
       "    init : function(){\n",
       "\n",
       "       var toc = $(\"<div>\").attr(\"id\", \"algolab-toc\");              \n",
       "       var indexLink = $(\"<a>\")\n",
       "                        .addClass(\"algolab-nav-item\")\n",
       "                        .attr(\"href\",\"index.html#Chapters\")\n",
       "                        .text(\"Algolab\");\n",
       "       \n",
       "       \n",
       "       \n",
       "       var candidateTitleText = $(\".algolab-title\").text();              \n",
       "                                  \n",
       "                    \n",
       "       \n",
       "       var nav = $(\"<div>\")\n",
       "                     .attr(\"id\", \"algolab-nav\")\n",
       "                    .append(indexLink);       \n",
       "       \n",
       "       if (candidateTitleText.length !== 0){\n",
       "\n",
       "           var title = $(\"<span>\")\n",
       "                    .addClass(\"algolab-nav-item\")\n",
       "                    .css(\"padding-left\",\"8px\")\n",
       "                    .text(candidateTitleText);\n",
       "            nav.append(\"<br>\")\n",
       "                .append(\"<br>\")\n",
       "                .append(title);                                \n",
       "        }\n",
       "                     \n",
       "       \n",
       "       algolab.hideCell(\"%%HTML\");\n",
       "       algolab.hideCell(\"import algolab\");      \n",
       "       \n",
       "       algolab.hideCell(\"algolab.init()\"); \n",
       "       algolab.hideCell(\"algolab.show_run(\");\n",
       "       algolab.hideCell(\"nxpd.draw(\");\n",
       "       algolab.hideCellAll(\"algolab.run(\"); \n",
       "              \n",
       "       if ($(\"#algolab-toc\").length === 0){\n",
       "           $(\"body\").append(toc);       \n",
       "       } else {\n",
       "           $(\"#algolab-toc\").replaceWith(toc);\n",
       "       }\n",
       "       \n",
       "       if ($(\"#algolab-nav\").length === 0){\n",
       "           $(\"body\").append(nav);       \n",
       "       } else {\n",
       "           $(\"#algolab-nav\").replaceWith(nav);\n",
       "       }              \n",
       "       \n",
       "       algolab.resize();\n",
       "    }\n",
       "}\n",
       "\n",
       "$( window ).resize(function() {\n",
       "    algolab.resize();\n",
       "});\n",
       "\n",
       "\n",
       "$(\"body\").on(\"mousemove\",function(event) {\n",
       "    if (algolab.isReduced()){\n",
       "        if (event.pageX < 50) {            \n",
       "             $(\"#algolab-toc\").show(); \n",
       "            $(\"#algolab-toc\").css(\"background\",\"rgba(255, 255, 255, 1.0)\");\n",
       "        } else {\n",
       "            \n",
       "            if (algolab.hoverToc()) {                    \n",
       "            } else {\n",
       "                $(\"#algolab-toc\").hide();                        \n",
       "            }\n",
       "                     \n",
       "/*            if ($(\"#algolab-toc\").is(\":visible\")){\n",
       "                if (algolab.hoverToc()) {                    \n",
       "                } else {\n",
       "                    $(\"#algolab-toc\").hide();                        \n",
       "                }\n",
       "            } else {\n",
       "                if (algolab.hoverToc())\n",
       "                  show\n",
       "              } else {\n",
       "                $(\"#algolab-toc\").hide();                        \n",
       "               }                 \n",
       "            }\n",
       "  */     \n",
       "        }\n",
       "    }\n",
       "});\n",
       "\n",
       "$(document).ready(algolab.init);\n",
       "\n",
       "</script>\n"
      ],
      "text/plain": [
       "<IPython.core.display.HTML object>"
      ]
     },
     "execution_count": 38,
     "metadata": {},
     "output_type": "execute_result"
    }
   ],
   "source": [
    "import algolab\n",
    "import sys\n",
    "#sys.path.append('../exams/2017-02-16-lab/solutions')\n",
    "sys.path.append('past-exams/2017-02-16/solutions')\n",
    "import nxpd\n",
    "algolab.init()"
   ]
  },
  {
   "cell_type": "markdown",
   "metadata": {
    "deletable": true,
    "editable": true
   },
   "source": [
    "<center>\n",
    "<span class=\"algolab-title\"> Algolab Exam</span><br/><br/> \n",
    "<span style=\"font-size:20px\"> Scientific Programming Module 2</span> <br/>\n",
    "<span style=\"font-size:20px\"> Algorithms and Data Structures  </span> <br/><br/>\n",
    "<span> Thusday 16th, Feb 2017</span><br/><br/>\n",
    "\n",
    "\n",
    "</center>"
   ]
  },
  {
   "cell_type": "markdown",
   "metadata": {
    "collapsed": true,
    "deletable": true,
    "editable": true
   },
   "source": [
    "# Introduction\n",
    "\n",
    "* Taking part to this exam erases any vote you had before, both lab and theory\n",
    "* If you don't ship or you don't pass this lab part, you lose also the theory part.\n",
    "\n",
    "\n",
    "* Log into your computer in _exam mode_, it should start Ubuntu\n",
    "* To edit the files, you can use any editor of your choice: _Editra_ seems easy to use, you can find it under _Applications->Programming->Editra_. Others could be _GEdit_ (simpler), or _PyCharm_ (more complex).\n",
    "\n",
    "\n",
    "\n",
    "## Allowed material\n",
    "\n",
    "There won't be any internet access. You will only be able to access:\n",
    "\n",
    "* <a href=\"index.html\" target=\"_blank\">Sciprog Algolab worksheets</a>\n",
    "* <a href=\"../montresor/Montresor%20sciprog/cricca.disi.unitn.it/montresor/teaching/scientific-programming/slides/index.html\">Alberto Montresor slides</a>\n",
    "* <a href=\"../teso/disi.unitn.it/_teso/courses/sciprog/index.html\" target=\"_blank\">Stefano Teso docs</a>\n",
    "* Python 2.7 documentation :&nbsp;&nbsp; <a href=\"../python-docs/html/index.html\" target=\"_blank\">html</a>\n",
    "&nbsp;&nbsp;<a href=\"../python-docs/pdf\" target=\"_blank\">pdf</a>\n",
    "    * In particular, <a href=\"../python-docs/html/library/unittest.html\" target=\"_blank\">Unittest docs</a>\n",
    "* The course book _Problem Solving with Algorithms and Data Structures using Python_ &nbsp;&nbsp;<a href=\"../pythonds/index.html\" target=\"_blank\">html</a> &nbsp;&nbsp;&nbsp;<a href=\"../pythonds/ProblemSolvingwithAlgorithmsandDataStructures.pdf\" target=\"_blank\">pdf</a>\n",
    "\n",
    "\n",
    "## Grading\n",
    "\n",
    "\n",
    "* The grade of this lab part will range from 0 to 30. Total grade for the module will be given by the average with the theory part of Alberto Montresor.\n",
    "* Correct implementations with the required complexity grant you full grade.\n",
    "* Partial implementations _might_ still give you a few points. If you just can't solve an exercise,  try to solve it at least for some subcase (i.e. array of fixed size 2) commenting why you did so. \n",
    "* One bonus point can be earned by writing stylish code. You got style if you:\n",
    "\n",
    "    - do not infringe the [Commandments](../algolab/index.html#Commandments)\n",
    "    - write [pythonic code](http://docs.python-guide.org/en/latest/writing/style)\n",
    "    - avoid convoluted code like i.e.\n",
    "\n",
    "        ```\n",
    "        if x > 5:\n",
    "            return True\n",
    "        else:\n",
    "            return False\n",
    "        ```\n",
    "\n",
    "        when you could write just\n",
    "\n",
    "        ```\n",
    "        return x > 5\n",
    "        ```       \n"
   ]
  },
  {
   "cell_type": "code",
   "execution_count": 2,
   "metadata": {
    "collapsed": false,
    "deletable": true,
    "editable": true,
    "scrolled": true
   },
   "outputs": [
    {
     "data": {
      "text/html": [
       "\n",
       "<p class=\"algolab-warn\">\n",
       "\n",
       "!!!!!!!!! WARNING !!!!!!!!!\n",
       "    \n",
       "    <br/>\n",
       "    <br/>\n",
       "!!!!!!!!!  **ONLY** IMPLEMENTATIONS OF THE PROVIDED FUNCTION SIGNATURES WILL BE EVALUATED !!!!!!!!! <br/>    \n",
       "\n",
       "</p>"
      ],
      "text/plain": [
       "<IPython.core.display.HTML object>"
      ]
     },
     "metadata": {},
     "output_type": "display_data"
    }
   ],
   "source": [
    "%%HTML\n",
    "\n",
    "<p class=\"algolab-warn\">\n",
    "\n",
    "!!!!!!!!! WARNING !!!!!!!!!\n",
    "    \n",
    "    <br/>\n",
    "    <br/>\n",
    "!!!!!!!!!  **ONLY** IMPLEMENTATIONS OF THE PROVIDED FUNCTION SIGNATURES WILL BE EVALUATED !!!!!!!!! <br/>    \n",
    "\n",
    "</p>"
   ]
  },
  {
   "cell_type": "markdown",
   "metadata": {
    "deletable": true,
    "editable": true
   },
   "source": [
    "\n",
    "For example, if you are given to implement: \n",
    "\n",
    "```python\n",
    "    def cool_fun(x):\n",
    "        raise Exception(\"TODO implement me\")\n",
    "```\n",
    "\n",
    "and you ship this code:\n",
    "\n",
    "``` python\n",
    "def cool_fun_non_working_trial(x):\n",
    "    # do some absurdity\n",
    "\n",
    "def cool_fun_a_perfectly_working_trial(x):\n",
    "    # a super fast, correct and stylish implementation\n",
    "\n",
    "def cool_fun(x):\n",
    "    raise Exception(\"TODO implement me\")\n",
    "```\n",
    "\n",
    "We will assess only the latter one `cool_fun(x)`, and conclude it doesn't work at all :P   !!!!!!!\n",
    "\n",
    "Still, you are allowed to define any extra helper function you might need. If your `cool_fun(x)` implementation calls some other function you defined like `my_helper` here, it is ok:\n",
    "\n",
    "```python\n",
    "\n",
    "def my_helper(y,z):\n",
    "    # do something useful\n",
    "\n",
    "def cool_fun(x):\n",
    "    my_helper(x,5)\n",
    "    \n",
    "# this will get ignored:\n",
    "def some_trial(x):\n",
    "    # do some absurdity\n",
    "    \n",
    "```\n"
   ]
  },
  {
   "cell_type": "markdown",
   "metadata": {
    "deletable": true,
    "editable": true
   },
   "source": [
    "## What to do\n",
    "\n",
    "\n",
    " In <a href=\"/usr/local/esame\" target=\"_blank\">/usr/local/esame</a> you should find a file named `algolab-17-01-26.zip`. Download it and extract it on your desktop. The content should be like this:\n",
    "\n",
    "```\n",
    "algolab-17-01-26\n",
    "    |- FIRSTNAME-LASTNAME-ID\n",
    "        |- exercise1-slow.py\n",
    "        |- exercise1-fast.py\n",
    "        |- exercise2.py\n",
    "        |- exercise3.py    \n",
    "\n",
    "```\n",
    "\n",
    "2) Check this folder also shows under `/var/exam`. \n",
    "\n",
    "3) Rename `FIRSTNAME-LASTNAME-ID` folder: put your name, lastname an id number, like `john-doe-432432`\n",
    "\n",
    "From now on, you will be editing the files in that folder. At the end of the exam, that is what will be evaluated.\n",
    "\n",
    "4) Edit the files following the instructions in this worksheet for each exercise.\n",
    "    \n"
   ]
  },
  {
   "cell_type": "code",
   "execution_count": 3,
   "metadata": {
    "collapsed": false,
    "deletable": true,
    "editable": true
   },
   "outputs": [
    {
     "data": {
      "text/html": [
       "\n",
       "<p class=\"algolab-warn\">\n",
       "WARNING: <i>DON'T</i> modify function signatures! Just provide the implementation.\n",
       "</p>\n",
       "\n",
       "<p class=\"algolab-warn\">\n",
       "WARNING: <i>DON'T</i> change the existing test methods, just add new ones !!!  You can add as many as you want.\n",
       "</p>\n",
       "\n",
       "<p class=\"algolab-warn\">\n",
       "WARNING: <i>DON'T</i> create other files. If you still do it, they won't be evaluated.\n",
       "</p>\n",
       "\n",
       "<p class=\"algolab-important\">\n",
       "IMPORTANT: Pay close attention to the comments of the functions.\n",
       "</p>\n",
       "\n",
       "<p class=\"algolab-important\">\n",
       "IMPORTANT: if you need to print some debugging information, you <i>are allowed</i> to put extra <code>print</code>\n",
       "    statements in the function bodies.\n",
       "</p>\n",
       "\n",
       "<p class=\"algolab-warn\">\n",
       "WARNING: even if <code>print</code> statements are allowed, be careful with prints that might\n",
       "     break your function, i.e. avoid stuff like this: <code> print 1/0 </code> \n",
       "</p>\n",
       " "
      ],
      "text/plain": [
       "<IPython.core.display.HTML object>"
      ]
     },
     "metadata": {},
     "output_type": "display_data"
    }
   ],
   "source": [
    "%%HTML \n",
    "\n",
    "<p class=\"algolab-warn\">\n",
    "WARNING: <i>DON'T</i> modify function signatures! Just provide the implementation.\n",
    "</p>\n",
    "\n",
    "<p class=\"algolab-warn\">\n",
    "WARNING: <i>DON'T</i> change the existing test methods, just add new ones !!!  You can add as many as you want.\n",
    "</p>\n",
    "\n",
    "<p class=\"algolab-warn\">\n",
    "WARNING: <i>DON'T</i> create other files. If you still do it, they won't be evaluated.\n",
    "</p>\n",
    "\n",
    "<p class=\"algolab-important\">\n",
    "IMPORTANT: Pay close attention to the comments of the functions.\n",
    "</p>\n",
    "\n",
    "<p class=\"algolab-important\">\n",
    "IMPORTANT: if you need to print some debugging information, you <i>are allowed</i> to put extra <code>print</code>\n",
    "    statements in the function bodies.\n",
    "</p>\n",
    "\n",
    "<p class=\"algolab-warn\">\n",
    "WARNING: even if <code>print</code> statements are allowed, be careful with prints that might\n",
    "     break your function, i.e. avoid stuff like this: <code> print 1/0 </code> \n",
    "</p>\n",
    " \n"
   ]
  },
  {
   "cell_type": "markdown",
   "metadata": {
    "deletable": true,
    "editable": true
   },
   "source": [
    "3) Every exercise should take max 25 mins. If it takes longer, leave it and try another exercise.\n"
   ]
  },
  {
   "cell_type": "code",
   "execution_count": 4,
   "metadata": {
    "collapsed": false,
    "deletable": true,
    "editable": true
   },
   "outputs": [
    {
     "data": {
      "text/html": [
       "\n",
       "<p class=\"algolab-warn\">\n",
       "WARNING: MAKE SURE ALL EXERCISE FILES AT LEAST COMPILE !!! <br/> 10 MINS BEFORE THE END \n",
       "    OF THE EXAM I WILL ASK YOU TO DO A FINAL CLEAN UP OF THE CODE \n",
       "</p>"
      ],
      "text/plain": [
       "<IPython.core.display.HTML object>"
      ]
     },
     "metadata": {},
     "output_type": "display_data"
    }
   ],
   "source": [
    "%%HTML\n",
    "\n",
    "<p class=\"algolab-warn\">\n",
    "WARNING: MAKE SURE ALL EXERCISE FILES AT LEAST COMPILE !!! <br/> 10 MINS BEFORE THE END \n",
    "    OF THE EXAM I WILL ASK YOU TO DO A FINAL CLEAN UP OF THE CODE \n",
    "</p>"
   ]
  },
  {
   "cell_type": "markdown",
   "metadata": {
    "deletable": true,
    "editable": true
   },
   "source": [
    "# 1) BoolStack\n",
    "\n",
    "\n",
    "You are given a class `BoolStack` that models a simple stack. This stack is similar to the `CappedStack` you already saw in class, the only differences being:\n",
    "\n",
    "- it can only contain booleans, trying to put other type of values will raise a `ValueError`\n",
    "- trying to `pop` or `peek` an empty stack will raise an `IndexError`\n",
    "- there is no cap"
   ]
  },
  {
   "cell_type": "code",
   "execution_count": 5,
   "metadata": {
    "collapsed": false,
    "deletable": true,
    "editable": true
   },
   "outputs": [],
   "source": [
    "from exercise1_slow_solution import *"
   ]
  },
  {
   "cell_type": "markdown",
   "metadata": {
    "deletable": true,
    "editable": true
   },
   "source": [
    "To create a `BoolStack`, just call it:"
   ]
  },
  {
   "cell_type": "code",
   "execution_count": 6,
   "metadata": {
    "collapsed": false,
    "deletable": true,
    "editable": true
   },
   "outputs": [
    {
     "name": "stdout",
     "output_type": "stream",
     "text": [
      "BoolStack:   elements=[]\n"
     ]
    }
   ],
   "source": [
    "bs = BoolStack()\n",
    "print bs"
   ]
  },
  {
   "cell_type": "code",
   "execution_count": 7,
   "metadata": {
    "collapsed": false,
    "deletable": true,
    "editable": true
   },
   "outputs": [],
   "source": [
    "bs.push(True)"
   ]
  },
  {
   "cell_type": "code",
   "execution_count": 8,
   "metadata": {
    "collapsed": false,
    "deletable": true,
    "editable": true
   },
   "outputs": [
    {
     "name": "stdout",
     "output_type": "stream",
     "text": [
      "BoolStack:   elements=[True]\n"
     ]
    }
   ],
   "source": [
    "print bs"
   ]
  },
  {
   "cell_type": "code",
   "execution_count": 9,
   "metadata": {
    "collapsed": true,
    "deletable": true,
    "editable": true
   },
   "outputs": [],
   "source": [
    "bs.push(False)"
   ]
  },
  {
   "cell_type": "code",
   "execution_count": 10,
   "metadata": {
    "collapsed": false,
    "deletable": true,
    "editable": true
   },
   "outputs": [
    {
     "name": "stdout",
     "output_type": "stream",
     "text": [
      "BoolStack:   elements=[True, False]\n"
     ]
    }
   ],
   "source": [
    "print bs"
   ]
  },
  {
   "cell_type": "code",
   "execution_count": 11,
   "metadata": {
    "collapsed": false,
    "deletable": true,
    "editable": true
   },
   "outputs": [
    {
     "name": "stdout",
     "output_type": "stream",
     "text": [
      "False\n"
     ]
    }
   ],
   "source": [
    "print bs.pop()"
   ]
  },
  {
   "cell_type": "code",
   "execution_count": 12,
   "metadata": {
    "collapsed": false,
    "deletable": true,
    "editable": true
   },
   "outputs": [
    {
     "name": "stdout",
     "output_type": "stream",
     "text": [
      "BoolStack:   elements=[True]\n"
     ]
    }
   ],
   "source": [
    "print bs"
   ]
  },
  {
   "cell_type": "code",
   "execution_count": 13,
   "metadata": {
    "collapsed": false,
    "deletable": true,
    "editable": true
   },
   "outputs": [
    {
     "name": "stdout",
     "output_type": "stream",
     "text": [
      "True\n"
     ]
    }
   ],
   "source": [
    "print bs.pop()"
   ]
  },
  {
   "cell_type": "code",
   "execution_count": 14,
   "metadata": {
    "collapsed": false,
    "deletable": true,
    "editable": true
   },
   "outputs": [
    {
     "name": "stdout",
     "output_type": "stream",
     "text": [
      "BoolStack:   elements=[]\n"
     ]
    }
   ],
   "source": [
    "print bs"
   ]
  },
  {
   "cell_type": "markdown",
   "metadata": {
    "deletable": true,
    "editable": true
   },
   "source": [
    "## 1.0) test `BoolStack`\n",
    "\n",
    "Now start editing the file `exercise1_slow.py`. To check your environment is working fine, try to run the tests for `BoolStackTest`, which contain tests for the already implemented methods `pop`, `push`, etc ...\n",
    "\n",
    "**Notice that  `exercise1_slow` is followed by a dot and test class name: `.BoolStackTest` **\n",
    "\n",
    "```bash\n",
    "\n",
    " python -m unittest exercise1_slow.BoolStackTest\n",
    "\n",
    "```"
   ]
  },
  {
   "cell_type": "code",
   "execution_count": 15,
   "metadata": {
    "collapsed": false,
    "deletable": true,
    "editable": true
   },
   "outputs": [
    {
     "name": "stderr",
     "output_type": "stream",
     "text": [
      "..........\n",
      "----------------------------------------------------------------------\n",
      "Ran 10 tests in 0.012s\n",
      "\n",
      "OK\n"
     ]
    }
   ],
   "source": [
    "algolab.run(BoolStackTest)"
   ]
  },
  {
   "cell_type": "markdown",
   "metadata": {
    "deletable": true,
    "editable": true
   },
   "source": [
    "## 1.1) `true_count`, slow version\n",
    "\n",
    "Implement the `true_count` method inside the class, **just working on this method alone**:\n",
    "\n",
    "```python\n",
    "\n",
    "def true_count(self):\n",
    "    \"\"\" Return the number of elements which are True in O(n), where n is the size of stack.  \"\"\"\n",
    "    \n",
    "    raise Exception(\"TODO IMPLEMENT ME !\")\n",
    "    \n",
    "```\n",
    "\n",
    "**Testing**\n",
    "\n",
    "Once done, running this will run only the tests in `TrueCountTest` class and hopefully they will pass. \n",
    "\n",
    "**Notice that  `exercise1_slow` is followed by a dot and test class name `.TrueCountTest` : **\n",
    "\n",
    "```bash\n",
    "\n",
    " python -m unittest exercise1_slow.TrueCountTest\n",
    "\n",
    "```\n"
   ]
  },
  {
   "cell_type": "code",
   "execution_count": 16,
   "metadata": {
    "collapsed": false,
    "deletable": true,
    "editable": true
   },
   "outputs": [
    {
     "name": "stderr",
     "output_type": "stream",
     "text": [
      "...\n",
      "----------------------------------------------------------------------\n",
      "Ran 3 tests in 0.003s\n",
      "\n",
      "OK\n"
     ]
    }
   ],
   "source": [
    "algolab.run(TrueCountTest)"
   ]
  },
  {
   "cell_type": "markdown",
   "metadata": {
    "deletable": true,
    "editable": true
   },
   "source": [
    "\n",
    "\n",
    "## 1.2) `true_count`, fast version\n",
    "\n",
    "Now start editing the file `exercise1_fast.py`: inside you will find the class `FastBoolStack`. Your goal now is to implement a `true_count` method that works in `O(1)`. To make this possible, you are allowed to add any field you want in the constructor and you can also change any other method you deem necessary (like `push`) . \n",
    "\n",
    "\n",
    "```python\n",
    "    def true_count(self):\n",
    "        \"\"\" Return the number of elements which are True \n",
    "\n",
    "            ***   MUST EXECUTE IN O(1)  ***\n",
    "        \"\"\"\n",
    "        raise Exception(\"TODO IMPLEMENT ME !\")\n",
    "```\n",
    "\n",
    "\n",
    "** Testing **: "
   ]
  },
  {
   "cell_type": "code",
   "execution_count": 17,
   "metadata": {
    "collapsed": false,
    "deletable": true,
    "editable": true
   },
   "outputs": [
    {
     "data": {
      "text/html": [
       "\n",
       "<p class=\"algolab-warn\">\n",
       "WARNING: Since you are going to modify the whole class, make sure tests pass BOTH for <code>FastBoolStackTest</code> AND <code>TrueCountTest</code> !\n",
       "</p>"
      ],
      "text/plain": [
       "<IPython.core.display.HTML object>"
      ]
     },
     "metadata": {},
     "output_type": "display_data"
    }
   ],
   "source": [
    "%%HTML\n",
    "\n",
    "<p class=\"algolab-warn\">\n",
    "WARNING: Since you are going to modify the whole class, make sure tests pass BOTH for <code>FastBoolStackTest</code> AND <code>TrueCountTest</code> !\n",
    "</p>"
   ]
  },
  {
   "cell_type": "markdown",
   "metadata": {
    "deletable": true,
    "editable": true
   },
   "source": [
    "\n",
    "**Tests for `push`, `pop`, etc**: \n",
    "\n",
    "`  python -m unittest exercise1_fast.FastBoolStackTest`\n",
    "\n",
    "**Tests just for `true_count`**:\n",
    "\n",
    "`  python -m unittest exercise1_fast.TrueCountTest`\n"
   ]
  },
  {
   "cell_type": "code",
   "execution_count": 18,
   "metadata": {
    "collapsed": true,
    "deletable": true,
    "editable": true
   },
   "outputs": [],
   "source": [
    "from exercise1_fast_solution import *"
   ]
  },
  {
   "cell_type": "code",
   "execution_count": 19,
   "metadata": {
    "collapsed": false,
    "deletable": true,
    "editable": true
   },
   "outputs": [
    {
     "name": "stderr",
     "output_type": "stream",
     "text": [
      "..........\n",
      "----------------------------------------------------------------------\n",
      "Ran 10 tests in 0.010s\n",
      "\n",
      "OK\n"
     ]
    }
   ],
   "source": [
    "algolab.run(FastBoolStackTest)\n"
   ]
  },
  {
   "cell_type": "code",
   "execution_count": 20,
   "metadata": {
    "collapsed": false,
    "deletable": true,
    "editable": true
   },
   "outputs": [
    {
     "name": "stderr",
     "output_type": "stream",
     "text": [
      "...\n",
      "----------------------------------------------------------------------\n",
      "Ran 3 tests in 0.002s\n",
      "\n",
      "OK\n"
     ]
    }
   ],
   "source": [
    "algolab.run(TrueCountTest)"
   ]
  },
  {
   "cell_type": "markdown",
   "metadata": {
    "deletable": true,
    "editable": true
   },
   "source": [
    "# 2) UnorderedList\n",
    "\n",
    "Start editing file `exercise2.py`, which contains a simplified versioned of the `UnorderedList` we saw in the labs.\n"
   ]
  },
  {
   "cell_type": "code",
   "execution_count": 21,
   "metadata": {
    "collapsed": true,
    "deletable": true,
    "editable": true
   },
   "outputs": [],
   "source": [
    "from exercise2_solution import *"
   ]
  },
  {
   "cell_type": "markdown",
   "metadata": {
    "deletable": true,
    "editable": true
   },
   "source": [
    "\n",
    "## 2.1) `dup_first`\n",
    "\n",
    "Implement the method `dup_first`:\n",
    "\n",
    "```python\n",
    "    def dup_first(self):\n",
    "        \"\"\" Modifies this list by adding a duplicate of first node right after it. \n",
    "        \n",
    "            For example, the list 'a','b','c' should become 'a','a','b','c'.            \n",
    "            An empty list remains unmodified.            \n",
    "\n",
    "            ** DOES NOT RETURN ANYTHING !!! **          \n",
    "\n",
    "        \"\"\"\n",
    "        \n",
    "        raise Exception(\"TODO IMPLEMENT ME !\")\n",
    "```\n",
    "\n",
    "**Testing:** `python -m unittest exercise2.DupFirstTest`"
   ]
  },
  {
   "cell_type": "code",
   "execution_count": 22,
   "metadata": {
    "collapsed": false,
    "deletable": true,
    "editable": true
   },
   "outputs": [
    {
     "name": "stderr",
     "output_type": "stream",
     "text": [
      "......\n",
      "----------------------------------------------------------------------\n",
      "Ran 6 tests in 0.005s\n",
      "\n",
      "OK\n"
     ]
    }
   ],
   "source": [
    "algolab.run(DupFirstTest)"
   ]
  },
  {
   "cell_type": "markdown",
   "metadata": {
    "deletable": true,
    "editable": true
   },
   "source": [
    "## 2.2) `dup_all`\n",
    "\n",
    "Implement the method `dup_all`:\n",
    "\n",
    "```python\n",
    "    def dup_all(self):\n",
    "        \"\"\" Modifies this list by adding a duplicate of each node right after it.\n",
    "        \n",
    "            For example, the list 'a','b','c' should become 'a','a','b','b','c','c'.\n",
    "            An empty list remains unmodified.      \n",
    "            \n",
    "            ** MUST PERFORM IN O(n) WHERE n is the length of the list. **\n",
    "            \n",
    "            ** DOES NOT RETURN ANYTHING !!! **\n",
    "        \"\"\"\n",
    "\n",
    "        raise Exception(\"TODO IMPLEMENT ME !\")\n",
    "```\n",
    "\n",
    "**Testing:** `python -m unittest exercise2.DupAllTest`\n",
    "    "
   ]
  },
  {
   "cell_type": "code",
   "execution_count": 23,
   "metadata": {
    "collapsed": false,
    "deletable": true,
    "editable": true
   },
   "outputs": [
    {
     "name": "stderr",
     "output_type": "stream",
     "text": [
      "......\n",
      "----------------------------------------------------------------------\n",
      "Ran 6 tests in 0.005s\n",
      "\n",
      "OK\n"
     ]
    }
   ],
   "source": [
    "algolab.run(DupAllTest)"
   ]
  },
  {
   "cell_type": "markdown",
   "metadata": {
    "deletable": true,
    "editable": true
   },
   "source": [
    "# 3) DiGraph\n",
    "\n",
    "Now you are going to build some `DiGraph`, by defining functions _external_ to class `DiGraph`."
   ]
  },
  {
   "cell_type": "code",
   "execution_count": 24,
   "metadata": {
    "collapsed": false,
    "deletable": true,
    "editable": true
   },
   "outputs": [
    {
     "data": {
      "text/html": [
       "\n",
       "<p class=\"algolab-warn\" target=\"_blank\">\n",
       "WARNING: To build the graphs, just use the methods you find inside <code>DiGraph</code> class, like <code>add_vertex</code>, \n",
       "    <code>add_edge</code>, etc.\n",
       "</p>"
      ],
      "text/plain": [
       "<IPython.core.display.HTML object>"
      ]
     },
     "metadata": {},
     "output_type": "display_data"
    }
   ],
   "source": [
    "%%HTML\n",
    "\n",
    "<p class=\"algolab-warn\" target=\"_blank\">\n",
    "WARNING: To build the graphs, just use the methods you find inside <code>DiGraph</code> class, like <code>add_vertex</code>, \n",
    "    <code>add_edge</code>, etc.\n",
    "</p>"
   ]
  },
  {
   "cell_type": "markdown",
   "metadata": {
    "deletable": true,
    "editable": true
   },
   "source": [
    "Start editing file `exercise3.py`"
   ]
  },
  {
   "cell_type": "code",
   "execution_count": 25,
   "metadata": {
    "collapsed": false,
    "deletable": true,
    "editable": true
   },
   "outputs": [],
   "source": [
    "from exercise3_solution import *"
   ]
  },
  {
   "cell_type": "markdown",
   "metadata": {
    "deletable": true,
    "editable": true
   },
   "source": [
    "## 3.1) pie\n"
   ]
  },
  {
   "cell_type": "markdown",
   "metadata": {
    "deletable": true,
    "editable": true
   },
   "source": [
    "\n",
    "Implement the function `pie`. Note the function is defined *outside* `DiGraph` class.\n",
    "\n",
    "\n",
    "```python\n",
    "    \"\"\"\n",
    "        Returns a DiGraph with n+1 verteces, displaced like a polygon with a perimeter \n",
    "        of n verteces progressively numbered from 1 to n. \n",
    "        A central vertex numbered zero has outgoing edges to all other verteces.\n",
    "        \n",
    "        For n = 0, return the empty graph.\n",
    "        For n = 1, return vertex zero connected to node 1, and node 1 has a self-loop.\n",
    "        \n",
    "    \"\"\"\n",
    "    raise Exception(\"TODO IMPLEMENT ME !\")\n",
    "```\n",
    "\n",
    "** Testing: ** `python -m unittest exercise3.PieTest`\n",
    "\n"
   ]
  },
  {
   "cell_type": "code",
   "execution_count": 26,
   "metadata": {
    "collapsed": false,
    "deletable": true,
    "editable": true
   },
   "outputs": [
    {
     "name": "stderr",
     "output_type": "stream",
     "text": [
      ".....\n",
      "----------------------------------------------------------------------\n",
      "Ran 5 tests in 0.006s\n",
      "\n",
      "OK\n"
     ]
    }
   ],
   "source": [
    "algolab.run(DiGraphTest)"
   ]
  },
  {
   "cell_type": "code",
   "execution_count": 27,
   "metadata": {
    "collapsed": false,
    "deletable": true,
    "editable": true
   },
   "outputs": [
    {
     "name": "stderr",
     "output_type": "stream",
     "text": [
      ".....\n",
      "----------------------------------------------------------------------\n",
      "Ran 5 tests in 0.005s\n",
      "\n",
      "OK\n"
     ]
    }
   ],
   "source": [
    "algolab.run(PieTest)"
   ]
  },
  {
   "cell_type": "markdown",
   "metadata": {
    "collapsed": false,
    "deletable": true,
    "editable": true
   },
   "source": [
    "** Example usage **:\n",
    "\n",
    "For _n=5_, the function creates this graph:\n"
   ]
  },
  {
   "cell_type": "code",
   "execution_count": 28,
   "metadata": {
    "collapsed": false,
    "deletable": true,
    "editable": true
   },
   "outputs": [
    {
     "name": "stdout",
     "output_type": "stream",
     "text": [
      "\n",
      "0: [1, 2, 3, 4, 5]\n",
      "1: [2]\n",
      "2: [3]\n",
      "3: [4]\n",
      "4: [5]\n",
      "5: [1]\n",
      "\n"
     ]
    }
   ],
   "source": [
    "print pie(5)"
   ]
  },
  {
   "cell_type": "markdown",
   "metadata": {
    "deletable": true,
    "editable": true
   },
   "source": [
    "<img src=\"img/pie.svg\" width=\"250px\">"
   ]
  },
  {
   "cell_type": "markdown",
   "metadata": {
    "deletable": true,
    "editable": true
   },
   "source": [
    "**Degenerate cases**: "
   ]
  },
  {
   "cell_type": "code",
   "execution_count": 29,
   "metadata": {
    "collapsed": false,
    "deletable": true,
    "editable": true
   },
   "outputs": [
    {
     "name": "stdout",
     "output_type": "stream",
     "text": [
      "\n",
      "DiGraph()\n"
     ]
    }
   ],
   "source": [
    "print pie(0)"
   ]
  },
  {
   "cell_type": "code",
   "execution_count": 31,
   "metadata": {
    "collapsed": false,
    "deletable": true,
    "editable": true
   },
   "outputs": [
    {
     "name": "stdout",
     "output_type": "stream",
     "text": [
      "\n",
      "0: [1]\n",
      "1: [1]\n",
      "\n"
     ]
    }
   ],
   "source": [
    "print pie(1)"
   ]
  },
  {
   "cell_type": "code",
   "execution_count": 32,
   "metadata": {
    "collapsed": false,
    "deletable": true,
    "editable": true
   },
   "outputs": [
    {
     "data": {
      "image/png": "[encoded data removed]",
      "text/plain": [
       "<IPython.core.display.Image object>"
      ]
     },
     "execution_count": 32,
     "metadata": {},
     "output_type": "execute_result"
    }
   ],
   "source": [
    "nxpd.draw(algolab.to_nx(pie(1)), show='ipynb')"
   ]
  },
  {
   "cell_type": "markdown",
   "metadata": {
    "deletable": true,
    "editable": true
   },
   "source": [
    "## 3.2) Flux Capacitor\n",
    "\n",
    "A _Flux Capacitor_ is a plutonium-powered device that enables time travelling. During the 80s it was installed on a Delorean car and successfully used to ride humans back and forth across centuries:\n",
    "\n",
    "<img src=\"img/flux-capacitor.jpg\" width=\"200px\">\n",
    "\n",
    "In this exercise you will build a Flux Capacitor model as a Y-shaped `DiGraph`, created according to a parameter `depth`. Here you see examples at different depths:\n"
   ]
  },
  {
   "cell_type": "markdown",
   "metadata": {
    "deletable": true,
    "editable": true
   },
   "source": [
    "<img src=\"img/flux-capacitor.svg\" width=\"700px\">"
   ]
  },
  {
   "cell_type": "markdown",
   "metadata": {
    "deletable": true,
    "editable": true
   },
   "source": [
    "Implement the function `flux`. Note the function is defined *outside* `DiGraph` class:\n",
    "\n",
    "```python\n",
    "def flux(depth):\n",
    "    \"\"\" Returns a DiGraph with 1 + (d * 3) numbered verteces displaced like a Flux Capacitor:\n",
    "\n",
    "        - from a central node numbered 0, three branches depart  \n",
    "        - all edges are directed outward\n",
    "        - on each branch there are 'depth' verteces. \n",
    "                \n",
    "        For example, for depth=2 we get the following graph (suppose arrows point outward):\n",
    "        \n",
    "             4         5\n",
    "              \\       /\n",
    "               1     2\n",
    "                \\   /\n",
    "                  0\n",
    "                  |\n",
    "                  3\n",
    "                  |\n",
    "                  6\n",
    "        \n",
    "    \"\"\"\n",
    "    raise Exception(\"TODO IMPLEMENT ME !\")\n",
    "```    \n",
    "\n"
   ]
  },
  {
   "cell_type": "markdown",
   "metadata": {
    "deletable": true,
    "editable": true
   },
   "source": [
    "**Testing**: `python -m unittest exercise3.FluxTest`"
   ]
  },
  {
   "cell_type": "code",
   "execution_count": 33,
   "metadata": {
    "collapsed": false,
    "deletable": true,
    "editable": true
   },
   "outputs": [
    {
     "name": "stderr",
     "output_type": "stream",
     "text": [
      "....\n",
      "----------------------------------------------------------------------\n",
      "Ran 4 tests in 0.009s\n",
      "\n",
      "OK\n"
     ]
    }
   ],
   "source": [
    "algolab.run(FluxTest)"
   ]
  },
  {
   "cell_type": "markdown",
   "metadata": {
    "collapsed": true,
    "deletable": true,
    "editable": true
   },
   "source": [
    "**Usage examples**"
   ]
  },
  {
   "cell_type": "code",
   "execution_count": 34,
   "metadata": {
    "collapsed": false,
    "deletable": true,
    "editable": true
   },
   "outputs": [
    {
     "name": "stdout",
     "output_type": "stream",
     "text": [
      "\n",
      "DiGraph()\n"
     ]
    }
   ],
   "source": [
    "print flux(0)"
   ]
  },
  {
   "cell_type": "code",
   "execution_count": 35,
   "metadata": {
    "collapsed": false,
    "deletable": true,
    "editable": true
   },
   "outputs": [
    {
     "name": "stdout",
     "output_type": "stream",
     "text": [
      "\n",
      "0: [1, 2, 3]\n",
      "1: []\n",
      "2: []\n",
      "3: []\n",
      "\n"
     ]
    }
   ],
   "source": [
    "print flux(1)"
   ]
  },
  {
   "cell_type": "code",
   "execution_count": 36,
   "metadata": {
    "collapsed": false,
    "deletable": true,
    "editable": true
   },
   "outputs": [
    {
     "name": "stdout",
     "output_type": "stream",
     "text": [
      "\n",
      "0: [1, 2, 3]\n",
      "1: [4]\n",
      "2: [5]\n",
      "3: [6]\n",
      "4: []\n",
      "5: []\n",
      "6: []\n",
      "\n"
     ]
    }
   ],
   "source": [
    "print flux(2)"
   ]
  },
  {
   "cell_type": "code",
   "execution_count": 37,
   "metadata": {
    "collapsed": false,
    "deletable": true,
    "editable": true
   },
   "outputs": [
    {
     "name": "stdout",
     "output_type": "stream",
     "text": [
      "\n",
      "0: [1, 2, 3]\n",
      "1: [4]\n",
      "2: [5]\n",
      "3: [6]\n",
      "4: [7]\n",
      "5: [8]\n",
      "6: [9]\n",
      "7: []\n",
      "8: []\n",
      "9: []\n",
      "\n"
     ]
    }
   ],
   "source": [
    "print flux(3)"
   ]
  },
  {
   "cell_type": "markdown",
   "metadata": {
    "collapsed": true,
    "deletable": true,
    "editable": true
   },
   "source": [
    "\n"
   ]
  }
 ],
 "metadata": {
  "kernelspec": {
   "display_name": "Python 2",
   "language": "python",
   "name": "python2"
  },
  "language_info": {
   "codemirror_mode": {
    "name": "ipython",
    "version": 2
   },
   "file_extension": ".py",
   "mimetype": "text/x-python",
   "name": "python",
   "nbconvert_exporter": "python",
   "pygments_lexer": "ipython2",
   "version": "2.7.12"
  }
 },
 "nbformat": 4,
 "nbformat_minor": 1
}
